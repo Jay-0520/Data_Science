{
 "cells": [
  {
   "cell_type": "markdown",
   "metadata": {
    "deletable": true,
    "editable": true
   },
   "source": [
    "# Assignment 2\n",
    "\n",
    "Before working on this assignment please read these instructions fully. In the submission area, you will notice that you can click the link to **Preview the Grading** for each step of the assignment. This is the criteria that will be used for peer grading. Please familiarize yourself with the criteria before beginning the assignment.\n",
    "\n",
    "An NOAA dataset has been stored in the file `data/C2A2_data/BinnedCsvs_d400/fb441e62df2d58994928907a91895ec62c2c42e6cd075c2700843b89.csv`. This is the dataset to use for this assignment. Note: The data for this assignment comes from a subset of The National Centers for Environmental Information (NCEI) [Daily Global Historical Climatology Network](https://www1.ncdc.noaa.gov/pub/data/ghcn/daily/readme.txt) (GHCN-Daily). The GHCN-Daily is comprised of daily climate records from thousands of land surface stations across the globe.\n",
    "\n",
    "Each row in the assignment datafile corresponds to a single observation.\n",
    "\n",
    "The following variables are provided to you:\n",
    "\n",
    "* **id** : station identification code\n",
    "* **date** : date in YYYY-MM-DD format (e.g. 2012-01-24 = January 24, 2012)\n",
    "* **element** : indicator of element type\n",
    "    * TMAX : Maximum temperature (tenths of degrees C)\n",
    "    * TMIN : Minimum temperature (tenths of degrees C)\n",
    "* **value** : data value for element (tenths of degrees C)\n",
    "\n",
    "For this assignment, you must:\n",
    "\n",
    "1. Read the documentation and familiarize yourself with the dataset, then write some python code which returns a line graph of the record high and record low temperatures by day of the year over the period 2005-2014. The area between the record high and record low temperatures for each day should be shaded.\n",
    "2. Overlay a scatter of the 2015 data for any points (highs and lows) for which the ten year record (2005-2014) record high or record low was broken in 2015.\n",
    "3. Watch out for leap days (i.e. February 29th), it is reasonable to remove these points from the dataset for the purpose of this visualization.\n",
    "4. Make the visual nice! Leverage principles from the first module in this course when developing your solution. Consider issues such as legends, labels, and chart junk.\n",
    "\n",
    "The data you have been given is near **Ann Arbor, Michigan, United States**, and the stations the data comes from are shown on the map below."
   ]
  },
  {
   "cell_type": "code",
   "execution_count": 1,
   "metadata": {
    "collapsed": false,
    "deletable": true,
    "editable": true
   },
   "outputs": [],
   "source": [
    "import matplotlib.pyplot as plt\n",
    "import mplleaflet\n",
    "import pandas as pd\n",
    "\n",
    "def leaflet_plot_stations(binsize, hashid):\n",
    "\n",
    "    df = pd.read_csv('data/C2A2_data/BinSize_d{}.csv'.format(binsize))\n",
    "\n",
    "    station_locations_by_hash = df[df['hash'] == hashid]\n",
    "\n",
    "    lons = station_locations_by_hash['LONGITUDE'].tolist()\n",
    "    lats = station_locations_by_hash['LATITUDE'].tolist()\n",
    "\n",
    "    plt.figure(figsize=(8,8))\n",
    "\n",
    "    plt.scatter(lons, lats, c='r', alpha=0.7, s=200)\n",
    "\n",
    "    return mplleaflet.display()\n",
    "\n",
    "#leaflet_plot_stations(400,'fb441e62df2d58994928907a91895ec62c2c42e6cd075c2700843b89')"
   ]
  },
  {
   "cell_type": "code",
   "execution_count": null,
   "metadata": {
    "collapsed": true,
    "deletable": true,
    "editable": true
   },
   "outputs": [],
   "source": []
  },
  {
   "cell_type": "markdown",
   "metadata": {
    "collapsed": true,
    "deletable": true,
    "editable": true
   },
   "source": [
    "# Restart there"
   ]
  },
  {
   "cell_type": "code",
   "execution_count": 2,
   "metadata": {
    "collapsed": false,
    "deletable": true,
    "editable": true
   },
   "outputs": [],
   "source": [
    "#city_data.sort_values('Date') "
   ]
  },
  {
   "cell_type": "code",
   "execution_count": 38,
   "metadata": {
    "collapsed": false,
    "deletable": true,
    "editable": true
   },
   "outputs": [],
   "source": [
    "import matplotlib.pyplot as plt\n",
    "import mplleaflet\n",
    "import pandas as pd\n",
    "import numpy as np\n",
    "\n",
    "\n",
    "# Load csv file \n",
    "city_data = pd.read_csv('data/C2A2_data/BinnedCsvs_d400/temperature_2004_2005.csv')\n",
    "\n",
    "# Make sure data type in <Date> column is python String  \n",
    "city_data['Date'] = pd.to_datetime(city_data['Date'].astype(str), format='%Y-%m-%d')\n",
    "\n",
    "# Select data from 2005 to 2014\n",
    "dates_2005_2014 = city_data[(city_data['Date']>= '2005-01-01') & (city_data['Date'] <= '2014-12-31')]\n",
    "\n",
    "# Select data for the year 2015\n",
    "dates_2015 = city_data[(city_data['Date']>= '2015-01-01')]\n",
    "\n",
    "# Split dataframes into TMAX and TMIN subsets \n",
    "t_max514 = dates_2005_2014[dates_2005_2014['Element'] == 'TMAX'].copy()\n",
    "t_min514 = dates_2005_2014[dates_2005_2014['Element'] == 'TMIN'].copy()\n",
    "t_max15 = dates_2015[dates_2015['Element'] == 'TMAX'].copy()\n",
    "t_min15 = dates_2015[dates_2015['Element'] == 'TMIN'].copy()\n",
    "\n",
    "# Convert datatime format from MM-DD-YYYY to MM-DD; \n",
    "t_max514['Month_Day']  = t_max514['Date'].apply(lambda x : x.strftime('%m-%d'))\n",
    "t_min514['Month_Day']  = t_min514['Date'].apply(lambda x : x.strftime('%m-%d'))\n",
    "t_max15['Month_Day']  = t_max15['Date'].apply(lambda x : x.strftime('%m-%d'))\n",
    "t_min15['Month_Day']  = t_min15['Date'].apply(lambda x : x.strftime('%m-%d'))\n",
    "\n",
    "# To drop some data points\n",
    "t_max514.drop(t_max514[ t_max514['Month_Day'] == '02-29' ].index, inplace=True)\n",
    "t_min514.drop(t_min514[ t_min514['Month_Day'] == '02-29' ].index, inplace=True)\n",
    "t_max15.drop(t_max15[ t_max15['Month_Day'] == '02-29' ].index, inplace=True)\n",
    "t_min15.drop(t_min15[ t_min15['Month_Day'] == '02-29' ].index, inplace=True)\n",
    "\n",
    "# Group rows based on datatime <MM-DD>, \n",
    "# and find maximum and minimum for record high and record low temperatures, respectively\n",
    "data_max514 = t_max514.groupby(by=\"Month_Day\", as_index=False).agg({ 'Data_Value': np.max })\n",
    "data_min514 = t_min514.groupby(by=\"Month_Day\", as_index=False).agg({ 'Data_Value': np.min })\n",
    "data_max15 = t_max15.groupby(by=\"Month_Day\", as_index=False).agg({ 'Data_Value': np.max })\n",
    "data_min15 = t_min15.groupby(by=\"Month_Day\", as_index=False).agg({ 'Data_Value': np.min })\n",
    "\n",
    "#data_max514 = data_max514.set_index('Month_Day')\n",
    "#data_min514 = data_min514.set_index('Month_Day')\n",
    "#data_max15 = data_max15.set_index('Month_Day')\n",
    "#data_min15 = data_min15.set_index('Month_Day')\n",
    "\n",
    "# Reset indexes for the convenience of plotting later; \n",
    "data_max514 = data_max514.reset_index(drop=True)\n",
    "data_min514 = data_min514.reset_index(drop=True)\n",
    "data_max15 = data_max15.reset_index(drop=True)\n",
    "data_min15 = data_min15.reset_index(drop=True)"
   ]
  },
  {
   "cell_type": "code",
   "execution_count": 46,
   "metadata": {
    "collapsed": false,
    "deletable": true,
    "editable": true
   },
   "outputs": [],
   "source": [
    "# Find record broken data points for year 2015\n",
    "DATA_MAX15 = data_max15[data_max15['Data_Value'] > data_max514['Data_Value']].copy()\n",
    "data_maxVAL15 = DATA_MAX15['Data_Value']\n",
    "data_maxNDX15 = DATA_MAX15.index\n",
    "\n",
    "DATA_MIN15 = data_min15[data_min15['Data_Value'] < data_min514['Data_Value']].copy()\n",
    "data_minVAL15 = DATA_MIN15['Data_Value']\n",
    "data_minNDX15 = DATA_MIN15.index"
   ]
  },
  {
   "cell_type": "code",
   "execution_count": 51,
   "metadata": {
    "collapsed": false,
    "deletable": true,
    "editable": true
   },
   "outputs": [
    {
     "data": {
      "text/plain": [
       "<matplotlib.legend.Legend at 0x7f8b4bf4d7b8>"
      ]
     },
     "execution_count": 51,
     "metadata": {},
     "output_type": "execute_result"
    },
    {
     "data": {
      "image/png": "[encoded data removed]",
      "text/plain": [
       "<matplotlib.figure.Figure at 0x7f8b4942ada0>"
      ]
     },
     "metadata": {},
     "output_type": "display_data"
    }
   ],
   "source": [
    "% matplotlib inline\n",
    "\n",
    "\n",
    "# Plotting the trends using matplotlib\n",
    "# Plot by adding axes\n",
    "\n",
    "fig = plt.figure()\n",
    "ax = fig.add_subplot(111)\n",
    "\n",
    "x = np.arange(len(data_min514.values))\n",
    "\n",
    "dataMIN = data_min514['Data_Value'].tolist()\n",
    "dataMAX = data_max514['Data_Value'].tolist()\n",
    "\n",
    "ax.plot(dataMAX,c='#FF4208',label='2005-2014 Record High')\n",
    "ax.plot(dataMIN,c='#FBC00A',label='2005-2014 Record Low')\n",
    "ax.fill_between(x, dataMIN, dataMAX,color='#BDE3E1')\n",
    "\n",
    "ax.scatter(data_maxNDX15, data_maxVAL15, c='blue',s=10, label='2015 Broken High')\n",
    "ax.scatter(data_minNDX15, data_minVAL15, c='black',s=10,label='2015 Broken Low')\n",
    "\n",
    "ax.set_xlabel('Day')\n",
    "ax.set_ylabel('Temperature $(^\\circ)$')\n",
    "ax.legend()\n",
    "\n",
    "plt.savefig(\"xxx.png\")"
   ]
  },
  {
   "cell_type": "code",
   "execution_count": 19,
   "metadata": {
    "collapsed": false,
    "deletable": true,
    "editable": true
   },
   "outputs": [
    {
     "data": {
      "text/plain": [
       "(329,)"
      ]
     },
     "execution_count": 19,
     "metadata": {},
     "output_type": "execute_result"
    }
   ],
   "source": [
    "data_minNDX15.shape"
   ]
  },
  {
   "cell_type": "code",
   "execution_count": null,
   "metadata": {
    "collapsed": true,
    "deletable": true,
    "editable": true
   },
   "outputs": [],
   "source": []
  }
 ],
 "metadata": {
  "kernelspec": {
   "display_name": "Python 2",
   "language": "python",
   "name": "python2"
  },
  "language_info": {
   "codemirror_mode": {
    "name": "ipython",
    "version": 2
   },
   "file_extension": ".py",
   "mimetype": "text/x-python",
   "name": "python",
   "nbconvert_exporter": "python",
   "pygments_lexer": "ipython2",
   "version": "2.7.13"
  }
 },
 "nbformat": 4,
 "nbformat_minor": 1
}
