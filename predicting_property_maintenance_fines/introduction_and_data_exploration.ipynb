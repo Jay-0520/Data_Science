{
 "cells": [
  {
   "cell_type": "code",
   "execution_count": null,
   "metadata": {
    "collapsed": false,
    "deletable": true,
    "editable": true,
    "scrolled": true
   },
   "outputs": [],
   "source": []
  },
  {
   "cell_type": "markdown",
   "metadata": {
    "deletable": true,
    "editable": true
   },
   "source": [
    "# Background about Blight Violation in Detroit \n",
    "This information is obtained from the link: https://detroitmi.gov/Portals/0/docs/Brochures/DAH/DAH_Citizen_Guide.pdf\n",
    "\n",
    "### What is a Blight Violation? \n",
    "The City of Detroit has ordinances that address how property owners must maintain the exterior of their property. The City issues a blight violation when an owner fails to follow these ordinances. Examples of blight violations that come before the DAH are:\n",
    "* <b>Property Maintenance</b>: Failure to obtain certificate of compliance or rental registration, failure to maintain exterior of property, failure to comply with emergency order, rat harborage and failure to remove snow and ice.\n",
    "* <b>Zoning</b>: Violation of special land use grant, change of use of land without permit, change of use of building without a permit, failure to obtain certificate of maintenance of grant conditions.\n",
    "* <b>Solid Waste & Illegal Dumping</b>: Early or late placement or improper storage of Courville containers, improper set-out during eviction, improper storage of solid, medial or hazardous waste, improper bulk set-out and illegal dumping\n",
    " \n",
    "### Who issues Blight Violation Notices (BVNs)?\n",
    "Blight Violation Notices (BVNs) are written tickets issued by City inspectors, police officers, and other City officials who investigate complaints of blight. Blight violation notices are issued to property owners or those in control of property that is in violation of the City’s anti-blight ordinances. If a blight violation notice is issued, the person or entity in receipt is called a respondent.\n",
    "### What happens when a Blight Violation Notice (BVN) is issued?\n",
    "The written blight violation notice (BVN) received by a respondent will provide a description of the alleged violation and give the hearing date and time. Once a BVN is issued, the following options are available to the respondent who received the BVN:\n",
    "* Admit responsibility and pay the fine and fees before the DAH hearing date; fine is reduced 10% for early payment.\n",
    "* Attend the hearing and contest the blight violation, with or without an attorney.\n",
    "* If a property owner is found responsible at the hearing, the fine and fees imposed must be paid by the hearing date or a 10% penalty is imposed for late payment.\n",
    "\n",
    "### What is the DAH Hearing Process?\n",
    "A respondent who receives a blight violation notice has the right to attend a hearing at the DAH. At the hearing, the respondent may present a defense to the blight violation. DAH hearings are presided over by Administrative Hearing Officers who are licensed Michigan attorneys and independent contractors. At the conclusion of the hearing, the Administrative Hearing Officer will make finding of facts and issue a written Decision and Order and Judgment. A Decision and Order and Judgment issued by the DAH is a state civil judgment and is treated the same as any other state court judgment for enforcement purposes\n",
    "\n",
    "### What if payment is not made?\n",
    "If an individual ignores a blight violation notice and doesn’t appear at the hearing, a Decision and Order and Judgment by Default will be issued finding the respondent responsible for the blight violation. If a respondent fails to pay the amount of the Decision and Order and Judgment, collection actions will be commenced, which may include the garnishment of wages, attachment of bank accounts and assets, and imposition of judgment liens upon real property."
   ]
  },
  {
   "cell_type": "code",
   "execution_count": null,
   "metadata": {
    "collapsed": false,
    "deletable": true,
    "editable": true,
    "scrolled": true
   },
   "outputs": [],
   "source": []
  },
  {
   "cell_type": "markdown",
   "metadata": {
    "deletable": true,
    "editable": true
   },
   "source": [
    "We provide you with two data files for use in training and validating your models: train.csv and test.csv. Each row in these two files corresponds to a single blight ticket, and includes information about when, why, and to whom each ticket was issued. The target variable is compliance, which is True if the ticket was paid early, on time, or within one month of the hearing data, False if the ticket was paid after the hearing date or not at all, and Null if the violator was found not responsible. Compliance, as well as a handful of other variables that will not be available at test-time, are only included in train.csv.\n",
    "\n",
    "<b>Note</b>: All tickets where the violators were found not responsible are not considered during evaluation. They are included in the training set as an additional source of data for visualization, and to enable unsupervised and semi-supervised approaches. However, they are not included in the test set."
   ]
  },
  {
   "cell_type": "markdown",
   "metadata": {
    "deletable": true,
    "editable": true
   },
   "source": [
    "#### Your predictions will be given as the probability that the corresponding blight ticket will be paid on time.\n",
    "\n",
    "####  -------------------------------------------------------------------------------\n",
    "\n",
    "\n",
    "\n"
   ]
  },
  {
   "cell_type": "code",
   "execution_count": 1,
   "metadata": {
    "collapsed": false,
    "deletable": true,
    "editable": true,
    "scrolled": true
   },
   "outputs": [],
   "source": [
    "import numpy as np\n",
    "import pandas as pd"
   ]
  },
  {
   "cell_type": "code",
   "execution_count": 2,
   "metadata": {
    "collapsed": false,
    "deletable": true,
    "editable": true,
    "scrolled": true
   },
   "outputs": [
    {
     "name": "stderr",
     "output_type": "stream",
     "text": [
      "/Users/jingjinghuang/anaconda/lib/python2.7/site-packages/IPython/core/interactiveshell.py:2902: DtypeWarning: Columns (11,12,31) have mixed types. Specify dtype option on import or set low_memory=False.\n",
      "  interactivity=interactivity, compiler=compiler, result=result)\n"
     ]
    }
   ],
   "source": [
    "df = pd.read_csv('train.csv',encoding = \"ISO-8859-1\")"
   ]
  },
  {
   "cell_type": "code",
   "execution_count": 3,
   "metadata": {
    "collapsed": false,
    "deletable": true,
    "editable": true,
    "scrolled": true
   },
   "outputs": [
    {
     "data": {
      "text/html": [
       "<div>\n",
       "<style scoped>\n",
       "    .dataframe tbody tr th:only-of-type {\n",
       "        vertical-align: middle;\n",
       "    }\n",
       "\n",
       "    .dataframe tbody tr th {\n",
       "        vertical-align: top;\n",
       "    }\n",
       "\n",
       "    .dataframe thead th {\n",
       "        text-align: right;\n",
       "    }\n",
       "</style>\n",
       "<table border=\"1\" class=\"dataframe\">\n",
       "  <thead>\n",
       "    <tr style=\"text-align: right;\">\n",
       "      <th></th>\n",
       "      <th>ticket_id</th>\n",
       "      <th>agency_name</th>\n",
       "      <th>inspector_name</th>\n",
       "      <th>violator_name</th>\n",
       "      <th>violation_street_number</th>\n",
       "      <th>violation_street_name</th>\n",
       "      <th>violation_zip_code</th>\n",
       "      <th>mailing_address_str_number</th>\n",
       "      <th>mailing_address_str_name</th>\n",
       "      <th>city</th>\n",
       "      <th>...</th>\n",
       "      <th>clean_up_cost</th>\n",
       "      <th>judgment_amount</th>\n",
       "      <th>payment_amount</th>\n",
       "      <th>balance_due</th>\n",
       "      <th>payment_date</th>\n",
       "      <th>payment_status</th>\n",
       "      <th>collection_status</th>\n",
       "      <th>grafitti_status</th>\n",
       "      <th>compliance_detail</th>\n",
       "      <th>compliance</th>\n",
       "    </tr>\n",
       "  </thead>\n",
       "  <tbody>\n",
       "    <tr>\n",
       "      <th>0</th>\n",
       "      <td>22056</td>\n",
       "      <td>Buildings, Safety Engineering &amp; Env Department</td>\n",
       "      <td>Sims, Martinzie</td>\n",
       "      <td>INVESTMENT INC., MIDWEST MORTGAGE</td>\n",
       "      <td>2900.0</td>\n",
       "      <td>TYLER</td>\n",
       "      <td>NaN</td>\n",
       "      <td>3.0</td>\n",
       "      <td>S. WICKER</td>\n",
       "      <td>CHICAGO</td>\n",
       "      <td>...</td>\n",
       "      <td>0.0</td>\n",
       "      <td>305.0</td>\n",
       "      <td>0.0</td>\n",
       "      <td>305.0</td>\n",
       "      <td>NaN</td>\n",
       "      <td>NO PAYMENT APPLIED</td>\n",
       "      <td>NaN</td>\n",
       "      <td>NaN</td>\n",
       "      <td>non-compliant by no payment</td>\n",
       "      <td>0.0</td>\n",
       "    </tr>\n",
       "    <tr>\n",
       "      <th>1</th>\n",
       "      <td>27586</td>\n",
       "      <td>Buildings, Safety Engineering &amp; Env Department</td>\n",
       "      <td>Williams, Darrin</td>\n",
       "      <td>Michigan, Covenant House</td>\n",
       "      <td>4311.0</td>\n",
       "      <td>CENTRAL</td>\n",
       "      <td>NaN</td>\n",
       "      <td>2959.0</td>\n",
       "      <td>Martin Luther King</td>\n",
       "      <td>Detroit</td>\n",
       "      <td>...</td>\n",
       "      <td>0.0</td>\n",
       "      <td>855.0</td>\n",
       "      <td>780.0</td>\n",
       "      <td>75.0</td>\n",
       "      <td>2005-06-02 00:00:00</td>\n",
       "      <td>PAID IN FULL</td>\n",
       "      <td>NaN</td>\n",
       "      <td>NaN</td>\n",
       "      <td>compliant by late payment within 1 month</td>\n",
       "      <td>1.0</td>\n",
       "    </tr>\n",
       "  </tbody>\n",
       "</table>\n",
       "<p>2 rows × 34 columns</p>\n",
       "</div>"
      ],
      "text/plain": [
       "   ticket_id                                     agency_name  \\\n",
       "0      22056  Buildings, Safety Engineering & Env Department   \n",
       "1      27586  Buildings, Safety Engineering & Env Department   \n",
       "\n",
       "     inspector_name                      violator_name  \\\n",
       "0   Sims, Martinzie  INVESTMENT INC., MIDWEST MORTGAGE   \n",
       "1  Williams, Darrin           Michigan, Covenant House   \n",
       "\n",
       "   violation_street_number violation_street_name  violation_zip_code  \\\n",
       "0                   2900.0                 TYLER                 NaN   \n",
       "1                   4311.0               CENTRAL                 NaN   \n",
       "\n",
       "   mailing_address_str_number mailing_address_str_name     city  ...  \\\n",
       "0                         3.0                S. WICKER  CHICAGO  ...   \n",
       "1                      2959.0       Martin Luther King  Detroit  ...   \n",
       "\n",
       "  clean_up_cost judgment_amount payment_amount balance_due  \\\n",
       "0           0.0           305.0            0.0       305.0   \n",
       "1           0.0           855.0          780.0        75.0   \n",
       "\n",
       "          payment_date      payment_status collection_status grafitti_status  \\\n",
       "0                  NaN  NO PAYMENT APPLIED               NaN             NaN   \n",
       "1  2005-06-02 00:00:00        PAID IN FULL               NaN             NaN   \n",
       "\n",
       "                          compliance_detail  compliance  \n",
       "0               non-compliant by no payment         0.0  \n",
       "1  compliant by late payment within 1 month         1.0  \n",
       "\n",
       "[2 rows x 34 columns]"
      ]
     },
     "execution_count": 3,
     "metadata": {},
     "output_type": "execute_result"
    }
   ],
   "source": [
    "df.head(2)"
   ]
  },
  {
   "cell_type": "markdown",
   "metadata": {
    "deletable": true,
    "editable": true
   },
   "source": [
    "# Feature Selection"
   ]
  },
  {
   "cell_type": "code",
   "execution_count": 4,
   "metadata": {
    "collapsed": true,
    "deletable": true,
    "editable": true,
    "scrolled": true
   },
   "outputs": [],
   "source": [
    "import matplotlib.pyplot as plt\n",
    "import seaborn as sns\n",
    "\n",
    "% matplotlib inline\n",
    "# Partition dataset into compliance and non-compliance groups\n",
    "\n",
    "df_comp    = df[df['compliance'] == 1]\n",
    "df_NOTcomp = df[df['compliance'] == 0]\n",
    "\n",
    "No_NOTcomp = df_NOTcomp.shape[0]\n",
    "No_comp = df_comp.shape[0]"
   ]
  },
  {
   "cell_type": "code",
   "execution_count": 5,
   "metadata": {
    "collapsed": true,
    "deletable": true,
    "editable": true,
    "scrolled": true
   },
   "outputs": [],
   "source": [
    "#df_comp"
   ]
  },
  {
   "cell_type": "code",
   "execution_count": 6,
   "metadata": {
    "collapsed": false,
    "deletable": true,
    "editable": true,
    "scrolled": true
   },
   "outputs": [
    {
     "data": {
      "text/plain": [
       "148283"
      ]
     },
     "execution_count": 6,
     "metadata": {},
     "output_type": "execute_result"
    }
   ],
   "source": [
    "No_NOTcomp"
   ]
  },
  {
   "cell_type": "code",
   "execution_count": 7,
   "metadata": {
    "collapsed": true,
    "deletable": true,
    "editable": true,
    "scrolled": true
   },
   "outputs": [],
   "source": [
    "#df['violation_zip_code']"
   ]
  },
  {
   "cell_type": "code",
   "execution_count": 8,
   "metadata": {
    "collapsed": false,
    "deletable": true,
    "editable": true,
    "scrolled": true
   },
   "outputs": [
    {
     "name": "stdout",
     "output_type": "stream",
     "text": [
      "('violation_zip_code', True    250306\n",
      "Name: violation_zip_code, dtype: int64)\n",
      "('violation_zip_code', False    250306\n",
      "Name: violation_zip_code, dtype: int64)\n"
     ]
    }
   ],
   "source": [
    "# Delete obviously useless features\n",
    "# These features are like: violation_zip_code ; violator_name\n",
    "# violation_street_number\n",
    "\n",
    "print('violation_zip_code', df['violation_zip_code'].isna().value_counts())\n",
    "print('violation_zip_code', df['violation_zip_code'].notna().value_counts())"
   ]
  },
  {
   "cell_type": "code",
   "execution_count": 9,
   "metadata": {
    "collapsed": false,
    "deletable": true,
    "editable": true,
    "scrolled": true
   },
   "outputs": [
    {
     "name": "stdout",
     "output_type": "stream",
     "text": [
      "[u'Buildings, Safety Engineering & Env Department' u'Health Department'\n",
      " u'Department of Public Works' u'Detroit Police Department'\n",
      " u'Neighborhood City Halls']\n"
     ]
    },
    {
     "name": "stderr",
     "output_type": "stream",
     "text": [
      "/Users/jingjinghuang/anaconda/lib/python2.7/site-packages/pandas/core/computation/check.py:19: UserWarning: The installed version of numexpr 2.5.2 is not supported in pandas and will be not be used\n",
      "The minimum supported version is 2.6.1\n",
      "\n",
      "  ver=ver, min_ver=_MIN_NUMEXPR_VERSION), UserWarning)\n"
     ]
    },
    {
     "data": {
      "text/html": [
       "<div>\n",
       "<style scoped>\n",
       "    .dataframe tbody tr th:only-of-type {\n",
       "        vertical-align: middle;\n",
       "    }\n",
       "\n",
       "    .dataframe tbody tr th {\n",
       "        vertical-align: top;\n",
       "    }\n",
       "\n",
       "    .dataframe thead tr th {\n",
       "        text-align: left;\n",
       "    }\n",
       "\n",
       "    .dataframe thead tr:last-of-type th {\n",
       "        text-align: right;\n",
       "    }\n",
       "</style>\n",
       "<table border=\"1\" class=\"dataframe\">\n",
       "  <thead>\n",
       "    <tr>\n",
       "      <th></th>\n",
       "      <th colspan=\"2\" halign=\"left\">compliance</th>\n",
       "    </tr>\n",
       "    <tr>\n",
       "      <th></th>\n",
       "      <th>mean</th>\n",
       "      <th>count</th>\n",
       "    </tr>\n",
       "    <tr>\n",
       "      <th>agency_name</th>\n",
       "      <th></th>\n",
       "      <th></th>\n",
       "    </tr>\n",
       "  </thead>\n",
       "  <tbody>\n",
       "    <tr>\n",
       "      <th>Detroit Police Department</th>\n",
       "      <td>0.131720</td>\n",
       "      <td>4464</td>\n",
       "    </tr>\n",
       "    <tr>\n",
       "      <th>Department of Public Works</th>\n",
       "      <td>0.089961</td>\n",
       "      <td>52445</td>\n",
       "    </tr>\n",
       "    <tr>\n",
       "      <th>Health Department</th>\n",
       "      <td>0.065851</td>\n",
       "      <td>7107</td>\n",
       "    </tr>\n",
       "    <tr>\n",
       "      <th>Buildings, Safety Engineering &amp; Env Department</th>\n",
       "      <td>0.060743</td>\n",
       "      <td>95863</td>\n",
       "    </tr>\n",
       "    <tr>\n",
       "      <th>Neighborhood City Halls</th>\n",
       "      <td>0.000000</td>\n",
       "      <td>1</td>\n",
       "    </tr>\n",
       "  </tbody>\n",
       "</table>\n",
       "</div>"
      ],
      "text/plain": [
       "                                               compliance       \n",
       "                                                     mean  count\n",
       "agency_name                                                     \n",
       "Detroit Police Department                        0.131720   4464\n",
       "Department of Public Works                       0.089961  52445\n",
       "Health Department                                0.065851   7107\n",
       "Buildings, Safety Engineering & Env Department   0.060743  95863\n",
       "Neighborhood City Halls                          0.000000      1"
      ]
     },
     "execution_count": 9,
     "metadata": {},
     "output_type": "execute_result"
    },
    {
     "data": {
      "image/png": "[encoded data removed]",
      "text/plain": [
       "<matplotlib.figure.Figure at 0x118f205d0>"
      ]
     },
     "metadata": {},
     "output_type": "display_data"
    }
   ],
   "source": [
    "# Check the column, agency_name\n",
    "# It seems agency_name is not indicative of compliance \n",
    "\n",
    "fig, (ax1, ax2) = plt.subplots(1, 2)\n",
    "\n",
    "ax1.set_ylim([0, 0.7])\n",
    "ax2.set_ylim([0, 0.7])\n",
    "\n",
    "(df_NOTcomp['agency_name'].value_counts(normalize=False)/No_NOTcomp).plot.bar(ax=ax1, fontsize=5,color='blue')\n",
    "(df_comp['agency_name'].value_counts(normalize=False)/No_comp).plot.bar(ax=ax2, fontsize=5,color='red')\n",
    "\n",
    "print(df['agency_name'].unique())\n",
    "\n",
    "df_filter = df [df['compliance'].notnull()]\n",
    "df_filter = df_filter[['agency_name','compliance']]\n",
    "df_age_name = df_filter.groupby('agency_name').agg(['mean','count']) \n",
    "df_age_name_sort = df_age_name.sort_values(by=[('compliance','mean')],ascending=False)\n",
    "df_age_name_sort[df_age_name_sort[('compliance','count')] > 0].head(5)"
   ]
  },
  {
   "cell_type": "code",
   "execution_count": null,
   "metadata": {
    "collapsed": true,
    "deletable": true,
    "editable": true,
    "scrolled": true
   },
   "outputs": [],
   "source": []
  },
  {
   "cell_type": "code",
   "execution_count": null,
   "metadata": {
    "collapsed": false,
    "deletable": true,
    "editable": true,
    "scrolled": true
   },
   "outputs": [],
   "source": []
  },
  {
   "cell_type": "code",
   "execution_count": 10,
   "metadata": {
    "collapsed": false,
    "deletable": true,
    "editable": true,
    "scrolled": true
   },
   "outputs": [],
   "source": [
    "# some inspectors issue blight tickets that\n",
    "# are more likely to be subject to compliance than others;\n",
    "# these inspectors may be very strict and responsible\n",
    "\n",
    "df_filter = df [df['compliance'].notnull()]\n",
    "df_filter = df_filter[['inspector_name','compliance']]\n",
    "\n",
    "df_inpsectors = df_filter.groupby('inspector_name').agg(['mean','count']) \n",
    "df_inpsectors_sort = df_inpsectors.sort_values(by=[('compliance','mean')],ascending=False)\n",
    "\n",
    "#df_inpsectors_sort[df_inpsectors_sort[('compliance','count')] > 200].head(10)\n",
    "#df_inpsectors_sort[df_inpsectors_sort[('compliance','count')] > 50].tail(5)"
   ]
  },
  {
   "cell_type": "code",
   "execution_count": 11,
   "metadata": {
    "collapsed": false,
    "deletable": true,
    "editable": true
   },
   "outputs": [],
   "source": [
    "#df_inpsectors_sort"
   ]
  },
  {
   "cell_type": "code",
   "execution_count": null,
   "metadata": {
    "collapsed": true,
    "deletable": true,
    "editable": true
   },
   "outputs": [],
   "source": []
  },
  {
   "cell_type": "code",
   "execution_count": 12,
   "metadata": {
    "collapsed": false,
    "deletable": true,
    "editable": true,
    "scrolled": true
   },
   "outputs": [
    {
     "data": {
      "text/html": [
       "<div>\n",
       "<style scoped>\n",
       "    .dataframe tbody tr th:only-of-type {\n",
       "        vertical-align: middle;\n",
       "    }\n",
       "\n",
       "    .dataframe tbody tr th {\n",
       "        vertical-align: top;\n",
       "    }\n",
       "\n",
       "    .dataframe thead tr th {\n",
       "        text-align: left;\n",
       "    }\n",
       "\n",
       "    .dataframe thead tr:last-of-type th {\n",
       "        text-align: right;\n",
       "    }\n",
       "</style>\n",
       "<table border=\"1\" class=\"dataframe\">\n",
       "  <thead>\n",
       "    <tr>\n",
       "      <th></th>\n",
       "      <th colspan=\"2\" halign=\"left\">compliance</th>\n",
       "    </tr>\n",
       "    <tr>\n",
       "      <th></th>\n",
       "      <th>mean</th>\n",
       "      <th>count</th>\n",
       "    </tr>\n",
       "    <tr>\n",
       "      <th>violation_street_name</th>\n",
       "      <th></th>\n",
       "      <th></th>\n",
       "    </tr>\n",
       "  </thead>\n",
       "  <tbody>\n",
       "    <tr>\n",
       "      <th>MICHIGAN AVE</th>\n",
       "      <td>0.176301</td>\n",
       "      <td>346</td>\n",
       "    </tr>\n",
       "    <tr>\n",
       "      <th>EIGHT MILE</th>\n",
       "      <td>0.157641</td>\n",
       "      <td>831</td>\n",
       "    </tr>\n",
       "    <tr>\n",
       "      <th>GRATIOT</th>\n",
       "      <td>0.151796</td>\n",
       "      <td>863</td>\n",
       "    </tr>\n",
       "    <tr>\n",
       "      <th>FORT ST</th>\n",
       "      <td>0.138587</td>\n",
       "      <td>368</td>\n",
       "    </tr>\n",
       "    <tr>\n",
       "      <th>ORLEANS</th>\n",
       "      <td>0.135514</td>\n",
       "      <td>214</td>\n",
       "    </tr>\n",
       "  </tbody>\n",
       "</table>\n",
       "</div>"
      ],
      "text/plain": [
       "                      compliance      \n",
       "                            mean count\n",
       "violation_street_name                 \n",
       "MICHIGAN AVE            0.176301   346\n",
       "EIGHT MILE              0.157641   831\n",
       "GRATIOT                 0.151796   863\n",
       "FORT ST                 0.138587   368\n",
       "ORLEANS                 0.135514   214"
      ]
     },
     "execution_count": 12,
     "metadata": {},
     "output_type": "execute_result"
    }
   ],
   "source": [
    "df_filter = df [df['compliance'].notnull()]\n",
    "df_filter = df_filter[['violation_street_name','compliance']]\n",
    "\n",
    "df_vstr_name = df_filter.groupby('violation_street_name').agg(['mean','count']) \n",
    "df_vstr_name_sort = df_vstr_name.sort_values(by=[('compliance','mean')],ascending=False)\n",
    "\n",
    "df_vstr_name_sort[df_vstr_name_sort[('compliance','count')] > 200].head(5)\n",
    "#df_vstr_name_sort[df_vstr_name_sort[('compliance','count')] > 200].tail(5)"
   ]
  },
  {
   "cell_type": "code",
   "execution_count": 13,
   "metadata": {
    "collapsed": false,
    "deletable": true,
    "editable": true,
    "scrolled": true
   },
   "outputs": [
    {
     "data": {
      "text/html": [
       "<div>\n",
       "<style scoped>\n",
       "    .dataframe tbody tr th:only-of-type {\n",
       "        vertical-align: middle;\n",
       "    }\n",
       "\n",
       "    .dataframe tbody tr th {\n",
       "        vertical-align: top;\n",
       "    }\n",
       "\n",
       "    .dataframe thead tr th {\n",
       "        text-align: left;\n",
       "    }\n",
       "\n",
       "    .dataframe thead tr:last-of-type th {\n",
       "        text-align: right;\n",
       "    }\n",
       "</style>\n",
       "<table border=\"1\" class=\"dataframe\">\n",
       "  <thead>\n",
       "    <tr>\n",
       "      <th></th>\n",
       "      <th colspan=\"2\" halign=\"left\">compliance</th>\n",
       "    </tr>\n",
       "    <tr>\n",
       "      <th></th>\n",
       "      <th>mean</th>\n",
       "      <th>count</th>\n",
       "    </tr>\n",
       "    <tr>\n",
       "      <th>mailing_address_str_name</th>\n",
       "      <th></th>\n",
       "      <th></th>\n",
       "    </tr>\n",
       "  </thead>\n",
       "  <tbody>\n",
       "    <tr>\n",
       "      <th>WOODWARD</th>\n",
       "      <td>0.152466</td>\n",
       "      <td>446</td>\n",
       "    </tr>\n",
       "    <tr>\n",
       "      <th>FENKELL</th>\n",
       "      <td>0.137157</td>\n",
       "      <td>401</td>\n",
       "    </tr>\n",
       "    <tr>\n",
       "      <th>PLYMOUTH</th>\n",
       "      <td>0.124481</td>\n",
       "      <td>241</td>\n",
       "    </tr>\n",
       "    <tr>\n",
       "      <th>GRATIOT</th>\n",
       "      <td>0.120482</td>\n",
       "      <td>498</td>\n",
       "    </tr>\n",
       "    <tr>\n",
       "      <th>SUSSEX</th>\n",
       "      <td>0.115625</td>\n",
       "      <td>320</td>\n",
       "    </tr>\n",
       "  </tbody>\n",
       "</table>\n",
       "</div>"
      ],
      "text/plain": [
       "                         compliance      \n",
       "                               mean count\n",
       "mailing_address_str_name                 \n",
       "WOODWARD                   0.152466   446\n",
       "FENKELL                    0.137157   401\n",
       "PLYMOUTH                   0.124481   241\n",
       "GRATIOT                    0.120482   498\n",
       "SUSSEX                     0.115625   320"
      ]
     },
     "execution_count": 13,
     "metadata": {},
     "output_type": "execute_result"
    }
   ],
   "source": [
    "df_filter = df [df['compliance'].notnull()]\n",
    "df_filter = df_filter[['mailing_address_str_name','compliance']]\n",
    "\n",
    "df_madstr_name = df_filter.groupby('mailing_address_str_name').agg(['mean','count']) \n",
    "df_madstr_name_sort = df_madstr_name.sort_values(by=[('compliance','mean')],ascending=False)\n",
    "\n",
    "df_madstr_name_sort[df_madstr_name_sort[('compliance','count')] > 200].head(5)\n",
    "#df_madstr_name_sort[df_madstr_name_sort[('compliance','count')] > 200].tail(5)"
   ]
  },
  {
   "cell_type": "code",
   "execution_count": null,
   "metadata": {
    "collapsed": false,
    "deletable": true,
    "editable": true,
    "scrolled": true
   },
   "outputs": [],
   "source": []
  },
  {
   "cell_type": "code",
   "execution_count": 14,
   "metadata": {
    "collapsed": false,
    "deletable": true,
    "editable": true,
    "scrolled": true
   },
   "outputs": [
    {
     "data": {
      "text/html": [
       "<div>\n",
       "<style scoped>\n",
       "    .dataframe tbody tr th:only-of-type {\n",
       "        vertical-align: middle;\n",
       "    }\n",
       "\n",
       "    .dataframe tbody tr th {\n",
       "        vertical-align: top;\n",
       "    }\n",
       "\n",
       "    .dataframe thead tr th {\n",
       "        text-align: left;\n",
       "    }\n",
       "\n",
       "    .dataframe thead tr:last-of-type th {\n",
       "        text-align: right;\n",
       "    }\n",
       "</style>\n",
       "<table border=\"1\" class=\"dataframe\">\n",
       "  <thead>\n",
       "    <tr>\n",
       "      <th></th>\n",
       "      <th colspan=\"2\" halign=\"left\">compliance</th>\n",
       "    </tr>\n",
       "    <tr>\n",
       "      <th></th>\n",
       "      <th>mean</th>\n",
       "      <th>count</th>\n",
       "    </tr>\n",
       "    <tr>\n",
       "      <th>ticket_issued_date</th>\n",
       "      <th></th>\n",
       "      <th></th>\n",
       "    </tr>\n",
       "  </thead>\n",
       "  <tbody>\n",
       "    <tr>\n",
       "      <th>2006-04-18 11:00:00</th>\n",
       "      <td>0.933333</td>\n",
       "      <td>15</td>\n",
       "    </tr>\n",
       "    <tr>\n",
       "      <th>2008-04-03 09:00:00</th>\n",
       "      <td>0.923077</td>\n",
       "      <td>13</td>\n",
       "    </tr>\n",
       "    <tr>\n",
       "      <th>2008-04-02 09:00:00</th>\n",
       "      <td>0.750000</td>\n",
       "      <td>16</td>\n",
       "    </tr>\n",
       "    <tr>\n",
       "      <th>2010-01-27 09:00:00</th>\n",
       "      <td>0.636364</td>\n",
       "      <td>11</td>\n",
       "    </tr>\n",
       "    <tr>\n",
       "      <th>2007-01-12 09:30:00</th>\n",
       "      <td>0.600000</td>\n",
       "      <td>15</td>\n",
       "    </tr>\n",
       "  </tbody>\n",
       "</table>\n",
       "</div>"
      ],
      "text/plain": [
       "                    compliance      \n",
       "                          mean count\n",
       "ticket_issued_date                  \n",
       "2006-04-18 11:00:00   0.933333    15\n",
       "2008-04-03 09:00:00   0.923077    13\n",
       "2008-04-02 09:00:00   0.750000    16\n",
       "2010-01-27 09:00:00   0.636364    11\n",
       "2007-01-12 09:30:00   0.600000    15"
      ]
     },
     "execution_count": 14,
     "metadata": {},
     "output_type": "execute_result"
    }
   ],
   "source": [
    "df_filter = df [df['compliance'].notnull()]\n",
    "df_filter = df_filter[['ticket_issued_date','compliance']]\n",
    "\n",
    "df_tiss_date = df_filter.groupby('ticket_issued_date').agg(['mean','count']) \n",
    "df_tiss_date_sort = df_tiss_date.sort_values(by=[('compliance','mean')],ascending=False)\n",
    "\n",
    "df_tiss_date_sort[df_tiss_date_sort[('compliance','count')] > 10].head(5)\n",
    "#df_tiss_date_sort[df_tiss_date_sort[('compliance','count')] > 10].tail(5)"
   ]
  },
  {
   "cell_type": "code",
   "execution_count": 15,
   "metadata": {
    "collapsed": false,
    "deletable": true,
    "editable": true,
    "scrolled": true
   },
   "outputs": [
    {
     "data": {
      "text/html": [
       "<div>\n",
       "<style scoped>\n",
       "    .dataframe tbody tr th:only-of-type {\n",
       "        vertical-align: middle;\n",
       "    }\n",
       "\n",
       "    .dataframe tbody tr th {\n",
       "        vertical-align: top;\n",
       "    }\n",
       "\n",
       "    .dataframe thead tr th {\n",
       "        text-align: left;\n",
       "    }\n",
       "\n",
       "    .dataframe thead tr:last-of-type th {\n",
       "        text-align: right;\n",
       "    }\n",
       "</style>\n",
       "<table border=\"1\" class=\"dataframe\">\n",
       "  <thead>\n",
       "    <tr>\n",
       "      <th></th>\n",
       "      <th colspan=\"2\" halign=\"left\">compliance</th>\n",
       "    </tr>\n",
       "    <tr>\n",
       "      <th></th>\n",
       "      <th>mean</th>\n",
       "      <th>count</th>\n",
       "    </tr>\n",
       "    <tr>\n",
       "      <th>hearing_date</th>\n",
       "      <th></th>\n",
       "      <th></th>\n",
       "    </tr>\n",
       "  </thead>\n",
       "  <tbody>\n",
       "    <tr>\n",
       "      <th>2007-08-07 15:00:00</th>\n",
       "      <td>0.943262</td>\n",
       "      <td>141</td>\n",
       "    </tr>\n",
       "    <tr>\n",
       "      <th>2007-08-07 09:00:00</th>\n",
       "      <td>0.849650</td>\n",
       "      <td>286</td>\n",
       "    </tr>\n",
       "    <tr>\n",
       "      <th>2007-08-07 10:30:00</th>\n",
       "      <td>0.820856</td>\n",
       "      <td>374</td>\n",
       "    </tr>\n",
       "    <tr>\n",
       "      <th>2007-08-07 13:30:00</th>\n",
       "      <td>0.788779</td>\n",
       "      <td>303</td>\n",
       "    </tr>\n",
       "    <tr>\n",
       "      <th>2006-06-27 13:30:00</th>\n",
       "      <td>0.096154</td>\n",
       "      <td>104</td>\n",
       "    </tr>\n",
       "  </tbody>\n",
       "</table>\n",
       "</div>"
      ],
      "text/plain": [
       "                    compliance      \n",
       "                          mean count\n",
       "hearing_date                        \n",
       "2007-08-07 15:00:00   0.943262   141\n",
       "2007-08-07 09:00:00   0.849650   286\n",
       "2007-08-07 10:30:00   0.820856   374\n",
       "2007-08-07 13:30:00   0.788779   303\n",
       "2006-06-27 13:30:00   0.096154   104"
      ]
     },
     "execution_count": 15,
     "metadata": {},
     "output_type": "execute_result"
    }
   ],
   "source": [
    "df_filter = df [df['compliance'].notnull()]\n",
    "df_filter = df_filter[['hearing_date','compliance']]\n",
    "\n",
    "df_hear_date = df_filter.groupby('hearing_date').agg(['mean','count']) \n",
    "df_hear_date_sort = df_hear_date.sort_values(by=[('compliance','mean')],ascending=False)\n",
    "\n",
    "df_hear_date_sort[df_hear_date_sort[('compliance','count')] > 100].head(5)\n",
    "#df_hear_date_sort[df_hear_date_sort[('compliance','count')] > 10].tail(5)"
   ]
  },
  {
   "cell_type": "code",
   "execution_count": 16,
   "metadata": {
    "collapsed": false,
    "deletable": true,
    "editable": true,
    "scrolled": true
   },
   "outputs": [
    {
     "data": {
      "text/html": [
       "<div>\n",
       "<style scoped>\n",
       "    .dataframe tbody tr th:only-of-type {\n",
       "        vertical-align: middle;\n",
       "    }\n",
       "\n",
       "    .dataframe tbody tr th {\n",
       "        vertical-align: top;\n",
       "    }\n",
       "\n",
       "    .dataframe thead tr th {\n",
       "        text-align: left;\n",
       "    }\n",
       "\n",
       "    .dataframe thead tr:last-of-type th {\n",
       "        text-align: right;\n",
       "    }\n",
       "</style>\n",
       "<table border=\"1\" class=\"dataframe\">\n",
       "  <thead>\n",
       "    <tr>\n",
       "      <th></th>\n",
       "      <th colspan=\"2\" halign=\"left\">compliance</th>\n",
       "    </tr>\n",
       "    <tr>\n",
       "      <th></th>\n",
       "      <th>mean</th>\n",
       "      <th>count</th>\n",
       "    </tr>\n",
       "    <tr>\n",
       "      <th>violation_code</th>\n",
       "      <th></th>\n",
       "      <th></th>\n",
       "    </tr>\n",
       "  </thead>\n",
       "  <tbody>\n",
       "    <tr>\n",
       "      <th>22-2-61</th>\n",
       "      <td>0.247875</td>\n",
       "      <td>706</td>\n",
       "    </tr>\n",
       "    <tr>\n",
       "      <th>9-1-111</th>\n",
       "      <td>0.230769</td>\n",
       "      <td>130</td>\n",
       "    </tr>\n",
       "    <tr>\n",
       "      <th>61-81.0100/32.0066</th>\n",
       "      <td>0.166287</td>\n",
       "      <td>439</td>\n",
       "    </tr>\n",
       "    <tr>\n",
       "      <th>9-1-103(C)</th>\n",
       "      <td>0.146157</td>\n",
       "      <td>2641</td>\n",
       "    </tr>\n",
       "    <tr>\n",
       "      <th>22-2-43</th>\n",
       "      <td>0.132425</td>\n",
       "      <td>2054</td>\n",
       "    </tr>\n",
       "  </tbody>\n",
       "</table>\n",
       "</div>"
      ],
      "text/plain": [
       "                   compliance      \n",
       "                         mean count\n",
       "violation_code                     \n",
       "22-2-61              0.247875   706\n",
       "9-1-111              0.230769   130\n",
       "61-81.0100/32.0066   0.166287   439\n",
       "9-1-103(C)           0.146157  2641\n",
       "22-2-43              0.132425  2054"
      ]
     },
     "execution_count": 16,
     "metadata": {},
     "output_type": "execute_result"
    }
   ],
   "source": [
    "df_filter = df [df['compliance'].notnull()]\n",
    "df_filter = df_filter[['violation_code','compliance']]\n",
    "\n",
    "\n",
    "df_v_code = df_filter.groupby('violation_code').agg(['mean','count']) \n",
    "df_v_code_sort = df_v_code.sort_values(by=[('compliance','mean')],ascending=False)\n",
    "\n",
    "df_v_code_sort[df_v_code_sort[('compliance','count')] > 100].head(5)\n",
    "#df_hear_date_sort[df_hear_date_sort[('compliance','count')] > 10].tail(5)"
   ]
  },
  {
   "cell_type": "code",
   "execution_count": 17,
   "metadata": {
    "collapsed": false,
    "deletable": true,
    "editable": true,
    "scrolled": true
   },
   "outputs": [
    {
     "data": {
      "text/html": [
       "<div>\n",
       "<style scoped>\n",
       "    .dataframe tbody tr th:only-of-type {\n",
       "        vertical-align: middle;\n",
       "    }\n",
       "\n",
       "    .dataframe tbody tr th {\n",
       "        vertical-align: top;\n",
       "    }\n",
       "\n",
       "    .dataframe thead tr th {\n",
       "        text-align: left;\n",
       "    }\n",
       "\n",
       "    .dataframe thead tr:last-of-type th {\n",
       "        text-align: right;\n",
       "    }\n",
       "</style>\n",
       "<table border=\"1\" class=\"dataframe\">\n",
       "  <thead>\n",
       "    <tr>\n",
       "      <th></th>\n",
       "      <th colspan=\"2\" halign=\"left\">compliance</th>\n",
       "    </tr>\n",
       "    <tr>\n",
       "      <th></th>\n",
       "      <th>mean</th>\n",
       "      <th>count</th>\n",
       "    </tr>\n",
       "    <tr>\n",
       "      <th>violation_description</th>\n",
       "      <th></th>\n",
       "      <th></th>\n",
       "    </tr>\n",
       "  </thead>\n",
       "  <tbody>\n",
       "    <tr>\n",
       "      <th>Failure to secure City or Private solid waste collection containers and services</th>\n",
       "      <td>0.260794</td>\n",
       "      <td>579</td>\n",
       "    </tr>\n",
       "    <tr>\n",
       "      <th>Failure of owner to remove graffiti or maintain or restore property free of graffiti.</th>\n",
       "      <td>0.230769</td>\n",
       "      <td>130</td>\n",
       "    </tr>\n",
       "    <tr>\n",
       "      <th>Failing to secure City or Private solid waste collection containers and services</th>\n",
       "      <td>0.188976</td>\n",
       "      <td>127</td>\n",
       "    </tr>\n",
       "    <tr>\n",
       "      <th>Open Storage/ Residential/ Inoperable Vehicles (R1)</th>\n",
       "      <td>0.166287</td>\n",
       "      <td>439</td>\n",
       "    </tr>\n",
       "    <tr>\n",
       "      <th>Removal of snow and ice from sidewalks</th>\n",
       "      <td>0.146157</td>\n",
       "      <td>2641</td>\n",
       "    </tr>\n",
       "  </tbody>\n",
       "</table>\n",
       "</div>"
      ],
      "text/plain": [
       "                                                   compliance      \n",
       "                                                         mean count\n",
       "violation_description                                              \n",
       "Failure to secure City or Private solid waste c...   0.260794   579\n",
       "Failure of owner to remove graffiti or maintain...   0.230769   130\n",
       "Failing to secure City or Private solid waste c...   0.188976   127\n",
       "Open Storage/ Residential/ Inoperable Vehicles ...   0.166287   439\n",
       "Removal of snow and ice from sidewalks               0.146157  2641"
      ]
     },
     "execution_count": 17,
     "metadata": {},
     "output_type": "execute_result"
    }
   ],
   "source": [
    "df_filter = df [df['compliance'].notnull()]\n",
    "df_filter = df_filter[['violation_description','compliance']]\n",
    "\n",
    "\n",
    "df_v_descri = df_filter.groupby('violation_description').agg(['mean','count']) \n",
    "df_v_descri_sort = df_v_descri.sort_values(by=[('compliance','mean')],ascending=False)\n",
    "\n",
    "df_v_descri_sort[df_v_descri_sort[('compliance','count')] > 100].head(5)\n",
    "#df_v_descri_sort[df_v_descri_sort[('compliance','count')] > 100].tail(5)"
   ]
  },
  {
   "cell_type": "code",
   "execution_count": 18,
   "metadata": {
    "collapsed": false,
    "deletable": true,
    "editable": true,
    "scrolled": true
   },
   "outputs": [
    {
     "data": {
      "text/html": [
       "<div>\n",
       "<style scoped>\n",
       "    .dataframe tbody tr th:only-of-type {\n",
       "        vertical-align: middle;\n",
       "    }\n",
       "\n",
       "    .dataframe tbody tr th {\n",
       "        vertical-align: top;\n",
       "    }\n",
       "\n",
       "    .dataframe thead tr th {\n",
       "        text-align: left;\n",
       "    }\n",
       "\n",
       "    .dataframe thead tr:last-of-type th {\n",
       "        text-align: right;\n",
       "    }\n",
       "</style>\n",
       "<table border=\"1\" class=\"dataframe\">\n",
       "  <thead>\n",
       "    <tr>\n",
       "      <th></th>\n",
       "      <th colspan=\"2\" halign=\"left\">compliance</th>\n",
       "    </tr>\n",
       "    <tr>\n",
       "      <th></th>\n",
       "      <th>mean</th>\n",
       "      <th>count</th>\n",
       "    </tr>\n",
       "    <tr>\n",
       "      <th>disposition</th>\n",
       "      <th></th>\n",
       "      <th></th>\n",
       "    </tr>\n",
       "  </thead>\n",
       "  <tbody>\n",
       "    <tr>\n",
       "      <th>Responsible (Fine Waived) by Deter</th>\n",
       "      <td>1.000000</td>\n",
       "      <td>195</td>\n",
       "    </tr>\n",
       "    <tr>\n",
       "      <th>Responsible by Determination</th>\n",
       "      <td>0.307300</td>\n",
       "      <td>7644</td>\n",
       "    </tr>\n",
       "    <tr>\n",
       "      <th>Responsible by Admission</th>\n",
       "      <td>0.275016</td>\n",
       "      <td>13701</td>\n",
       "    </tr>\n",
       "    <tr>\n",
       "      <th>Responsible by Default</th>\n",
       "      <td>0.038203</td>\n",
       "      <td>138340</td>\n",
       "    </tr>\n",
       "  </tbody>\n",
       "</table>\n",
       "</div>"
      ],
      "text/plain": [
       "                                   compliance        \n",
       "                                         mean   count\n",
       "disposition                                          \n",
       "Responsible (Fine Waived) by Deter   1.000000     195\n",
       "Responsible by Determination         0.307300    7644\n",
       "Responsible by Admission             0.275016   13701\n",
       "Responsible by Default               0.038203  138340"
      ]
     },
     "execution_count": 18,
     "metadata": {},
     "output_type": "execute_result"
    }
   ],
   "source": [
    "# It seems disposition is highly indicative of blight compliance\n",
    "# Epesically,the Repsonsible (Find Waived) by Deter\n",
    "\n",
    "df_filter = df [df['compliance'].notnull()]\n",
    "df_filter = df_filter[['disposition','compliance']]\n",
    "\n",
    "\n",
    "df_dispo = df_filter.groupby('disposition').agg(['mean','count']) \n",
    "df_dispo_sort = df_dispo.sort_values(by=[('compliance','mean')],ascending=False)\n",
    "\n",
    "df_dispo_sort[df_dispo_sort[('compliance','count')] > 100].head(5)\n",
    "#df_dispo_sort[df_dispo_sort[('compliance','count')] > 100].tail(5)"
   ]
  },
  {
   "cell_type": "code",
   "execution_count": 19,
   "metadata": {
    "collapsed": false,
    "deletable": true,
    "editable": true,
    "scrolled": true
   },
   "outputs": [
    {
     "data": {
      "text/html": [
       "<div>\n",
       "<style scoped>\n",
       "    .dataframe tbody tr th:only-of-type {\n",
       "        vertical-align: middle;\n",
       "    }\n",
       "\n",
       "    .dataframe tbody tr th {\n",
       "        vertical-align: top;\n",
       "    }\n",
       "\n",
       "    .dataframe thead tr th {\n",
       "        text-align: left;\n",
       "    }\n",
       "\n",
       "    .dataframe thead tr:last-of-type th {\n",
       "        text-align: right;\n",
       "    }\n",
       "</style>\n",
       "<table border=\"1\" class=\"dataframe\">\n",
       "  <thead>\n",
       "    <tr>\n",
       "      <th></th>\n",
       "      <th colspan=\"2\" halign=\"left\">compliance</th>\n",
       "    </tr>\n",
       "    <tr>\n",
       "      <th></th>\n",
       "      <th>mean</th>\n",
       "      <th>count</th>\n",
       "    </tr>\n",
       "    <tr>\n",
       "      <th>fine_amount</th>\n",
       "      <th></th>\n",
       "      <th></th>\n",
       "    </tr>\n",
       "  </thead>\n",
       "  <tbody>\n",
       "    <tr>\n",
       "      <th>0.0</th>\n",
       "      <td>1.000000</td>\n",
       "      <td>195</td>\n",
       "    </tr>\n",
       "    <tr>\n",
       "      <th>100.0</th>\n",
       "      <td>0.117123</td>\n",
       "      <td>15488</td>\n",
       "    </tr>\n",
       "    <tr>\n",
       "      <th>200.0</th>\n",
       "      <td>0.100000</td>\n",
       "      <td>12710</td>\n",
       "    </tr>\n",
       "    <tr>\n",
       "      <th>50.0</th>\n",
       "      <td>0.090620</td>\n",
       "      <td>20415</td>\n",
       "    </tr>\n",
       "    <tr>\n",
       "      <th>25.0</th>\n",
       "      <td>0.077649</td>\n",
       "      <td>1378</td>\n",
       "    </tr>\n",
       "  </tbody>\n",
       "</table>\n",
       "</div>"
      ],
      "text/plain": [
       "            compliance       \n",
       "                  mean  count\n",
       "fine_amount                  \n",
       "0.0           1.000000    195\n",
       "100.0         0.117123  15488\n",
       "200.0         0.100000  12710\n",
       "50.0          0.090620  20415\n",
       "25.0          0.077649   1378"
      ]
     },
     "execution_count": 19,
     "metadata": {},
     "output_type": "execute_result"
    }
   ],
   "source": [
    "# if fine_amount is 0.0, then it's always compliant\n",
    "\n",
    "df_filter = df [df['compliance'].notnull()]\n",
    "df_filter = df_filter[['fine_amount','compliance']]\n",
    "\n",
    "df_fine = df_filter.groupby('fine_amount').agg(['mean','count']) \n",
    "df_fine_sort = df_fine.sort_values(by=[('compliance','mean')],ascending=False)\n",
    "\n",
    "df_fine_sort[df_fine_sort[('compliance','count')] > 100].head(5)"
   ]
  },
  {
   "cell_type": "code",
   "execution_count": 20,
   "metadata": {
    "collapsed": false,
    "deletable": true,
    "editable": true,
    "scrolled": true
   },
   "outputs": [
    {
     "data": {
      "text/html": [
       "<div>\n",
       "<style scoped>\n",
       "    .dataframe tbody tr th:only-of-type {\n",
       "        vertical-align: middle;\n",
       "    }\n",
       "\n",
       "    .dataframe tbody tr th {\n",
       "        vertical-align: top;\n",
       "    }\n",
       "\n",
       "    .dataframe thead tr th {\n",
       "        text-align: left;\n",
       "    }\n",
       "\n",
       "    .dataframe thead tr:last-of-type th {\n",
       "        text-align: right;\n",
       "    }\n",
       "</style>\n",
       "<table border=\"1\" class=\"dataframe\">\n",
       "  <thead>\n",
       "    <tr>\n",
       "      <th></th>\n",
       "      <th colspan=\"2\" halign=\"left\">compliance</th>\n",
       "    </tr>\n",
       "    <tr>\n",
       "      <th></th>\n",
       "      <th>mean</th>\n",
       "      <th>count</th>\n",
       "    </tr>\n",
       "    <tr>\n",
       "      <th>late_fee</th>\n",
       "      <th></th>\n",
       "      <th></th>\n",
       "    </tr>\n",
       "  </thead>\n",
       "  <tbody>\n",
       "    <tr>\n",
       "      <th>0.0</th>\n",
       "      <td>0.362401</td>\n",
       "      <td>15458</td>\n",
       "    </tr>\n",
       "    <tr>\n",
       "      <th>10.0</th>\n",
       "      <td>0.069591</td>\n",
       "      <td>12516</td>\n",
       "    </tr>\n",
       "    <tr>\n",
       "      <th>20.0</th>\n",
       "      <td>0.060683</td>\n",
       "      <td>11354</td>\n",
       "    </tr>\n",
       "    <tr>\n",
       "      <th>5.0</th>\n",
       "      <td>0.057378</td>\n",
       "      <td>17655</td>\n",
       "    </tr>\n",
       "    <tr>\n",
       "      <th>35.0</th>\n",
       "      <td>0.039683</td>\n",
       "      <td>126</td>\n",
       "    </tr>\n",
       "  </tbody>\n",
       "</table>\n",
       "</div>"
      ],
      "text/plain": [
       "         compliance       \n",
       "               mean  count\n",
       "late_fee                  \n",
       "0.0        0.362401  15458\n",
       "10.0       0.069591  12516\n",
       "20.0       0.060683  11354\n",
       "5.0        0.057378  17655\n",
       "35.0       0.039683    126"
      ]
     },
     "execution_count": 20,
     "metadata": {},
     "output_type": "execute_result"
    }
   ],
   "source": [
    "# if late_fee is 0.0, then it's likely to be compliant\n",
    "\n",
    "df_filter = df [df['compliance'].notnull()]\n",
    "df_filter = df_filter[['late_fee','compliance']]\n",
    "\n",
    "df_latefee = df_filter.groupby('late_fee').agg(['mean','count']) \n",
    "df_latefee_sort = df_latefee.sort_values(by=[('compliance','mean')],ascending=False)\n",
    "\n",
    "df_latefee_sort[df_latefee_sort[('compliance','count')] > 100].head(5)"
   ]
  },
  {
   "cell_type": "code",
   "execution_count": 21,
   "metadata": {
    "collapsed": false,
    "deletable": true,
    "editable": true
   },
   "outputs": [],
   "source": [
    "#df['compliance'].notnull()"
   ]
  },
  {
   "cell_type": "code",
   "execution_count": 22,
   "metadata": {
    "collapsed": false,
    "deletable": true,
    "editable": true,
    "scrolled": true
   },
   "outputs": [
    {
     "data": {
      "text/html": [
       "<div>\n",
       "<style scoped>\n",
       "    .dataframe tbody tr th:only-of-type {\n",
       "        vertical-align: middle;\n",
       "    }\n",
       "\n",
       "    .dataframe tbody tr th {\n",
       "        vertical-align: top;\n",
       "    }\n",
       "\n",
       "    .dataframe thead tr th {\n",
       "        text-align: left;\n",
       "    }\n",
       "\n",
       "    .dataframe thead tr:last-of-type th {\n",
       "        text-align: right;\n",
       "    }\n",
       "</style>\n",
       "<table border=\"1\" class=\"dataframe\">\n",
       "  <thead>\n",
       "    <tr>\n",
       "      <th></th>\n",
       "      <th colspan=\"2\" halign=\"left\">compliance</th>\n",
       "    </tr>\n",
       "    <tr>\n",
       "      <th></th>\n",
       "      <th>mean</th>\n",
       "      <th>count</th>\n",
       "    </tr>\n",
       "    <tr>\n",
       "      <th>discount_amount</th>\n",
       "      <th></th>\n",
       "      <th></th>\n",
       "    </tr>\n",
       "  </thead>\n",
       "  <tbody>\n",
       "    <tr>\n",
       "      <th>25.0</th>\n",
       "      <td>0.970248</td>\n",
       "      <td>605</td>\n",
       "    </tr>\n",
       "    <tr>\n",
       "      <th>5.0</th>\n",
       "      <td>0.952096</td>\n",
       "      <td>167</td>\n",
       "    </tr>\n",
       "    <tr>\n",
       "      <th>10.0</th>\n",
       "      <td>0.909677</td>\n",
       "      <td>155</td>\n",
       "    </tr>\n",
       "    <tr>\n",
       "      <th>20.0</th>\n",
       "      <td>0.903704</td>\n",
       "      <td>135</td>\n",
       "    </tr>\n",
       "    <tr>\n",
       "      <th>0.0</th>\n",
       "      <td>0.065999</td>\n",
       "      <td>158700</td>\n",
       "    </tr>\n",
       "  </tbody>\n",
       "</table>\n",
       "</div>"
      ],
      "text/plain": [
       "                compliance        \n",
       "                      mean   count\n",
       "discount_amount                   \n",
       "25.0              0.970248     605\n",
       "5.0               0.952096     167\n",
       "10.0              0.909677     155\n",
       "20.0              0.903704     135\n",
       "0.0               0.065999  158700"
      ]
     },
     "execution_count": 22,
     "metadata": {},
     "output_type": "execute_result"
    }
   ],
   "source": [
    "# if discount_amount is 0.0, then it's likely NOT be compliant\n",
    "\n",
    "df_filter = df [df['compliance'].notnull()]\n",
    "df_filter = df_filter[['discount_amount','compliance']]\n",
    "\n",
    "df_dis_amount = df_filter.groupby('discount_amount').agg(['mean','count']) \n",
    "df_dis_amount_sort = df_dis_amount.sort_values(by=[('compliance','mean')],ascending=False)\n",
    "\n",
    "df_dis_amount_sort[df_dis_amount_sort[('compliance','count')] > 100].head(5)"
   ]
  },
  {
   "cell_type": "code",
   "execution_count": 23,
   "metadata": {
    "collapsed": false,
    "deletable": true,
    "editable": true,
    "scrolled": true
   },
   "outputs": [
    {
     "data": {
      "text/html": [
       "<div>\n",
       "<style scoped>\n",
       "    .dataframe tbody tr th:only-of-type {\n",
       "        vertical-align: middle;\n",
       "    }\n",
       "\n",
       "    .dataframe tbody tr th {\n",
       "        vertical-align: top;\n",
       "    }\n",
       "\n",
       "    .dataframe thead tr th {\n",
       "        text-align: left;\n",
       "    }\n",
       "\n",
       "    .dataframe thead tr:last-of-type th {\n",
       "        text-align: right;\n",
       "    }\n",
       "</style>\n",
       "<table border=\"1\" class=\"dataframe\">\n",
       "  <thead>\n",
       "    <tr>\n",
       "      <th></th>\n",
       "      <th colspan=\"2\" halign=\"left\">compliance</th>\n",
       "    </tr>\n",
       "    <tr>\n",
       "      <th></th>\n",
       "      <th>mean</th>\n",
       "      <th>count</th>\n",
       "    </tr>\n",
       "    <tr>\n",
       "      <th>judgment_amount</th>\n",
       "      <th></th>\n",
       "      <th></th>\n",
       "    </tr>\n",
       "  </thead>\n",
       "  <tbody>\n",
       "    <tr>\n",
       "      <th>0.0</th>\n",
       "      <td>1.000000</td>\n",
       "      <td>195</td>\n",
       "    </tr>\n",
       "    <tr>\n",
       "      <th>55.0</th>\n",
       "      <td>0.483871</td>\n",
       "      <td>155</td>\n",
       "    </tr>\n",
       "    <tr>\n",
       "      <th>530.0</th>\n",
       "      <td>0.455764</td>\n",
       "      <td>373</td>\n",
       "    </tr>\n",
       "    <tr>\n",
       "      <th>1030.0</th>\n",
       "      <td>0.450617</td>\n",
       "      <td>162</td>\n",
       "    </tr>\n",
       "    <tr>\n",
       "      <th>230.0</th>\n",
       "      <td>0.429204</td>\n",
       "      <td>1356</td>\n",
       "    </tr>\n",
       "  </tbody>\n",
       "</table>\n",
       "</div>"
      ],
      "text/plain": [
       "                compliance      \n",
       "                      mean count\n",
       "judgment_amount                 \n",
       "0.0               1.000000   195\n",
       "55.0              0.483871   155\n",
       "530.0             0.455764   373\n",
       "1030.0            0.450617   162\n",
       "230.0             0.429204  1356"
      ]
     },
     "execution_count": 23,
     "metadata": {},
     "output_type": "execute_result"
    }
   ],
   "source": [
    "# if judgment_amount is 140.0, then it's likely NOT be compliant\n",
    "# if judgment_amount is 0.0, then it's likely to be compliant\n",
    "\n",
    "df_filter = df [df['compliance'].notnull()]\n",
    "df_filter = df_filter[['judgment_amount','compliance']]\n",
    "\n",
    "df_jud_amount = df_filter.groupby('judgment_amount').agg(['mean','count']) \n",
    "df_jud_amount_sort = df_jud_amount.sort_values(by=[('compliance','mean')],ascending=False)\n",
    "\n",
    "df_jud_amount_sort[df_jud_amount_sort[('compliance','count')] > 100].head(5)"
   ]
  },
  {
   "cell_type": "code",
   "execution_count": 24,
   "metadata": {
    "collapsed": false,
    "deletable": true,
    "editable": true,
    "scrolled": true
   },
   "outputs": [
    {
     "name": "stdout",
     "output_type": "stream",
     "text": [
      "               compliance        \n",
      "                     mean   count\n",
      "payment_amount                   \n",
      "0.0               0.00153  120269\n"
     ]
    },
    {
     "data": {
      "text/html": [
       "<div>\n",
       "<style scoped>\n",
       "    .dataframe tbody tr th:only-of-type {\n",
       "        vertical-align: middle;\n",
       "    }\n",
       "\n",
       "    .dataframe tbody tr th {\n",
       "        vertical-align: top;\n",
       "    }\n",
       "\n",
       "    .dataframe thead tr th {\n",
       "        text-align: left;\n",
       "    }\n",
       "\n",
       "    .dataframe thead tr:last-of-type th {\n",
       "        text-align: right;\n",
       "    }\n",
       "</style>\n",
       "<table border=\"1\" class=\"dataframe\">\n",
       "  <thead>\n",
       "    <tr>\n",
       "      <th></th>\n",
       "      <th colspan=\"2\" halign=\"left\">compliance</th>\n",
       "    </tr>\n",
       "    <tr>\n",
       "      <th></th>\n",
       "      <th>mean</th>\n",
       "      <th>count</th>\n",
       "    </tr>\n",
       "    <tr>\n",
       "      <th>payment_amount</th>\n",
       "      <th></th>\n",
       "      <th></th>\n",
       "    </tr>\n",
       "  </thead>\n",
       "  <tbody>\n",
       "    <tr>\n",
       "      <th>530.0</th>\n",
       "      <td>0.662953</td>\n",
       "      <td>359</td>\n",
       "    </tr>\n",
       "    <tr>\n",
       "      <th>230.0</th>\n",
       "      <td>0.656607</td>\n",
       "      <td>1226</td>\n",
       "    </tr>\n",
       "    <tr>\n",
       "      <th>80.0</th>\n",
       "      <td>0.651365</td>\n",
       "      <td>1612</td>\n",
       "    </tr>\n",
       "    <tr>\n",
       "      <th>280.0</th>\n",
       "      <td>0.648612</td>\n",
       "      <td>5908</td>\n",
       "    </tr>\n",
       "    <tr>\n",
       "      <th>130.0</th>\n",
       "      <td>0.625946</td>\n",
       "      <td>1981</td>\n",
       "    </tr>\n",
       "  </tbody>\n",
       "</table>\n",
       "</div>"
      ],
      "text/plain": [
       "               compliance      \n",
       "                     mean count\n",
       "payment_amount                 \n",
       "530.0            0.662953   359\n",
       "230.0            0.656607  1226\n",
       "80.0             0.651365  1612\n",
       "280.0            0.648612  5908\n",
       "130.0            0.625946  1981"
      ]
     },
     "execution_count": 24,
     "metadata": {},
     "output_type": "execute_result"
    }
   ],
   "source": [
    "# This is ONLY included in training set\n",
    "# 120269 tickets with payment_amount equals 0.0;\n",
    "# yet the compliance rate is low, only at 0.001530\n",
    "\n",
    "df_filter = df [df['compliance'].notnull()]\n",
    "df_filter = df_filter[['payment_amount','compliance']]\n",
    "\n",
    "df_pay_amount = df_filter.groupby('payment_amount').agg(['mean','count']) \n",
    "df_pay_amount_sort = df_pay_amount.sort_values(by=[('compliance','mean')],ascending=False)\n",
    "\n",
    "print(df_pay_amount_sort[df_pay_amount_sort[('compliance','count')] > 120000].head(5))\n",
    "df_pay_amount_sort[df_pay_amount_sort[('compliance','count')] > 100].head(5)\n",
    "#df_pay_amount_sort[df_pay_amount_sort[('compliance','count')] > 5].tail(5)\n",
    "\n",
    "# to plot counts vs payment \n",
    "# \n",
    "#df_pay_amount = df_pay_amount.reset_index()\n",
    "#df_pay_amount.plot.bar(x='payment_amount',y=('compliance','count'))"
   ]
  },
  {
   "cell_type": "code",
   "execution_count": 25,
   "metadata": {
    "collapsed": false,
    "deletable": true,
    "editable": true,
    "scrolled": true
   },
   "outputs": [
    {
     "name": "stdout",
     "output_type": "stream",
     "text": [
      "('df_filter.shape', (159880, 2))\n"
     ]
    },
    {
     "data": {
      "text/plain": [
       "<matplotlib.axes._subplots.AxesSubplot at 0x11a099890>"
      ]
     },
     "execution_count": 25,
     "metadata": {},
     "output_type": "execute_result"
    },
    {
     "data": {
      "image/png": "[encoded data removed]",
      "text/plain": [
       "<matplotlib.figure.Figure at 0x1148243d0>"
      ]
     },
     "metadata": {},
     "output_type": "display_data"
    }
   ],
   "source": [
    "# This is ONLY included in training set\n",
    "# \n",
    "\n",
    "df_filter = df [df['compliance'].notnull()]\n",
    "df_filter = df_filter[['balance_due','compliance']]\n",
    "\n",
    "print('df_filter.shape',df_filter.shape)\n",
    "\n",
    "df_bal_due = df_filter.groupby('balance_due').agg(['mean','count']) \n",
    "df_bal_due_sort = df_bal_due.sort_values(by=[('compliance','mean')],ascending=False)\n",
    "\n",
    "df_bal_due_sort[df_bal_due_sort[('compliance','count')] > 200]\n",
    "\n",
    "\n",
    "# plot balance_due vs number (count)\n",
    "df_bal_due = df_bal_due.reset_index()\n",
    "df_bal_due_sort = df_bal_due.sort_values(by='balance_due',ascending=False)\n",
    "\n",
    "fig, axs = plt.subplots(2,3)\n",
    "\n",
    "df_bal_due_sort[:100].plot.bar(ax=axs[0,0], x='balance_due',y=('compliance','count'),legend=False)\n",
    "df_bal_due_sort[100:200].plot.bar(ax=axs[0,1], x='balance_due',y=('compliance','count'),legend=False)\n",
    "df_bal_due_sort[200:300].plot.bar(ax=axs[0,2], x='balance_due',y=('compliance','count'),legend=False)\n",
    "\n",
    "df_bal_due_sort[300:400].plot.bar(ax=axs[1,0], x='balance_due',y=('compliance','count'),legend=False)\n",
    "df_bal_due_sort[400:500].plot.bar(ax=axs[1,1], x='balance_due',y=('compliance','count'),legend=False)\n",
    "df_bal_due_sort[500:600].plot.bar(ax=axs[1,2], x='balance_due',y=('compliance','count'),legend=False)\n"
   ]
  },
  {
   "cell_type": "code",
   "execution_count": 26,
   "metadata": {
    "collapsed": false,
    "deletable": true,
    "editable": true,
    "scrolled": true
   },
   "outputs": [
    {
     "data": {
      "text/html": [
       "<div>\n",
       "<style scoped>\n",
       "    .dataframe tbody tr th:only-of-type {\n",
       "        vertical-align: middle;\n",
       "    }\n",
       "\n",
       "    .dataframe tbody tr th {\n",
       "        vertical-align: top;\n",
       "    }\n",
       "\n",
       "    .dataframe thead tr th {\n",
       "        text-align: left;\n",
       "    }\n",
       "\n",
       "    .dataframe thead tr:last-of-type th {\n",
       "        text-align: right;\n",
       "    }\n",
       "</style>\n",
       "<table border=\"1\" class=\"dataframe\">\n",
       "  <thead>\n",
       "    <tr>\n",
       "      <th></th>\n",
       "      <th colspan=\"2\" halign=\"left\">compliance</th>\n",
       "    </tr>\n",
       "    <tr>\n",
       "      <th></th>\n",
       "      <th>mean</th>\n",
       "      <th>count</th>\n",
       "    </tr>\n",
       "    <tr>\n",
       "      <th>grafitti_status</th>\n",
       "      <th></th>\n",
       "      <th></th>\n",
       "    </tr>\n",
       "  </thead>\n",
       "  <tbody>\n",
       "  </tbody>\n",
       "</table>\n",
       "</div>"
      ],
      "text/plain": [
       "Empty DataFrame\n",
       "Columns: [(compliance, mean), (compliance, count)]\n",
       "Index: []"
      ]
     },
     "execution_count": 26,
     "metadata": {},
     "output_type": "execute_result"
    }
   ],
   "source": [
    "\n",
    "df_filter = df [df['compliance'].notnull()]\n",
    "df_filter = df_filter[['grafitti_status','compliance']]\n",
    "\n",
    "df_pay_amount = df_filter.groupby('grafitti_status').agg(['mean','count']) \n",
    "df_pay_amount_sort = df_pay_amount.sort_values(by=[('compliance','mean')],ascending=False)\n",
    "\n",
    "df_pay_amount_sort[df_pay_amount_sort[('compliance','count')] > 0].head(5)"
   ]
  },
  {
   "cell_type": "code",
   "execution_count": 27,
   "metadata": {
    "collapsed": false,
    "deletable": true,
    "editable": true,
    "scrolled": true
   },
   "outputs": [],
   "source": [
    "#df['grafitti_status']"
   ]
  },
  {
   "cell_type": "code",
   "execution_count": null,
   "metadata": {
    "collapsed": true,
    "deletable": true,
    "editable": true,
    "scrolled": true
   },
   "outputs": [],
   "source": []
  },
  {
   "cell_type": "code",
   "execution_count": null,
   "metadata": {
    "collapsed": false,
    "deletable": true,
    "editable": true,
    "scrolled": true
   },
   "outputs": [],
   "source": []
  },
  {
   "cell_type": "markdown",
   "metadata": {
    "deletable": true,
    "editable": true
   },
   "source": [
    "### In summary, these features are not used for prediction:\n",
    "* ticket_id\n",
    "* violator_name (obviously)\n",
    "* violation_street_number\n",
    "* violation_zip_code (This is an all-NAN variable)\n",
    "* mailing_address_str_number \n",
    "* agency_name (checked and not relevant)\n",
    "* city (obviously)\n",
    "* state (obviously)\n",
    "* zip_code (obviously)\n",
    "* non_us_str_code (obviously)\n",
    "* country (obviously)\n",
    "* admin_fee (it is always 20.0)\n",
    "* state_fee (it is always 10.0)\n",
    "* clean_up_cost (it is always 0.0)\n",
    "* *payment_date* (not sure about ALL date variables; ONLY in training set)\n",
    "* payment_amount (this is interesting variable; ONLY in training set)\n",
    "* payment_status (ONLY in training set)\n",
    "* balance_due (an interesting variable; ONLY in training set)\n",
    "* payment_amount (ONLY in training set)\n",
    "* collection_status (ONLY in training set)\n",
    "* compliance_detail (ONLY in training set)\n",
    "* grafitti_status (This is an all-NAN variable)\n",
    "\n",
    "### These features may be used:\n",
    "( note: both date and string variables will be tested)\n",
    "* inspector_name\n",
    "* violation_street_name\n",
    "* mailing_address_str_name\n",
    "* *ticket_issued_date* (how can we use this to predict future observations? different months may have different propensities for blight?)\n",
    "* *hearing_date* (how can we use this to predict future observations? This seems very relevant !!!)\n",
    "* violation_code\n",
    "* violation_description\n",
    "* disposition\n",
    "* fine_amount (0.0 or othersize)\n",
    "* late_fee\n",
    "* discount_amount\n",
    "* judgment_amount\n",
    "\n"
   ]
  },
  {
   "cell_type": "code",
   "execution_count": 28,
   "metadata": {
    "collapsed": false,
    "deletable": true,
    "editable": true,
    "scrolled": true
   },
   "outputs": [
    {
     "data": {
      "text/plain": [
       "Index([u'ticket_id', u'agency_name', u'inspector_name', u'violator_name',\n",
       "       u'violation_street_number', u'violation_street_name',\n",
       "       u'violation_zip_code', u'mailing_address_str_number',\n",
       "       u'mailing_address_str_name', u'city', u'state', u'zip_code',\n",
       "       u'non_us_str_code', u'country', u'ticket_issued_date', u'hearing_date',\n",
       "       u'violation_code', u'violation_description', u'disposition',\n",
       "       u'fine_amount', u'admin_fee', u'state_fee', u'late_fee',\n",
       "       u'discount_amount', u'clean_up_cost', u'judgment_amount',\n",
       "       u'payment_amount', u'balance_due', u'payment_date', u'payment_status',\n",
       "       u'collection_status', u'grafitti_status', u'compliance_detail',\n",
       "       u'compliance'],\n",
       "      dtype='object')"
      ]
     },
     "execution_count": 28,
     "metadata": {},
     "output_type": "execute_result"
    }
   ],
   "source": [
    "df.columns"
   ]
  },
  {
   "cell_type": "code",
   "execution_count": 29,
   "metadata": {
    "collapsed": false,
    "deletable": true,
    "editable": true
   },
   "outputs": [
    {
     "name": "stdout",
     "output_type": "stream",
     "text": [
      "(173,)\n",
      "(1791,)\n",
      "(37897,)\n",
      "(235,)\n",
      "(258,)\n",
      "(9,)\n"
     ]
    }
   ],
   "source": [
    "print(df['inspector_name'].unique().shape)\n",
    "print(df['violation_street_name'].unique().shape)\n",
    "print(df['mailing_address_str_name'].unique().shape)\n",
    "print(df['violation_code'].unique().shape)\n",
    "print(df['violation_description'].unique().shape)\n",
    "print(df['disposition'].unique().shape)"
   ]
  },
  {
   "cell_type": "markdown",
   "metadata": {
    "deletable": true,
    "editable": true
   },
   "source": [
    "# Start building models"
   ]
  },
  {
   "cell_type": "code",
   "execution_count": 30,
   "metadata": {
    "collapsed": false,
    "deletable": true,
    "editable": true,
    "scrolled": true
   },
   "outputs": [],
   "source": [
    "# Reload the training dataframe\n",
    "# It is difficult to convert string varibles, such as inspector_name, mailing_address_str_name, \n",
    "# violation_street_name, violation_code, and violation_description to numerical variables; and they will \n",
    "# be considered later\n",
    "\n",
    "traindata = pd.read_csv('train.csv',encoding = \"ISO-8859-1\")\n",
    "testdata = pd.read_csv('test.csv',encoding = \"ISO-8859-1\")\n",
    "\n",
    "#columns_filter = ['ticket_id','violator_name','violation_street_number', 'violation_zip_code', \n",
    "#                  'mailing_address_str_number', 'agency_name', 'city', 'state', 'zip_code', \n",
    "#                 'non_us_str_code', 'country', 'admin_fee','state_fee', 'clean_up_cost', 'payment_date',\n",
    "#                 'payment_amount','payment_status','balance_due', 'payment_amount', 'collection_status',\n",
    "#                 'compliance_detail','grafitti_status']\n",
    "#traindata.drop(columns_filter,axis = 1,inplace = True)\n",
    "\n",
    "\n",
    "columns_to_keep = ['disposition','fine_amount','late_fee', 'discount_amount', 'judgment_amount','compliance']\n",
    "columns_to_keep_test = ['disposition','fine_amount','late_fee', 'discount_amount', 'judgment_amount']\n",
    "\n",
    "traindata = traindata[columns_to_keep]\n",
    "testdata = testdata[columns_to_keep_test]"
   ]
  },
  {
   "cell_type": "code",
   "execution_count": 31,
   "metadata": {
    "collapsed": false,
    "deletable": true,
    "editable": true
   },
   "outputs": [
    {
     "data": {
      "text/html": [
       "<div>\n",
       "<style scoped>\n",
       "    .dataframe tbody tr th:only-of-type {\n",
       "        vertical-align: middle;\n",
       "    }\n",
       "\n",
       "    .dataframe tbody tr th {\n",
       "        vertical-align: top;\n",
       "    }\n",
       "\n",
       "    .dataframe thead th {\n",
       "        text-align: right;\n",
       "    }\n",
       "</style>\n",
       "<table border=\"1\" class=\"dataframe\">\n",
       "  <thead>\n",
       "    <tr style=\"text-align: right;\">\n",
       "      <th></th>\n",
       "      <th>disposition</th>\n",
       "      <th>fine_amount</th>\n",
       "      <th>late_fee</th>\n",
       "      <th>discount_amount</th>\n",
       "      <th>judgment_amount</th>\n",
       "      <th>compliance</th>\n",
       "    </tr>\n",
       "  </thead>\n",
       "  <tbody>\n",
       "    <tr>\n",
       "      <th>0</th>\n",
       "      <td>Responsible by Default</td>\n",
       "      <td>250.0</td>\n",
       "      <td>25.0</td>\n",
       "      <td>0.0</td>\n",
       "      <td>305.0</td>\n",
       "      <td>0.0</td>\n",
       "    </tr>\n",
       "    <tr>\n",
       "      <th>1</th>\n",
       "      <td>Responsible by Determination</td>\n",
       "      <td>750.0</td>\n",
       "      <td>75.0</td>\n",
       "      <td>0.0</td>\n",
       "      <td>855.0</td>\n",
       "      <td>1.0</td>\n",
       "    </tr>\n",
       "    <tr>\n",
       "      <th>2</th>\n",
       "      <td>Not responsible by Dismissal</td>\n",
       "      <td>250.0</td>\n",
       "      <td>0.0</td>\n",
       "      <td>0.0</td>\n",
       "      <td>0.0</td>\n",
       "      <td>NaN</td>\n",
       "    </tr>\n",
       "  </tbody>\n",
       "</table>\n",
       "</div>"
      ],
      "text/plain": [
       "                    disposition  fine_amount  late_fee  discount_amount  \\\n",
       "0        Responsible by Default        250.0      25.0              0.0   \n",
       "1  Responsible by Determination        750.0      75.0              0.0   \n",
       "2  Not responsible by Dismissal        250.0       0.0              0.0   \n",
       "\n",
       "   judgment_amount  compliance  \n",
       "0            305.0         0.0  \n",
       "1            855.0         1.0  \n",
       "2              0.0         NaN  "
      ]
     },
     "execution_count": 31,
     "metadata": {},
     "output_type": "execute_result"
    }
   ],
   "source": [
    "traindata.head(3)"
   ]
  },
  {
   "cell_type": "code",
   "execution_count": 32,
   "metadata": {
    "collapsed": false,
    "deletable": true,
    "editable": true
   },
   "outputs": [
    {
     "data": {
      "text/plain": [
       "(9,)"
      ]
     },
     "execution_count": 32,
     "metadata": {},
     "output_type": "execute_result"
    }
   ],
   "source": [
    "traindata['disposition'].unique().shape"
   ]
  },
  {
   "cell_type": "code",
   "execution_count": 33,
   "metadata": {
    "collapsed": false,
    "deletable": true,
    "editable": true
   },
   "outputs": [
    {
     "data": {
      "text/plain": [
       "array([u'Responsible by Default', u'Responsible by Determination',\n",
       "       u'Not responsible by Dismissal',\n",
       "       u'Not responsible by City Dismissal', u'PENDING JUDGMENT',\n",
       "       u'Responsible by Admission', u'Not responsible by Determination',\n",
       "       u'SET-ASIDE (PENDING JUDGMENT)',\n",
       "       u'Responsible (Fine Waived) by Deter'], dtype=object)"
      ]
     },
     "execution_count": 33,
     "metadata": {},
     "output_type": "execute_result"
    }
   ],
   "source": [
    "traindata['disposition'].unique()"
   ]
  },
  {
   "cell_type": "code",
   "execution_count": 34,
   "metadata": {
    "collapsed": false,
    "deletable": true,
    "editable": true
   },
   "outputs": [
    {
     "data": {
      "text/plain": [
       "12014760"
      ]
     },
     "execution_count": 34,
     "metadata": {},
     "output_type": "execute_result"
    }
   ],
   "source": [
    "traindata.memory_usage().sum()"
   ]
  },
  {
   "cell_type": "code",
   "execution_count": 37,
   "metadata": {
    "collapsed": true,
    "deletable": true,
    "editable": true
   },
   "outputs": [],
   "source": [
    "# reduce memory usage by casting\n",
    "for i in range(len(traindata.columns)):\n",
    "    if len(traindata[traindata.columns[i]].unique()) < 250:\n",
    "        traindata[traindata.columns[i]] = traindata[traindata.columns[i]].astype('category')"
   ]
  },
  {
   "cell_type": "code",
   "execution_count": 38,
   "metadata": {
    "collapsed": false,
    "deletable": true,
    "editable": true
   },
   "outputs": [
    {
     "data": {
      "text/html": [
       "<div>\n",
       "<style scoped>\n",
       "    .dataframe tbody tr th:only-of-type {\n",
       "        vertical-align: middle;\n",
       "    }\n",
       "\n",
       "    .dataframe tbody tr th {\n",
       "        vertical-align: top;\n",
       "    }\n",
       "\n",
       "    .dataframe thead th {\n",
       "        text-align: right;\n",
       "    }\n",
       "</style>\n",
       "<table border=\"1\" class=\"dataframe\">\n",
       "  <thead>\n",
       "    <tr style=\"text-align: right;\">\n",
       "      <th></th>\n",
       "      <th>disposition</th>\n",
       "      <th>fine_amount</th>\n",
       "      <th>late_fee</th>\n",
       "      <th>discount_amount</th>\n",
       "      <th>judgment_amount</th>\n",
       "      <th>compliance</th>\n",
       "    </tr>\n",
       "  </thead>\n",
       "  <tbody>\n",
       "    <tr>\n",
       "      <th>0</th>\n",
       "      <td>Responsible by Default</td>\n",
       "      <td>250.0</td>\n",
       "      <td>25.0</td>\n",
       "      <td>0.0</td>\n",
       "      <td>305.0</td>\n",
       "      <td>0.0</td>\n",
       "    </tr>\n",
       "    <tr>\n",
       "      <th>1</th>\n",
       "      <td>Responsible by Determination</td>\n",
       "      <td>750.0</td>\n",
       "      <td>75.0</td>\n",
       "      <td>0.0</td>\n",
       "      <td>855.0</td>\n",
       "      <td>1.0</td>\n",
       "    </tr>\n",
       "    <tr>\n",
       "      <th>2</th>\n",
       "      <td>Not responsible by Dismissal</td>\n",
       "      <td>250.0</td>\n",
       "      <td>0.0</td>\n",
       "      <td>0.0</td>\n",
       "      <td>0.0</td>\n",
       "      <td>NaN</td>\n",
       "    </tr>\n",
       "  </tbody>\n",
       "</table>\n",
       "</div>"
      ],
      "text/plain": [
       "                    disposition fine_amount late_fee discount_amount  \\\n",
       "0        Responsible by Default       250.0     25.0             0.0   \n",
       "1  Responsible by Determination       750.0     75.0             0.0   \n",
       "2  Not responsible by Dismissal       250.0      0.0             0.0   \n",
       "\n",
       "  judgment_amount compliance  \n",
       "0           305.0        0.0  \n",
       "1           855.0        1.0  \n",
       "2             0.0        NaN  "
      ]
     },
     "execution_count": 38,
     "metadata": {},
     "output_type": "execute_result"
    }
   ],
   "source": [
    "traindata.head(3)"
   ]
  },
  {
   "cell_type": "code",
   "execution_count": 39,
   "metadata": {
    "collapsed": false,
    "deletable": true,
    "editable": true
   },
   "outputs": [
    {
     "data": {
      "text/plain": [
       "(250306, 6)"
      ]
     },
     "execution_count": 39,
     "metadata": {},
     "output_type": "execute_result"
    }
   ],
   "source": [
    "traindata.shape"
   ]
  },
  {
   "cell_type": "code",
   "execution_count": 40,
   "metadata": {
    "collapsed": false,
    "deletable": true,
    "editable": true
   },
   "outputs": [
    {
     "data": {
      "text/plain": [
       "True"
      ]
     },
     "execution_count": 40,
     "metadata": {},
     "output_type": "execute_result"
    }
   ],
   "source": [
    "traindata.isnull().values.any()"
   ]
  },
  {
   "cell_type": "code",
   "execution_count": null,
   "metadata": {
    "collapsed": true,
    "deletable": true,
    "editable": true
   },
   "outputs": [],
   "source": []
  },
  {
   "cell_type": "code",
   "execution_count": 41,
   "metadata": {
    "collapsed": false,
    "deletable": true,
    "editable": true
   },
   "outputs": [],
   "source": [
    "# Double check and drop any of the columns and rows that contains NAN\n",
    "\n",
    "traindata = traindata.dropna(axis=1,how='all')\n",
    "traindata = traindata.dropna(axis=0,how='all')\n",
    "traindata = traindata[traindata['compliance'].notnull()]\n"
   ]
  },
  {
   "cell_type": "code",
   "execution_count": 42,
   "metadata": {
    "collapsed": false,
    "deletable": true,
    "editable": true
   },
   "outputs": [
    {
     "name": "stdout",
     "output_type": "stream",
     "text": [
      "False\n",
      "False\n"
     ]
    }
   ],
   "source": [
    "traindata.shape\n",
    "\n",
    "# check if there is any row that contains NAN\n",
    "print(traindata.isnull().values.any())\n",
    "print(testdata.isnull().values.any())"
   ]
  },
  {
   "cell_type": "code",
   "execution_count": 43,
   "metadata": {
    "collapsed": false,
    "deletable": true,
    "editable": true
   },
   "outputs": [
    {
     "data": {
      "text/html": [
       "<div>\n",
       "<style scoped>\n",
       "    .dataframe tbody tr th:only-of-type {\n",
       "        vertical-align: middle;\n",
       "    }\n",
       "\n",
       "    .dataframe tbody tr th {\n",
       "        vertical-align: top;\n",
       "    }\n",
       "\n",
       "    .dataframe thead th {\n",
       "        text-align: right;\n",
       "    }\n",
       "</style>\n",
       "<table border=\"1\" class=\"dataframe\">\n",
       "  <thead>\n",
       "    <tr style=\"text-align: right;\">\n",
       "      <th></th>\n",
       "      <th>disposition</th>\n",
       "      <th>fine_amount</th>\n",
       "      <th>late_fee</th>\n",
       "      <th>discount_amount</th>\n",
       "      <th>judgment_amount</th>\n",
       "      <th>compliance</th>\n",
       "    </tr>\n",
       "  </thead>\n",
       "  <tbody>\n",
       "    <tr>\n",
       "      <th>0</th>\n",
       "      <td>Responsible by Default</td>\n",
       "      <td>250.0</td>\n",
       "      <td>25.0</td>\n",
       "      <td>0.0</td>\n",
       "      <td>305.0</td>\n",
       "      <td>0.0</td>\n",
       "    </tr>\n",
       "    <tr>\n",
       "      <th>1</th>\n",
       "      <td>Responsible by Determination</td>\n",
       "      <td>750.0</td>\n",
       "      <td>75.0</td>\n",
       "      <td>0.0</td>\n",
       "      <td>855.0</td>\n",
       "      <td>1.0</td>\n",
       "    </tr>\n",
       "    <tr>\n",
       "      <th>5</th>\n",
       "      <td>Responsible by Default</td>\n",
       "      <td>250.0</td>\n",
       "      <td>25.0</td>\n",
       "      <td>0.0</td>\n",
       "      <td>305.0</td>\n",
       "      <td>0.0</td>\n",
       "    </tr>\n",
       "  </tbody>\n",
       "</table>\n",
       "</div>"
      ],
      "text/plain": [
       "                    disposition fine_amount late_fee discount_amount  \\\n",
       "0        Responsible by Default       250.0     25.0             0.0   \n",
       "1  Responsible by Determination       750.0     75.0             0.0   \n",
       "5        Responsible by Default       250.0     25.0             0.0   \n",
       "\n",
       "  judgment_amount compliance  \n",
       "0           305.0        0.0  \n",
       "1           855.0        1.0  \n",
       "5           305.0        0.0  "
      ]
     },
     "execution_count": 43,
     "metadata": {},
     "output_type": "execute_result"
    }
   ],
   "source": [
    "traindata.head(3)"
   ]
  },
  {
   "cell_type": "code",
   "execution_count": 44,
   "metadata": {
    "collapsed": false,
    "deletable": true,
    "editable": true
   },
   "outputs": [
    {
     "name": "stdout",
     "output_type": "stream",
     "text": [
      "[Responsible by Default, Responsible by Determination, Responsible by Admission, Responsible (Fine Waived) by Deter]\n",
      "Categories (4, object): [Responsible by Default, Responsible by Determination, Responsible by Admission, Responsible (Fine Waived) by Deter]\n",
      "-----------------------------\n",
      "[u'Responsible by Default' u'Responsible by Determination'\n",
      " u'Responsible by Admission' u'Responsible (Fine Waived) by Deter'\n",
      " u'Responsible (Fine Waived) by Admis'\n",
      " u'Responsible - Compl/Adj by Default'\n",
      " u'Responsible - Compl/Adj by Determi' u'Responsible by Dismissal']\n"
     ]
    }
   ],
   "source": [
    "print traindata.disposition.unique()\n",
    "print '-----------------------------'\n",
    "print testdata.disposition.unique()"
   ]
  },
  {
   "cell_type": "code",
   "execution_count": 45,
   "metadata": {
    "collapsed": false,
    "deletable": true,
    "editable": true
   },
   "outputs": [
    {
     "data": {
      "text/plain": [
       "Responsible by Default                51602\n",
       "Responsible by Admission               4484\n",
       "Responsible by Determination           4124\n",
       "Responsible (Fine Waived) by Deter      781\n",
       "Responsible - Compl/Adj by Default        6\n",
       "Responsible - Compl/Adj by Determi        2\n",
       "Responsible by Dismissal                  1\n",
       "Responsible (Fine Waived) by Admis        1\n",
       "Name: disposition, dtype: int64"
      ]
     },
     "execution_count": 45,
     "metadata": {},
     "output_type": "execute_result"
    }
   ],
   "source": [
    "testdata['disposition'].value_counts()"
   ]
  },
  {
   "cell_type": "code",
   "execution_count": 46,
   "metadata": {
    "collapsed": false,
    "deletable": true,
    "editable": true
   },
   "outputs": [],
   "source": [
    "# to make sure the disposition variable is consistent in both training and testing sets \n",
    "\n",
    "traindata['disposition'] = traindata.disposition.astype(str)\n",
    "testdata['disposition'] = testdata.disposition.astype(str)\n",
    "\n",
    "testdata = testdata[testdata['disposition'] != 'Responsible (Fine Waived) by Admis'] \n",
    "testdata = testdata[testdata['disposition'] != 'Responsible - Compl/Adj by Default'] \n",
    "testdata = testdata[testdata['disposition'] != 'Responsible - Compl/Adj by Determi'] \n",
    "testdata = testdata[testdata['disposition'] != 'Responsible by Dismissal'] \n"
   ]
  },
  {
   "cell_type": "code",
   "execution_count": 47,
   "metadata": {
    "collapsed": false,
    "deletable": true,
    "editable": true
   },
   "outputs": [
    {
     "data": {
      "text/plain": [
       "array(['Responsible by Default', 'Responsible by Determination',\n",
       "       'Responsible by Admission', 'Responsible (Fine Waived) by Deter'],\n",
       "      dtype=object)"
      ]
     },
     "execution_count": 47,
     "metadata": {},
     "output_type": "execute_result"
    }
   ],
   "source": [
    "traindata['disposition'].unique()"
   ]
  },
  {
   "cell_type": "code",
   "execution_count": 48,
   "metadata": {
    "collapsed": false,
    "deletable": true,
    "editable": true
   },
   "outputs": [
    {
     "data": {
      "text/plain": [
       "array(['Responsible by Default', 'Responsible by Determination',\n",
       "       'Responsible by Admission', 'Responsible (Fine Waived) by Deter'],\n",
       "      dtype=object)"
      ]
     },
     "execution_count": 48,
     "metadata": {},
     "output_type": "execute_result"
    }
   ],
   "source": [
    "testdata['disposition'].unique()"
   ]
  },
  {
   "cell_type": "code",
   "execution_count": 49,
   "metadata": {
    "collapsed": false,
    "deletable": true,
    "editable": true
   },
   "outputs": [
    {
     "data": {
      "text/html": [
       "<div>\n",
       "<style scoped>\n",
       "    .dataframe tbody tr th:only-of-type {\n",
       "        vertical-align: middle;\n",
       "    }\n",
       "\n",
       "    .dataframe tbody tr th {\n",
       "        vertical-align: top;\n",
       "    }\n",
       "\n",
       "    .dataframe thead tr th {\n",
       "        text-align: left;\n",
       "    }\n",
       "\n",
       "    .dataframe thead tr:last-of-type th {\n",
       "        text-align: right;\n",
       "    }\n",
       "</style>\n",
       "<table border=\"1\" class=\"dataframe\">\n",
       "  <thead>\n",
       "    <tr>\n",
       "      <th></th>\n",
       "      <th>fine_amount</th>\n",
       "      <th>late_fee</th>\n",
       "      <th>discount_amount</th>\n",
       "      <th>judgment_amount</th>\n",
       "      <th>compliance</th>\n",
       "    </tr>\n",
       "    <tr>\n",
       "      <th></th>\n",
       "      <th>count</th>\n",
       "      <th>count</th>\n",
       "      <th>count</th>\n",
       "      <th>count</th>\n",
       "      <th>count</th>\n",
       "    </tr>\n",
       "    <tr>\n",
       "      <th>disposition</th>\n",
       "      <th></th>\n",
       "      <th></th>\n",
       "      <th></th>\n",
       "      <th></th>\n",
       "      <th></th>\n",
       "    </tr>\n",
       "  </thead>\n",
       "  <tbody>\n",
       "    <tr>\n",
       "      <th>Responsible (Fine Waived) by Deter</th>\n",
       "      <td>195</td>\n",
       "      <td>195</td>\n",
       "      <td>195</td>\n",
       "      <td>195</td>\n",
       "      <td>195</td>\n",
       "    </tr>\n",
       "    <tr>\n",
       "      <th>Responsible by Admission</th>\n",
       "      <td>13701</td>\n",
       "      <td>13701</td>\n",
       "      <td>13701</td>\n",
       "      <td>13701</td>\n",
       "      <td>13701</td>\n",
       "    </tr>\n",
       "    <tr>\n",
       "      <th>Responsible by Default</th>\n",
       "      <td>138340</td>\n",
       "      <td>138340</td>\n",
       "      <td>138340</td>\n",
       "      <td>138340</td>\n",
       "      <td>138340</td>\n",
       "    </tr>\n",
       "    <tr>\n",
       "      <th>Responsible by Determination</th>\n",
       "      <td>7644</td>\n",
       "      <td>7644</td>\n",
       "      <td>7644</td>\n",
       "      <td>7644</td>\n",
       "      <td>7644</td>\n",
       "    </tr>\n",
       "  </tbody>\n",
       "</table>\n",
       "</div>"
      ],
      "text/plain": [
       "                                   fine_amount late_fee discount_amount  \\\n",
       "                                         count    count           count   \n",
       "disposition                                                               \n",
       "Responsible (Fine Waived) by Deter         195      195             195   \n",
       "Responsible by Admission                 13701    13701           13701   \n",
       "Responsible by Default                  138340   138340          138340   \n",
       "Responsible by Determination              7644     7644            7644   \n",
       "\n",
       "                                   judgment_amount compliance  \n",
       "                                             count      count  \n",
       "disposition                                                    \n",
       "Responsible (Fine Waived) by Deter             195        195  \n",
       "Responsible by Admission                     13701      13701  \n",
       "Responsible by Default                      138340     138340  \n",
       "Responsible by Determination                  7644       7644  "
      ]
     },
     "execution_count": 49,
     "metadata": {},
     "output_type": "execute_result"
    }
   ],
   "source": [
    "traindata.groupby('disposition').agg(['count']) "
   ]
  },
  {
   "cell_type": "code",
   "execution_count": 50,
   "metadata": {
    "collapsed": false,
    "deletable": true,
    "editable": true
   },
   "outputs": [
    {
     "data": {
      "text/html": [
       "<div>\n",
       "<style scoped>\n",
       "    .dataframe tbody tr th:only-of-type {\n",
       "        vertical-align: middle;\n",
       "    }\n",
       "\n",
       "    .dataframe tbody tr th {\n",
       "        vertical-align: top;\n",
       "    }\n",
       "\n",
       "    .dataframe thead tr th {\n",
       "        text-align: left;\n",
       "    }\n",
       "\n",
       "    .dataframe thead tr:last-of-type th {\n",
       "        text-align: right;\n",
       "    }\n",
       "</style>\n",
       "<table border=\"1\" class=\"dataframe\">\n",
       "  <thead>\n",
       "    <tr>\n",
       "      <th></th>\n",
       "      <th>fine_amount</th>\n",
       "      <th>late_fee</th>\n",
       "      <th>discount_amount</th>\n",
       "      <th>judgment_amount</th>\n",
       "    </tr>\n",
       "    <tr>\n",
       "      <th></th>\n",
       "      <th>count</th>\n",
       "      <th>count</th>\n",
       "      <th>count</th>\n",
       "      <th>count</th>\n",
       "    </tr>\n",
       "    <tr>\n",
       "      <th>disposition</th>\n",
       "      <th></th>\n",
       "      <th></th>\n",
       "      <th></th>\n",
       "      <th></th>\n",
       "    </tr>\n",
       "  </thead>\n",
       "  <tbody>\n",
       "    <tr>\n",
       "      <th>Responsible (Fine Waived) by Deter</th>\n",
       "      <td>781</td>\n",
       "      <td>781</td>\n",
       "      <td>781</td>\n",
       "      <td>781</td>\n",
       "    </tr>\n",
       "    <tr>\n",
       "      <th>Responsible by Admission</th>\n",
       "      <td>4484</td>\n",
       "      <td>4484</td>\n",
       "      <td>4484</td>\n",
       "      <td>4484</td>\n",
       "    </tr>\n",
       "    <tr>\n",
       "      <th>Responsible by Default</th>\n",
       "      <td>51602</td>\n",
       "      <td>51602</td>\n",
       "      <td>51602</td>\n",
       "      <td>51602</td>\n",
       "    </tr>\n",
       "    <tr>\n",
       "      <th>Responsible by Determination</th>\n",
       "      <td>4124</td>\n",
       "      <td>4124</td>\n",
       "      <td>4124</td>\n",
       "      <td>4124</td>\n",
       "    </tr>\n",
       "  </tbody>\n",
       "</table>\n",
       "</div>"
      ],
      "text/plain": [
       "                                   fine_amount late_fee discount_amount  \\\n",
       "                                         count    count           count   \n",
       "disposition                                                               \n",
       "Responsible (Fine Waived) by Deter         781      781             781   \n",
       "Responsible by Admission                  4484     4484            4484   \n",
       "Responsible by Default                   51602    51602           51602   \n",
       "Responsible by Determination              4124     4124            4124   \n",
       "\n",
       "                                   judgment_amount  \n",
       "                                             count  \n",
       "disposition                                         \n",
       "Responsible (Fine Waived) by Deter             781  \n",
       "Responsible by Admission                      4484  \n",
       "Responsible by Default                       51602  \n",
       "Responsible by Determination                  4124  "
      ]
     },
     "execution_count": 50,
     "metadata": {},
     "output_type": "execute_result"
    }
   ],
   "source": [
    "testdata.groupby('disposition').agg(['count']) "
   ]
  },
  {
   "cell_type": "code",
   "execution_count": null,
   "metadata": {
    "collapsed": true,
    "deletable": true,
    "editable": true
   },
   "outputs": [],
   "source": []
  },
  {
   "cell_type": "code",
   "execution_count": 51,
   "metadata": {
    "collapsed": false,
    "deletable": true,
    "editable": true
   },
   "outputs": [],
   "source": [
    "# process and transform string_features to two-digit variables\n",
    "\n",
    "string_features = ['disposition']\n",
    "traindata =  pd.get_dummies(traindata,columns = string_features,drop_first = False)\n",
    "testdata =  pd.get_dummies(testdata,columns = string_features,drop_first = False)\n",
    "\n",
    "\n"
   ]
  },
  {
   "cell_type": "code",
   "execution_count": 52,
   "metadata": {
    "collapsed": false,
    "deletable": true,
    "editable": true
   },
   "outputs": [
    {
     "data": {
      "text/html": [
       "<div>\n",
       "<style scoped>\n",
       "    .dataframe tbody tr th:only-of-type {\n",
       "        vertical-align: middle;\n",
       "    }\n",
       "\n",
       "    .dataframe tbody tr th {\n",
       "        vertical-align: top;\n",
       "    }\n",
       "\n",
       "    .dataframe thead th {\n",
       "        text-align: right;\n",
       "    }\n",
       "</style>\n",
       "<table border=\"1\" class=\"dataframe\">\n",
       "  <thead>\n",
       "    <tr style=\"text-align: right;\">\n",
       "      <th></th>\n",
       "      <th>fine_amount</th>\n",
       "      <th>late_fee</th>\n",
       "      <th>discount_amount</th>\n",
       "      <th>judgment_amount</th>\n",
       "      <th>compliance</th>\n",
       "      <th>disposition_Responsible (Fine Waived) by Deter</th>\n",
       "      <th>disposition_Responsible by Admission</th>\n",
       "      <th>disposition_Responsible by Default</th>\n",
       "      <th>disposition_Responsible by Determination</th>\n",
       "    </tr>\n",
       "  </thead>\n",
       "  <tbody>\n",
       "    <tr>\n",
       "      <th>0</th>\n",
       "      <td>250.0</td>\n",
       "      <td>25.0</td>\n",
       "      <td>0.0</td>\n",
       "      <td>305.0</td>\n",
       "      <td>0.0</td>\n",
       "      <td>0</td>\n",
       "      <td>0</td>\n",
       "      <td>1</td>\n",
       "      <td>0</td>\n",
       "    </tr>\n",
       "    <tr>\n",
       "      <th>1</th>\n",
       "      <td>750.0</td>\n",
       "      <td>75.0</td>\n",
       "      <td>0.0</td>\n",
       "      <td>855.0</td>\n",
       "      <td>1.0</td>\n",
       "      <td>0</td>\n",
       "      <td>0</td>\n",
       "      <td>0</td>\n",
       "      <td>1</td>\n",
       "    </tr>\n",
       "    <tr>\n",
       "      <th>5</th>\n",
       "      <td>250.0</td>\n",
       "      <td>25.0</td>\n",
       "      <td>0.0</td>\n",
       "      <td>305.0</td>\n",
       "      <td>0.0</td>\n",
       "      <td>0</td>\n",
       "      <td>0</td>\n",
       "      <td>1</td>\n",
       "      <td>0</td>\n",
       "    </tr>\n",
       "  </tbody>\n",
       "</table>\n",
       "</div>"
      ],
      "text/plain": [
       "  fine_amount late_fee discount_amount judgment_amount compliance  \\\n",
       "0       250.0     25.0             0.0           305.0        0.0   \n",
       "1       750.0     75.0             0.0           855.0        1.0   \n",
       "5       250.0     25.0             0.0           305.0        0.0   \n",
       "\n",
       "   disposition_Responsible (Fine Waived) by Deter  \\\n",
       "0                                               0   \n",
       "1                                               0   \n",
       "5                                               0   \n",
       "\n",
       "   disposition_Responsible by Admission  disposition_Responsible by Default  \\\n",
       "0                                     0                                   1   \n",
       "1                                     0                                   0   \n",
       "5                                     0                                   1   \n",
       "\n",
       "   disposition_Responsible by Determination  \n",
       "0                                         0  \n",
       "1                                         1  \n",
       "5                                         0  "
      ]
     },
     "execution_count": 52,
     "metadata": {},
     "output_type": "execute_result"
    }
   ],
   "source": [
    "traindata.head(3)"
   ]
  },
  {
   "cell_type": "code",
   "execution_count": 53,
   "metadata": {
    "collapsed": false,
    "deletable": true,
    "editable": true
   },
   "outputs": [
    {
     "data": {
      "text/html": [
       "<div>\n",
       "<style scoped>\n",
       "    .dataframe tbody tr th:only-of-type {\n",
       "        vertical-align: middle;\n",
       "    }\n",
       "\n",
       "    .dataframe tbody tr th {\n",
       "        vertical-align: top;\n",
       "    }\n",
       "\n",
       "    .dataframe thead th {\n",
       "        text-align: right;\n",
       "    }\n",
       "</style>\n",
       "<table border=\"1\" class=\"dataframe\">\n",
       "  <thead>\n",
       "    <tr style=\"text-align: right;\">\n",
       "      <th></th>\n",
       "      <th>fine_amount</th>\n",
       "      <th>late_fee</th>\n",
       "      <th>discount_amount</th>\n",
       "      <th>judgment_amount</th>\n",
       "      <th>disposition_Responsible (Fine Waived) by Deter</th>\n",
       "      <th>disposition_Responsible by Admission</th>\n",
       "      <th>disposition_Responsible by Default</th>\n",
       "      <th>disposition_Responsible by Determination</th>\n",
       "    </tr>\n",
       "  </thead>\n",
       "  <tbody>\n",
       "    <tr>\n",
       "      <th>0</th>\n",
       "      <td>200.0</td>\n",
       "      <td>20.0</td>\n",
       "      <td>0.0</td>\n",
       "      <td>250.0</td>\n",
       "      <td>0</td>\n",
       "      <td>0</td>\n",
       "      <td>1</td>\n",
       "      <td>0</td>\n",
       "    </tr>\n",
       "    <tr>\n",
       "      <th>1</th>\n",
       "      <td>1000.0</td>\n",
       "      <td>100.0</td>\n",
       "      <td>0.0</td>\n",
       "      <td>1130.0</td>\n",
       "      <td>0</td>\n",
       "      <td>0</td>\n",
       "      <td>1</td>\n",
       "      <td>0</td>\n",
       "    </tr>\n",
       "    <tr>\n",
       "      <th>2</th>\n",
       "      <td>100.0</td>\n",
       "      <td>10.0</td>\n",
       "      <td>0.0</td>\n",
       "      <td>140.0</td>\n",
       "      <td>0</td>\n",
       "      <td>0</td>\n",
       "      <td>1</td>\n",
       "      <td>0</td>\n",
       "    </tr>\n",
       "  </tbody>\n",
       "</table>\n",
       "</div>"
      ],
      "text/plain": [
       "   fine_amount  late_fee  discount_amount  judgment_amount  \\\n",
       "0        200.0      20.0              0.0            250.0   \n",
       "1       1000.0     100.0              0.0           1130.0   \n",
       "2        100.0      10.0              0.0            140.0   \n",
       "\n",
       "   disposition_Responsible (Fine Waived) by Deter  \\\n",
       "0                                               0   \n",
       "1                                               0   \n",
       "2                                               0   \n",
       "\n",
       "   disposition_Responsible by Admission  disposition_Responsible by Default  \\\n",
       "0                                     0                                   1   \n",
       "1                                     0                                   1   \n",
       "2                                     0                                   1   \n",
       "\n",
       "   disposition_Responsible by Determination  \n",
       "0                                         0  \n",
       "1                                         0  \n",
       "2                                         0  "
      ]
     },
     "execution_count": 53,
     "metadata": {},
     "output_type": "execute_result"
    }
   ],
   "source": [
    "testdata.head(3)"
   ]
  },
  {
   "cell_type": "markdown",
   "metadata": {
    "deletable": true,
    "editable": true
   },
   "source": [
    "# Random forests and gradient boosting machines"
   ]
  },
  {
   "cell_type": "code",
   "execution_count": 54,
   "metadata": {
    "collapsed": false,
    "deletable": true,
    "editable": true
   },
   "outputs": [
    {
     "name": "stdout",
     "output_type": "stream",
     "text": [
      "0.17.1\n"
     ]
    },
    {
     "name": "stderr",
     "output_type": "stream",
     "text": [
      "/Users/jingjinghuang/anaconda/lib/python2.7/site-packages/sklearn/ensemble/weight_boosting.py:29: DeprecationWarning: numpy.core.umath_tests is an internal NumPy module and should not be imported. It will be removed in a future NumPy release.\n",
      "  from numpy.core.umath_tests import inner1d\n"
     ]
    }
   ],
   "source": [
    "#from sklearn.model_selection import train_test_split\n",
    "from sklearn.cross_validation import train_test_split\n",
    "from sklearn.grid_search import GridSearchCV\n",
    "from sklearn.ensemble import RandomForestRegressor\n",
    "#from sklearn.model_selection import RandomizedSearchCV\n",
    "from sklearn.grid_search import RandomizedSearchCV\n",
    "import sklearn\n",
    "print(sklearn.__version__)"
   ]
  },
  {
   "cell_type": "code",
   "execution_count": null,
   "metadata": {
    "collapsed": true,
    "deletable": true,
    "editable": true
   },
   "outputs": [],
   "source": []
  },
  {
   "cell_type": "code",
   "execution_count": 55,
   "metadata": {
    "collapsed": false,
    "deletable": true,
    "editable": true
   },
   "outputs": [
    {
     "name": "stdout",
     "output_type": "stream",
     "text": [
      "((159880,), (159880, 8))\n",
      "((119910, 8), (39970, 8), (119910,), (39970,))\n"
     ]
    }
   ],
   "source": [
    "y = traindata['compliance']\n",
    "X = traindata.drop('compliance',axis = 1)\n",
    "\n",
    "X_train, X_test, y_train, y_test = train_test_split(X, y)\n",
    "\n",
    "# check the shape of tensors\n",
    "print(y.shape,X.shape)\n",
    "print(X_train.shape, X_test.shape, y_train.shape, y_test.shape)\n"
   ]
  },
  {
   "cell_type": "code",
   "execution_count": 56,
   "metadata": {
    "collapsed": true,
    "deletable": true,
    "editable": true
   },
   "outputs": [],
   "source": [
    "# Number of trees in random forest\n",
    "n_estimators = [int(x) for x in np.linspace(start = 10, stop = 200, num = 10)]\n",
    "\n",
    "# Number of features to consider at every split\n",
    "max_features = ['auto', 'sqrt']\n",
    "\n",
    "# Maximum number of levels in tree\n",
    "max_depth = [int(x) for x in np.linspace(10, 110, num = 10)]\n",
    "max_depth.append(None)\n",
    "\n",
    "# Minimum number of samples required to split a node\n",
    "min_samples_split = [2, 5, 10]\n",
    "\n",
    "# Minimum number of samples required at each leaf node\n",
    "min_samples_leaf = [1, 2, 4]\n",
    "\n",
    "# Method of selecting samples for training each tree\n",
    "bootstrap = [True, False]\n",
    "\n",
    "# Create the random grid\n",
    "random_grid = {'n_estimators': n_estimators,\n",
    "               'max_features': max_features,\n",
    "               'max_depth': max_depth}\n",
    "               #'min_samples_split': min_samples_split,\n",
    "               #'min_samples_leaf': min_samples_leaf,\n",
    "               #'bootstrap': bootstrap}"
   ]
  },
  {
   "cell_type": "code",
   "execution_count": 57,
   "metadata": {
    "collapsed": false,
    "deletable": true,
    "editable": true
   },
   "outputs": [
    {
     "data": {
      "text/plain": [
       "{'max_depth': [10, 21, 32, 43, 54, 65, 76, 87, 98, 110, None],\n",
       " 'max_features': ['auto', 'sqrt'],\n",
       " 'n_estimators': [10, 31, 52, 73, 94, 115, 136, 157, 178, 200]}"
      ]
     },
     "execution_count": 57,
     "metadata": {},
     "output_type": "execute_result"
    }
   ],
   "source": [
    "random_grid "
   ]
  },
  {
   "cell_type": "code",
   "execution_count": 58,
   "metadata": {
    "collapsed": false,
    "deletable": true,
    "editable": true
   },
   "outputs": [
    {
     "name": "stdout",
     "output_type": "stream",
     "text": [
      "Fitting 3 folds for each of 10 candidates, totalling 30 fits\n",
      "[CV] n_estimators=52, max_features=auto, max_depth=65 ................\n",
      "[CV] n_estimators=52, max_features=auto, max_depth=65 ................\n",
      "[CV] n_estimators=52, max_features=auto, max_depth=65 ................\n",
      "[CV] n_estimators=200, max_features=sqrt, max_depth=98 ...............\n",
      "[CV] ....... n_estimators=52, max_features=auto, max_depth=65 -   3.7s[CV] ....... n_estimators=52, max_features=auto, max_depth=65 -   3.8s[CV] ....... n_estimators=52, max_features=auto, max_depth=65 -   3.8s\n",
      "\n",
      "\n",
      "[CV] n_estimators=200, max_features=sqrt, max_depth=98 ...............\n",
      "[CV] n_estimators=200, max_features=sqrt, max_depth=98 ...............\n",
      "[CV] n_estimators=52, max_features=sqrt, max_depth=54 ................[CV] n_estimators=52, max_features=sqrt, max_depth=54 ................[CV] n_estimators=52, max_features=sqrt, max_depth=54 ................\n",
      "\n"
     ]
    },
    {
     "ename": "KeyboardInterrupt",
     "evalue": "",
     "output_type": "error",
     "traceback": [
      "\u001b[0;31m---------------------------------------------------------------------------\u001b[0m",
      "\u001b[0;31mKeyboardInterrupt\u001b[0m                         Traceback (most recent call last)",
      "\u001b[0;32m<ipython-input-58-57ace7bf7f43>\u001b[0m in \u001b[0;36m<module>\u001b[0;34m()\u001b[0m\n\u001b[1;32m      8\u001b[0m \u001b[0;34m\u001b[0m\u001b[0m\n\u001b[1;32m      9\u001b[0m \u001b[0;34m\u001b[0m\u001b[0m\n\u001b[0;32m---> 10\u001b[0;31m \u001b[0mgrid_random_reg_RF\u001b[0m\u001b[0;34m.\u001b[0m\u001b[0mfit\u001b[0m\u001b[0;34m(\u001b[0m\u001b[0mX_train\u001b[0m\u001b[0;34m,\u001b[0m \u001b[0my_train\u001b[0m\u001b[0;34m)\u001b[0m\u001b[0;34m\u001b[0m\u001b[0m\n\u001b[0m",
      "\u001b[0;32m/Users/jingjinghuang/anaconda/lib/python2.7/site-packages/sklearn/grid_search.pyc\u001b[0m in \u001b[0;36mfit\u001b[0;34m(self, X, y)\u001b[0m\n\u001b[1;32m    994\u001b[0m                                           \u001b[0mself\u001b[0m\u001b[0;34m.\u001b[0m\u001b[0mn_iter\u001b[0m\u001b[0;34m,\u001b[0m\u001b[0;34m\u001b[0m\u001b[0m\n\u001b[1;32m    995\u001b[0m                                           random_state=self.random_state)\n\u001b[0;32m--> 996\u001b[0;31m         \u001b[0;32mreturn\u001b[0m \u001b[0mself\u001b[0m\u001b[0;34m.\u001b[0m\u001b[0m_fit\u001b[0m\u001b[0;34m(\u001b[0m\u001b[0mX\u001b[0m\u001b[0;34m,\u001b[0m \u001b[0my\u001b[0m\u001b[0;34m,\u001b[0m \u001b[0msampled_params\u001b[0m\u001b[0;34m)\u001b[0m\u001b[0;34m\u001b[0m\u001b[0m\n\u001b[0m",
      "\u001b[0;32m/Users/jingjinghuang/anaconda/lib/python2.7/site-packages/sklearn/grid_search.pyc\u001b[0m in \u001b[0;36m_fit\u001b[0;34m(self, X, y, parameter_iterable)\u001b[0m\n\u001b[1;32m    551\u001b[0m                                     \u001b[0mself\u001b[0m\u001b[0;34m.\u001b[0m\u001b[0mfit_params\u001b[0m\u001b[0;34m,\u001b[0m \u001b[0mreturn_parameters\u001b[0m\u001b[0;34m=\u001b[0m\u001b[0mTrue\u001b[0m\u001b[0;34m,\u001b[0m\u001b[0;34m\u001b[0m\u001b[0m\n\u001b[1;32m    552\u001b[0m                                     error_score=self.error_score)\n\u001b[0;32m--> 553\u001b[0;31m                 \u001b[0;32mfor\u001b[0m \u001b[0mparameters\u001b[0m \u001b[0;32min\u001b[0m \u001b[0mparameter_iterable\u001b[0m\u001b[0;34m\u001b[0m\u001b[0m\n\u001b[0m\u001b[1;32m    554\u001b[0m                 for train, test in cv)\n\u001b[1;32m    555\u001b[0m \u001b[0;34m\u001b[0m\u001b[0m\n",
      "\u001b[0;32m/Users/jingjinghuang/anaconda/lib/python2.7/site-packages/sklearn/externals/joblib/parallel.pyc\u001b[0m in \u001b[0;36m__call__\u001b[0;34m(self, iterable)\u001b[0m\n\u001b[1;32m    808\u001b[0m                 \u001b[0;31m# consumption.\u001b[0m\u001b[0;34m\u001b[0m\u001b[0;34m\u001b[0m\u001b[0m\n\u001b[1;32m    809\u001b[0m                 \u001b[0mself\u001b[0m\u001b[0;34m.\u001b[0m\u001b[0m_iterating\u001b[0m \u001b[0;34m=\u001b[0m \u001b[0mFalse\u001b[0m\u001b[0;34m\u001b[0m\u001b[0m\n\u001b[0;32m--> 810\u001b[0;31m             \u001b[0mself\u001b[0m\u001b[0;34m.\u001b[0m\u001b[0mretrieve\u001b[0m\u001b[0;34m(\u001b[0m\u001b[0;34m)\u001b[0m\u001b[0;34m\u001b[0m\u001b[0m\n\u001b[0m\u001b[1;32m    811\u001b[0m             \u001b[0;31m# Make sure that we get a last message telling us we are done\u001b[0m\u001b[0;34m\u001b[0m\u001b[0;34m\u001b[0m\u001b[0m\n\u001b[1;32m    812\u001b[0m             \u001b[0melapsed_time\u001b[0m \u001b[0;34m=\u001b[0m \u001b[0mtime\u001b[0m\u001b[0;34m.\u001b[0m\u001b[0mtime\u001b[0m\u001b[0;34m(\u001b[0m\u001b[0;34m)\u001b[0m \u001b[0;34m-\u001b[0m \u001b[0mself\u001b[0m\u001b[0;34m.\u001b[0m\u001b[0m_start_time\u001b[0m\u001b[0;34m\u001b[0m\u001b[0m\n",
      "\u001b[0;32m/Users/jingjinghuang/anaconda/lib/python2.7/site-packages/sklearn/externals/joblib/parallel.pyc\u001b[0m in \u001b[0;36mretrieve\u001b[0;34m(self)\u001b[0m\n\u001b[1;32m    755\u001b[0m                     \u001b[0;31m# a working pool as they expect.\u001b[0m\u001b[0;34m\u001b[0m\u001b[0;34m\u001b[0m\u001b[0m\n\u001b[1;32m    756\u001b[0m                     \u001b[0mself\u001b[0m\u001b[0;34m.\u001b[0m\u001b[0m_initialize_pool\u001b[0m\u001b[0;34m(\u001b[0m\u001b[0;34m)\u001b[0m\u001b[0;34m\u001b[0m\u001b[0m\n\u001b[0;32m--> 757\u001b[0;31m                 \u001b[0;32mraise\u001b[0m \u001b[0mexception\u001b[0m\u001b[0;34m\u001b[0m\u001b[0m\n\u001b[0m\u001b[1;32m    758\u001b[0m \u001b[0;34m\u001b[0m\u001b[0m\n\u001b[1;32m    759\u001b[0m     \u001b[0;32mdef\u001b[0m \u001b[0m__call__\u001b[0m\u001b[0;34m(\u001b[0m\u001b[0mself\u001b[0m\u001b[0;34m,\u001b[0m \u001b[0miterable\u001b[0m\u001b[0;34m)\u001b[0m\u001b[0;34m:\u001b[0m\u001b[0;34m\u001b[0m\u001b[0m\n",
      "\u001b[0;31mKeyboardInterrupt\u001b[0m: "
     ]
    }
   ],
   "source": [
    "# Random search of parameters, using 3 fold cross validation, \n",
    "# search across 10 different combinations, and use all available cores\n",
    "# default metric to optimize over grid parameters: accuracy\n",
    "\n",
    "reg_RF = RandomForestRegressor()\n",
    "\n",
    "grid_random_reg_RF = RandomizedSearchCV(estimator = reg_RF, param_distributions = random_grid, \\\n",
    "                               n_iter = 10, cv = 3, verbose=2, random_state=42, \\\n",
    "                                        n_jobs = -1, scoring='roc_auc')\n",
    "\n",
    "\n",
    "grid_random_reg_RF.fit(X_train, y_train)\n"
   ]
  },
  {
   "cell_type": "code",
   "execution_count": 822,
   "metadata": {
    "collapsed": false,
    "deletable": true,
    "editable": true
   },
   "outputs": [
    {
     "name": "stdout",
     "output_type": "stream",
     "text": [
      "('Grid best parameter (max. accuracy): ', {'n_estimators': 94, 'max_features': 'sqrt', 'max_depth': 10})\n",
      "('Grid best score (roc_auc): ', 0.7931824936816614)\n"
     ]
    }
   ],
   "source": [
    "print('Grid best parameter (max. accuracy): ', grid_random_reg_RF.best_params_)\n",
    "print('Grid best score (roc_auc): ', grid_random_reg_RF.best_score_)\n",
    "\n",
    "#('Grid best parameter (max. accuracy): ', {'n_estimators': 94, 'max_features': 'sqrt', 'max_depth': 10})\n",
    "#('Grid best score (accuracy): ', 0.795783917310965)"
   ]
  },
  {
   "cell_type": "code",
   "execution_count": 823,
   "metadata": {
    "collapsed": false,
    "deletable": true,
    "editable": true
   },
   "outputs": [
    {
     "data": {
      "text/plain": [
       "GridSearchCV(cv=None, error_score='raise',\n",
       "       estimator=RandomForestRegressor(bootstrap=True, criterion='mse', max_depth=None,\n",
       "           max_features='auto', max_leaf_nodes=None, min_samples_leaf=1,\n",
       "           min_samples_split=2, min_weight_fraction_leaf=0.0,\n",
       "           n_estimators=10, n_jobs=1, oob_score=False, random_state=None,\n",
       "           verbose=0, warm_start=False),\n",
       "       fit_params={}, iid=True, n_jobs=1,\n",
       "       param_grid={'max_features': ['sqrt'], 'n_estimators': [80, 85, 90, 94, 95, 100, 105], 'max_depth': [14, 12, 10, 8, 6, 4]},\n",
       "       pre_dispatch='2*n_jobs', refit=True, scoring='roc_auc', verbose=0)"
      ]
     },
     "execution_count": 823,
     "metadata": {},
     "output_type": "execute_result"
    }
   ],
   "source": [
    "# Create the parameter grid based on the results of random search \n",
    "param_grid = {\n",
    "    'max_depth': [14, 12, 10, 8, 6, 4],\n",
    "    'max_features': ['sqrt'],\n",
    "    'n_estimators': [80, 85, 90, 94, 95, 100, 105]\n",
    "     }\n",
    "\n",
    "reg_RF = RandomForestRegressor()\n",
    "\n",
    "grid_reg_RF = GridSearchCV(reg_RF, param_grid = param_grid, scoring='roc_auc')\n",
    "grid_reg_RF.fit(X_train, y_train)"
   ]
  },
  {
   "cell_type": "code",
   "execution_count": null,
   "metadata": {
    "collapsed": true,
    "deletable": true,
    "editable": true
   },
   "outputs": [],
   "source": []
  },
  {
   "cell_type": "code",
   "execution_count": 824,
   "metadata": {
    "collapsed": false,
    "deletable": true,
    "editable": true
   },
   "outputs": [
    {
     "name": "stdout",
     "output_type": "stream",
     "text": [
      "('Grid best parameter (max. accuracy): ', {'max_features': 'sqrt', 'n_estimators': 95, 'max_depth': 6})\n",
      "('Grid best score (roc_auc): ', 0.7937971684474636)\n"
     ]
    }
   ],
   "source": [
    "print('Grid best parameter (max. accuracy): ', grid_reg_RF.best_params_)\n",
    "print('Grid best score (roc_auc): ', grid_reg_RF.best_score_)"
   ]
  },
  {
   "cell_type": "code",
   "execution_count": 61,
   "metadata": {
    "collapsed": false,
    "deletable": true,
    "editable": true
   },
   "outputs": [],
   "source": [
    "# Reload the test dataframe\n",
    "\n",
    "#testdata\n",
    "\n",
    "    #y_pred = reg_RF.predict(X_test)"
   ]
  },
  {
   "cell_type": "code",
   "execution_count": null,
   "metadata": {
    "collapsed": true,
    "deletable": true,
    "editable": true
   },
   "outputs": [],
   "source": []
  },
  {
   "cell_type": "code",
   "execution_count": 59,
   "metadata": {
    "collapsed": false,
    "deletable": true,
    "editable": true
   },
   "outputs": [],
   "source": [
    "from sklearn.cross_validation import train_test_split\n",
    "from sklearn.grid_search import GridSearchCV\n",
    "from sklearn.ensemble import GradientBoostingClassifier\n",
    "from sklearn.grid_search import RandomizedSearchCV"
   ]
  },
  {
   "cell_type": "code",
   "execution_count": 60,
   "metadata": {
    "collapsed": false,
    "deletable": true,
    "editable": true
   },
   "outputs": [
    {
     "name": "stdout",
     "output_type": "stream",
     "text": [
      "((159880,), (159880, 8))\n",
      "((119910, 8), (39970, 8), (119910,), (39970,))\n"
     ]
    }
   ],
   "source": [
    "y = traindata['compliance']\n",
    "X = traindata.drop('compliance',axis = 1)\n",
    "\n",
    "X_train, X_test, y_train, y_test = train_test_split(X, y)\n",
    "\n",
    "# check the shape of tensors\n",
    "print(y.shape,X.shape)\n",
    "print(X_train.shape, X_test.shape, y_train.shape, y_test.shape)"
   ]
  },
  {
   "cell_type": "markdown",
   "metadata": {
    "collapsed": true,
    "deletable": true,
    "editable": true
   },
   "source": [
    "## Search parameters for Gradient Boosting Classifier using RandomCV "
   ]
  },
  {
   "cell_type": "code",
   "execution_count": 114,
   "metadata": {
    "collapsed": true,
    "deletable": true,
    "editable": true
   },
   "outputs": [],
   "source": [
    "# Number of trees in random forest\n",
    "n_estimators = [int(x) for x in np.linspace(start = 10, stop = 500, num = 20)]\n",
    "\n",
    "# Minimum number of samples required to split a node\n",
    "min_samples_split = [2, 5, 10, 15, 20, 25]\n",
    "\n",
    "# Number of features to consider at every split\n",
    "max_features = ['auto', 'sqrt']\n",
    "\n",
    "# Maximum number of levels in tree\n",
    "max_depth = [int(x) for x in np.linspace(2, 110, num = 20)]\n",
    "max_depth.append(None)\n",
    "\n",
    "\n",
    "# Create the random grid\n",
    "random_grid = {'n_estimators': n_estimators,\n",
    "               'max_features': max_features,\n",
    "               'max_depth': max_depth,\n",
    "               'min_samples_split': min_samples_split}"
   ]
  },
  {
   "cell_type": "code",
   "execution_count": 115,
   "metadata": {
    "collapsed": false,
    "deletable": true,
    "editable": true
   },
   "outputs": [
    {
     "name": "stdout",
     "output_type": "stream",
     "text": [
      "{'n_estimators': [10, 35, 61, 87, 113, 138, 164, 190, 216, 242, 267, 293, 319, 345, 371, 396, 422, 448, 474, 500], 'max_features': ['auto', 'sqrt'], 'min_samples_split': [2, 5, 10, 15], 'max_depth': [2, 7, 13, 19, 24, 30, 36, 41, 47, 53, 58, 64, 70, 75, 81, 87, 92, 98, 104, 110, None]}\n"
     ]
    }
   ],
   "source": [
    "print random_grid"
   ]
  },
  {
   "cell_type": "code",
   "execution_count": 116,
   "metadata": {
    "collapsed": false,
    "deletable": true,
    "editable": true
   },
   "outputs": [
    {
     "name": "stdout",
     "output_type": "stream",
     "text": [
      "Fitting 3 folds for each of 100 candidates, totalling 300 fits\n"
     ]
    },
    {
     "name": "stderr",
     "output_type": "stream",
     "text": [
      "[Parallel(n_jobs=-1)]: Done  33 tasks      | elapsed: 12.9min\n",
      "[Parallel(n_jobs=-1)]: Done 154 tasks      | elapsed: 52.3min\n",
      "[Parallel(n_jobs=-1)]: Done 300 out of 300 | elapsed: 99.9min finished\n"
     ]
    },
    {
     "name": "stdout",
     "output_type": "stream",
     "text": [
      "[CV] n_estimators=371, min_samples_split=10, max_depth=110, max_features=sqrt \n",
      "[CV] n_estimators=371, min_samples_split=10, max_depth=110, max_features=sqrt \n",
      "[CV] n_estimators=371, min_samples_split=10, max_depth=110, max_features=sqrt \n",
      "[CV] n_estimators=10, min_samples_split=15, max_depth=30, max_features=auto \n",
      "[CV]  n_estimators=371, min_samples_split=10, max_depth=110, max_features=sqrt - 1.5min[CV]  n_estimators=371, min_samples_split=10, max_depth=110, max_features=sqrt - 1.5min[CV]  n_estimators=371, min_samples_split=10, max_depth=110, max_features=sqrt - 1.5min[CV]  n_estimators=10, min_samples_split=15, max_depth=30, max_features=auto -   3.4s\n",
      "\n",
      "\n",
      "\n",
      "[CV] n_estimators=371, min_samples_split=2, max_depth=47, max_features=auto \n",
      "[CV] n_estimators=371, min_samples_split=2, max_depth=47, max_features=auto [CV] n_estimators=267, min_samples_split=2, max_depth=41, max_features=auto \n",
      "[CV] n_estimators=10, min_samples_split=15, max_depth=30, max_features=auto [CV]  n_estimators=371, min_samples_split=2, max_depth=47, max_features=auto - 2.4min\n",
      "[CV]  n_estimators=267, min_samples_split=2, max_depth=41, max_features=auto - 1.6min\n",
      "\n",
      "[CV]  n_estimators=371, min_samples_split=2, max_depth=47, max_features=auto - 2.3min\n",
      "[CV]  n_estimators=10, min_samples_split=15, max_depth=30, max_features=auto -   3.7s[CV] n_estimators=396, min_samples_split=10, max_depth=36, max_features=sqrt \n",
      "[CV] n_estimators=267, min_samples_split=2, max_depth=41, max_features=auto \n",
      "\n",
      "\n",
      "[CV] n_estimators=396, min_samples_split=10, max_depth=36, max_features=sqrt \n",
      "[CV]  n_estimators=267, min_samples_split=2, max_depth=41, max_features=auto - 1.5min[CV] n_estimators=10, min_samples_split=15, max_depth=30, max_features=auto \n",
      "[CV]  n_estimators=396, min_samples_split=10, max_depth=36, max_features=sqrt - 1.7min[CV]  n_estimators=396, min_samples_split=10, max_depth=36, max_features=sqrt - 1.8min\n",
      "[CV]  n_estimators=10, min_samples_split=15, max_depth=30, max_features=auto -   3.8s\n",
      "\n",
      "[CV] n_estimators=319, min_samples_split=10, max_depth=110, max_features=auto \n",
      "[CV] n_estimators=319, min_samples_split=10, max_depth=110, max_features=auto [CV] n_estimators=319, min_samples_split=10, max_depth=110, max_features=auto \n",
      "\n",
      "[CV] n_estimators=371, min_samples_split=2, max_depth=47, max_features=auto \n",
      "\n",
      "[CV]  n_estimators=319, min_samples_split=10, max_depth=110, max_features=auto - 1.9min[CV]  n_estimators=319, min_samples_split=10, max_depth=110, max_features=auto - 1.9min[CV]  n_estimators=371, min_samples_split=2, max_depth=47, max_features=auto - 2.1min[CV]  n_estimators=319, min_samples_split=10, max_depth=110, max_features=auto - 1.9min\n",
      "\n",
      "\n",
      "\n",
      "[CV] n_estimators=242, min_samples_split=2, max_depth=75, max_features=sqrt [CV] n_estimators=474, min_samples_split=5, max_depth=58, max_features=auto [CV] n_estimators=267, min_samples_split=2, max_depth=41, max_features=auto [CV] n_estimators=474, min_samples_split=5, max_depth=58, max_features=auto \n",
      "\n",
      "\n",
      "\n",
      "[CV]  n_estimators=242, min_samples_split=2, max_depth=75, max_features=sqrt - 1.1min[CV]  n_estimators=474, min_samples_split=5, max_depth=58, max_features=auto - 3.0min[CV]  n_estimators=267, min_samples_split=2, max_depth=41, max_features=auto - 1.6min[CV]  n_estimators=474, min_samples_split=5, max_depth=58, max_features=auto - 2.9min\n",
      "\n",
      "\n",
      "\n",
      "[CV] n_estimators=242, min_samples_split=2, max_depth=75, max_features=sqrt \n",
      "[CV] n_estimators=164, min_samples_split=15, max_depth=13, max_features=sqrt [CV] n_estimators=396, min_samples_split=10, max_depth=36, max_features=sqrt [CV] n_estimators=267, min_samples_split=2, max_depth=13, max_features=auto [CV]  n_estimators=242, min_samples_split=2, max_depth=75, max_features=sqrt - 1.1min\n",
      "\n",
      "\n",
      "\n",
      "[CV]  n_estimators=164, min_samples_split=15, max_depth=13, max_features=sqrt -  42.1s[CV]  n_estimators=396, min_samples_split=10, max_depth=36, max_features=sqrt - 1.8min[CV]  n_estimators=267, min_samples_split=2, max_depth=13, max_features=auto - 1.5min[CV] n_estimators=164, min_samples_split=15, max_depth=13, max_features=sqrt \n",
      "\n",
      "\n",
      "\n",
      "[CV] n_estimators=474, min_samples_split=5, max_depth=41, max_features=sqrt [CV] n_estimators=474, min_samples_split=5, max_depth=58, max_features=auto [CV] n_estimators=267, min_samples_split=2, max_depth=13, max_features=auto \n",
      "[CV]  n_estimators=164, min_samples_split=15, max_depth=13, max_features=sqrt -  41.5s\n",
      "\n",
      "[CV]  n_estimators=267, min_samples_split=2, max_depth=13, max_features=auto - 1.6min\n",
      "[CV]  n_estimators=474, min_samples_split=5, max_depth=41, max_features=sqrt - 2.2min[CV]  n_estimators=474, min_samples_split=5, max_depth=58, max_features=auto - 2.9min\n",
      "[CV] n_estimators=474, min_samples_split=5, max_depth=41, max_features=sqrt \n",
      "\n",
      "\n",
      "[CV] n_estimators=396, min_samples_split=10, max_depth=75, max_features=auto \n",
      "[CV]  n_estimators=474, min_samples_split=5, max_depth=41, max_features=sqrt - 2.1min[CV] n_estimators=267, min_samples_split=2, max_depth=13, max_features=auto \n",
      "[CV] n_estimators=242, min_samples_split=2, max_depth=75, max_features=sqrt [CV]  n_estimators=396, min_samples_split=10, max_depth=75, max_features=auto - 2.4min\n",
      "[CV]  n_estimators=267, min_samples_split=2, max_depth=13, max_features=auto - 1.6min\n",
      "\n",
      "[CV] n_estimators=61, min_samples_split=10, max_depth=53, max_features=auto \n",
      "[CV]  n_estimators=242, min_samples_split=2, max_depth=75, max_features=sqrt - 1.1min[CV] n_estimators=500, min_samples_split=5, max_depth=104, max_features=auto \n",
      "[CV] n_estimators=293, min_samples_split=10, max_depth=110, max_features=sqrt \n",
      "\n",
      "\n",
      "[CV]  n_estimators=61, min_samples_split=10, max_depth=53, max_features=auto -  20.9s[CV]  n_estimators=293, min_samples_split=10, max_depth=110, max_features=sqrt - 1.3min[CV] n_estimators=164, min_samples_split=15, max_depth=13, max_features=sqrt \n",
      "[CV]  n_estimators=500, min_samples_split=5, max_depth=104, max_features=auto - 3.0min\n",
      "\n",
      "[CV]  n_estimators=164, min_samples_split=15, max_depth=13, max_features=sqrt -  42.4s\n",
      "[CV] n_estimators=61, min_samples_split=10, max_depth=53, max_features=auto [CV] n_estimators=293, min_samples_split=10, max_depth=110, max_features=sqrt \n",
      "\n",
      "[CV] n_estimators=242, min_samples_split=10, max_depth=24, max_features=sqrt \n",
      "[CV]  n_estimators=293, min_samples_split=10, max_depth=110, max_features=sqrt - 1.3min[CV] n_estimators=474, min_samples_split=5, max_depth=41, max_features=sqrt \n",
      "[CV]  n_estimators=61, min_samples_split=10, max_depth=53, max_features=auto -  21.2s\n",
      "\n",
      "[CV]  n_estimators=242, min_samples_split=10, max_depth=24, max_features=sqrt - 1.1min\n",
      "[CV] n_estimators=267, min_samples_split=10, max_depth=2, max_features=sqrt [CV]  n_estimators=474, min_samples_split=5, max_depth=41, max_features=sqrt - 2.2min\n",
      "[CV] n_estimators=396, min_samples_split=10, max_depth=75, max_features=auto \n",
      "\n",
      "[CV] n_estimators=293, min_samples_split=15, max_depth=81, max_features=sqrt \n",
      "[CV]  n_estimators=267, min_samples_split=10, max_depth=2, max_features=sqrt -  10.0s[CV] n_estimators=61, min_samples_split=10, max_depth=53, max_features=auto \n",
      "[CV]  n_estimators=396, min_samples_split=10, max_depth=75, max_features=auto - 2.3min\n",
      "\n",
      "[CV]  n_estimators=293, min_samples_split=15, max_depth=81, max_features=sqrt - 1.3min\n",
      "[CV] n_estimators=267, min_samples_split=10, max_depth=2, max_features=sqrt [CV]  n_estimators=61, min_samples_split=10, max_depth=53, max_features=auto -  21.5s\n",
      "[CV] n_estimators=500, min_samples_split=5, max_depth=104, max_features=auto \n",
      "\n",
      "[CV] n_estimators=345, min_samples_split=10, max_depth=98, max_features=sqrt \n",
      "\n",
      "[CV]  n_estimators=267, min_samples_split=10, max_depth=2, max_features=sqrt -  13.0s[CV] n_estimators=396, min_samples_split=10, max_depth=75, max_features=auto [CV]  n_estimators=345, min_samples_split=10, max_depth=98, max_features=sqrt - 1.5min[CV]  n_estimators=500, min_samples_split=5, max_depth=104, max_features=auto - 3.0min\n",
      "\n",
      "\n",
      "\n",
      "[CV] n_estimators=267, min_samples_split=10, max_depth=2, max_features=sqrt \n",
      "[CV]  n_estimators=396, min_samples_split=10, max_depth=75, max_features=auto - 2.4min[CV] n_estimators=345, min_samples_split=10, max_depth=98, max_features=sqrt [CV] n_estimators=242, min_samples_split=10, max_depth=24, max_features=sqrt \n",
      "[CV]  n_estimators=267, min_samples_split=10, max_depth=2, max_features=sqrt -  10.1s\n",
      "\n",
      "[CV]  n_estimators=242, min_samples_split=10, max_depth=24, max_features=sqrt - 1.1min\n",
      "[CV] n_estimators=293, min_samples_split=10, max_depth=110, max_features=sqrt [CV]  n_estimators=345, min_samples_split=10, max_depth=98, max_features=sqrt - 1.5min\n",
      "[CV] n_estimators=138, min_samples_split=2, max_depth=58, max_features=sqrt \n",
      "\n",
      "[CV] n_estimators=293, min_samples_split=15, max_depth=81, max_features=sqrt \n",
      "[CV]  n_estimators=293, min_samples_split=10, max_depth=110, max_features=sqrt - 1.2min[CV] n_estimators=396, min_samples_split=2, max_depth=41, max_features=sqrt \n",
      "\n",
      "[CV]  n_estimators=138, min_samples_split=2, max_depth=58, max_features=sqrt -  37.9s\n",
      "[CV]  n_estimators=396, min_samples_split=2, max_depth=41, max_features=sqrt - 1.7min[CV]  n_estimators=293, min_samples_split=15, max_depth=81, max_features=sqrt - 1.3min\n",
      "[CV] n_estimators=500, min_samples_split=5, max_depth=104, max_features=auto \n",
      "\n",
      "[CV] n_estimators=138, min_samples_split=2, max_depth=58, max_features=sqrt \n",
      "\n",
      "[CV] n_estimators=396, min_samples_split=15, max_depth=30, max_features=sqrt \n",
      "[CV] n_estimators=396, min_samples_split=15, max_depth=53, max_features=auto \n",
      "[CV]  n_estimators=138, min_samples_split=2, max_depth=58, max_features=sqrt -  37.4s[CV]  n_estimators=500, min_samples_split=5, max_depth=104, max_features=auto - 3.1min[CV]  n_estimators=396, min_samples_split=15, max_depth=30, max_features=sqrt - 1.8min[CV]  n_estimators=396, min_samples_split=15, max_depth=53, max_features=auto - 2.3min\n",
      "\n",
      "\n",
      "\n",
      "[CV] n_estimators=138, min_samples_split=2, max_depth=58, max_features=sqrt [CV] n_estimators=293, min_samples_split=15, max_depth=81, max_features=sqrt [CV] n_estimators=113, min_samples_split=15, max_depth=41, max_features=auto [CV] n_estimators=345, min_samples_split=5, max_depth=87, max_features=auto \n",
      "\n",
      "\n",
      "\n",
      "[CV]  n_estimators=138, min_samples_split=2, max_depth=58, max_features=sqrt -  34.8s[CV]  n_estimators=293, min_samples_split=15, max_depth=81, max_features=sqrt - 1.3min[CV]  n_estimators=113, min_samples_split=15, max_depth=41, max_features=auto -  37.4s[CV]  n_estimators=345, min_samples_split=5, max_depth=87, max_features=auto - 1.9min\n",
      "\n",
      "\n",
      "\n",
      "[CV] n_estimators=242, min_samples_split=10, max_depth=24, max_features=sqrt [CV] n_estimators=396, min_samples_split=15, max_depth=53, max_features=auto \n",
      "[CV] n_estimators=500, min_samples_split=10, max_depth=13, max_features=sqrt [CV] n_estimators=396, min_samples_split=2, max_depth=41, max_features=sqrt \n",
      "[CV]  n_estimators=396, min_samples_split=15, max_depth=53, max_features=auto - 2.5min\n",
      "\n",
      "[CV]  n_estimators=242, min_samples_split=10, max_depth=24, max_features=sqrt - 1.0min\n",
      "[CV]  n_estimators=500, min_samples_split=10, max_depth=13, max_features=sqrt - 2.2min[CV]  n_estimators=396, min_samples_split=2, max_depth=41, max_features=sqrt - 1.8min\n",
      "[CV] n_estimators=345, min_samples_split=5, max_depth=87, max_features=auto \n",
      "\n",
      "\n",
      "[CV] n_estimators=396, min_samples_split=15, max_depth=53, max_features=auto \n",
      "[CV]  n_estimators=345, min_samples_split=5, max_depth=87, max_features=auto - 1.9min[CV] n_estimators=190, min_samples_split=5, max_depth=24, max_features=sqrt [CV] n_estimators=396, min_samples_split=15, max_depth=30, max_features=sqrt \n",
      "[CV]  n_estimators=396, min_samples_split=15, max_depth=53, max_features=auto - 2.4min\n",
      "\n",
      "[CV]  n_estimators=396, min_samples_split=15, max_depth=30, max_features=sqrt - 1.8min\n",
      "[CV] n_estimators=396, min_samples_split=2, max_depth=41, max_features=sqrt \n",
      "[CV]  n_estimators=190, min_samples_split=5, max_depth=24, max_features=sqrt -  51.2s\n",
      "[CV] n_estimators=345, min_samples_split=10, max_depth=98, max_features=sqrt [CV]  n_estimators=396, min_samples_split=2, max_depth=41, max_features=sqrt - 1.8min"
     ]
    },
    {
     "data": {
      "text/plain": [
       "RandomizedSearchCV(cv=3, error_score='raise',\n",
       "          estimator=GradientBoostingClassifier(init=None, learning_rate=0.1, loss='deviance',\n",
       "              max_depth=3, max_features=None, max_leaf_nodes=None,\n",
       "              min_samples_leaf=1, min_samples_split=2,\n",
       "              min_weight_fraction_leaf=0.0, n_estimators=100,\n",
       "              presort='auto', random_state=None, subsample=1.0, verbose=0,\n",
       "              warm_start=False),\n",
       "          fit_params={}, iid=True, n_iter=100, n_jobs=-1,\n",
       "          param_distributions={'n_estimators': [10, 35, 61, 87, 113, 138, 164, 190, 216, 242, 267, 293, 319, 345, 371, 396, 422, 448, 474, 500], 'max_features': ['auto', 'sqrt'], 'min_samples_split': [2, 5, 10, 15], 'max_depth': [2, 7, 13, 19, 24, 30, 36, 41, 47, 53, 58, 64, 70, 75, 81, 87, 92, 98, 104, 110, None]},\n",
       "          pre_dispatch='2*n_jobs', random_state=42, refit=True,\n",
       "          scoring='roc_auc', verbose=2)"
      ]
     },
     "execution_count": 116,
     "metadata": {},
     "output_type": "execute_result"
    },
    {
     "name": "stdout",
     "output_type": "stream",
     "text": [
      "\n",
      "[CV] n_estimators=500, min_samples_split=10, max_depth=13, max_features=sqrt \n",
      "\n",
      "[CV] n_estimators=371, min_samples_split=15, max_depth=13, max_features=sqrt \n",
      "\n",
      "[CV]  n_estimators=345, min_samples_split=10, max_depth=98, max_features=sqrt - 1.5min[CV] n_estimators=113, min_samples_split=2, max_depth=81, max_features=sqrt [CV]  n_estimators=371, min_samples_split=15, max_depth=13, max_features=sqrt - 1.5min[CV]  n_estimators=500, min_samples_split=10, max_depth=13, max_features=sqrt - 2.2min\n",
      "\n",
      "\n",
      "\n",
      "[CV] n_estimators=345, min_samples_split=5, max_depth=87, max_features=auto \n",
      "[CV]  n_estimators=113, min_samples_split=2, max_depth=81, max_features=sqrt -  36.0s[CV] n_estimators=474, min_samples_split=15, max_depth=87, max_features=sqrt [CV] n_estimators=113, min_samples_split=5, max_depth=104, max_features=auto [CV]  n_estimators=345, min_samples_split=5, max_depth=87, max_features=auto - 2.0min\n",
      "\n",
      "\n",
      "\n",
      "[CV] n_estimators=113, min_samples_split=2, max_depth=81, max_features=sqrt \n",
      "[CV]  n_estimators=474, min_samples_split=15, max_depth=87, max_features=sqrt - 2.2min[CV]  n_estimators=113, min_samples_split=5, max_depth=104, max_features=auto -  38.3s[CV] n_estimators=396, min_samples_split=15, max_depth=30, max_features=sqrt \n",
      "[CV]  n_estimators=113, min_samples_split=2, max_depth=81, max_features=sqrt -  30.0s\n",
      "\n",
      "[CV]  n_estimators=396, min_samples_split=15, max_depth=30, max_features=sqrt - 1.9min\n",
      "[CV] n_estimators=190, min_samples_split=5, max_depth=98, max_features=auto \n",
      "[CV] n_estimators=371, min_samples_split=15, max_depth=13, max_features=sqrt \n",
      "\n",
      "[CV] n_estimators=113, min_samples_split=15, max_depth=41, max_features=auto [CV]  n_estimators=190, min_samples_split=5, max_depth=98, max_features=auto - 1.1min[CV]  n_estimators=371, min_samples_split=15, max_depth=13, max_features=sqrt - 1.6min[CV] n_estimators=113, min_samples_split=2, max_depth=81, max_features=sqrt \n",
      "\n",
      "\n",
      "\n",
      "[CV]  n_estimators=113, min_samples_split=2, max_depth=81, max_features=sqrt -  31.3s[CV]  n_estimators=113, min_samples_split=15, max_depth=41, max_features=auto -  39.0s[CV] n_estimators=396, min_samples_split=2, max_depth=36, max_features=auto [CV] n_estimators=190, min_samples_split=10, max_depth=70, max_features=sqrt \n",
      "\n",
      "\n",
      "\n",
      "[CV] n_estimators=113, min_samples_split=15, max_depth=41, max_features=auto [CV] n_estimators=500, min_samples_split=10, max_depth=13, max_features=sqrt \n",
      "[CV]  n_estimators=396, min_samples_split=2, max_depth=36, max_features=auto - 2.4min[CV]  n_estimators=190, min_samples_split=10, max_depth=70, max_features=sqrt -  53.2s\n",
      "[CV]  n_estimators=500, min_samples_split=10, max_depth=13, max_features=sqrt - 2.2min\n",
      "\n",
      "[CV]  n_estimators=113, min_samples_split=15, max_depth=41, max_features=auto -  38.3s\n",
      "[CV] n_estimators=242, min_samples_split=5, max_depth=7, max_features=auto [CV] n_estimators=190, min_samples_split=10, max_depth=70, max_features=sqrt \n",
      "\n",
      "[CV] n_estimators=113, min_samples_split=5, max_depth=104, max_features=auto \n",
      "[CV]  n_estimators=190, min_samples_split=10, max_depth=70, max_features=sqrt -  49.7s[CV] n_estimators=35, min_samples_split=5, max_depth=2, max_features=auto \n",
      "[CV]  n_estimators=242, min_samples_split=5, max_depth=7, max_features=auto -  59.0s\n",
      "\n",
      "[CV]  n_estimators=113, min_samples_split=5, max_depth=104, max_features=auto -  38.8s\n",
      "[CV] n_estimators=190, min_samples_split=5, max_depth=98, max_features=auto [CV]  n_estimators=35, min_samples_split=5, max_depth=2, max_features=auto -   2.4s\n",
      "[CV] n_estimators=371, min_samples_split=2, max_depth=98, max_features=auto \n",
      "\n",
      "[CV] n_estimators=61, min_samples_split=10, max_depth=36, max_features=sqrt \n",
      "\n",
      "[CV]  n_estimators=190, min_samples_split=5, max_depth=98, max_features=auto - 1.1min[CV] n_estimators=35, min_samples_split=5, max_depth=2, max_features=auto [CV]  n_estimators=61, min_samples_split=10, max_depth=36, max_features=sqrt -  16.4s[CV]  n_estimators=371, min_samples_split=2, max_depth=98, max_features=auto - 2.2min\n",
      "\n",
      "\n",
      "\n",
      "[CV] n_estimators=396, min_samples_split=2, max_depth=36, max_features=auto [CV]  n_estimators=35, min_samples_split=5, max_depth=2, max_features=auto -   2.5s[CV] n_estimators=61, min_samples_split=10, max_depth=36, max_features=sqrt [CV] n_estimators=500, min_samples_split=10, max_depth=64, max_features=sqrt \n",
      "\n",
      "\n",
      "\n",
      "[CV]  n_estimators=500, min_samples_split=10, max_depth=64, max_features=sqrt - 2.2min[CV]  n_estimators=396, min_samples_split=2, max_depth=36, max_features=auto - 2.4min[CV] n_estimators=35, min_samples_split=5, max_depth=2, max_features=auto \n",
      "[CV]  n_estimators=61, min_samples_split=10, max_depth=36, max_features=sqrt -  17.2s\n",
      "\n",
      "[CV]  n_estimators=35, min_samples_split=5, max_depth=2, max_features=auto -   2.7s\n",
      "[CV] n_estimators=216, min_samples_split=2, max_depth=53, max_features=sqrt [CV] n_estimators=242, min_samples_split=5, max_depth=7, max_features=auto \n",
      "[CV] n_estimators=61, min_samples_split=10, max_depth=36, max_features=sqrt \n",
      "\n",
      "[CV] n_estimators=10, min_samples_split=15, max_depth=81, max_features=auto \n",
      "\n",
      "[CV]  n_estimators=216, min_samples_split=2, max_depth=53, max_features=sqrt -  57.6s[CV]  n_estimators=242, min_samples_split=5, max_depth=7, max_features=auto - 1.0min[CV]  n_estimators=10, min_samples_split=15, max_depth=81, max_features=auto -   3.4s[CV]  n_estimators=61, min_samples_split=10, max_depth=36, max_features=sqrt -  16.2s\n",
      "\n",
      "\n",
      "\n",
      "[CV] n_estimators=216, min_samples_split=2, max_depth=53, max_features=sqrt [CV] n_estimators=138, min_samples_split=10, max_depth=104, max_features=sqrt [CV] n_estimators=10, min_samples_split=15, max_depth=81, max_features=auto [CV] n_estimators=474, min_samples_split=15, max_depth=87, max_features=sqrt \n",
      "\n",
      "\n",
      "\n",
      "[CV]  n_estimators=216, min_samples_split=2, max_depth=53, max_features=sqrt -  57.5s[CV]  n_estimators=138, min_samples_split=10, max_depth=104, max_features=sqrt -  36.1s[CV]  n_estimators=10, min_samples_split=15, max_depth=81, max_features=auto -   3.5s[CV]  n_estimators=474, min_samples_split=15, max_depth=87, max_features=sqrt - 2.3min\n",
      "\n",
      "\n",
      "\n",
      "[CV] n_estimators=61, min_samples_split=2, max_depth=None, max_features=auto [CV] n_estimators=61, min_samples_split=2, max_depth=19, max_features=sqrt [CV] n_estimators=10, min_samples_split=15, max_depth=81, max_features=auto \n",
      "[CV] n_estimators=190, min_samples_split=10, max_depth=70, max_features=sqrt \n",
      "\n",
      "[CV]  n_estimators=10, min_samples_split=15, max_depth=81, max_features=auto -   3.6s\n",
      "[CV]  n_estimators=61, min_samples_split=2, max_depth=None, max_features=auto -  19.7s[CV]  n_estimators=61, min_samples_split=2, max_depth=19, max_features=sqrt -  16.5s\n",
      "[CV]  n_estimators=190, min_samples_split=10, max_depth=70, max_features=sqrt -  50.7s\n",
      "\n",
      "[CV] n_estimators=190, min_samples_split=5, max_depth=24, max_features=sqrt \n",
      "[CV] n_estimators=164, min_samples_split=2, max_depth=24, max_features=auto \n",
      "[CV] n_estimators=61, min_samples_split=2, max_depth=19, max_features=sqrt \n",
      "\n",
      "[CV] n_estimators=396, min_samples_split=2, max_depth=36, max_features=auto \n",
      "[CV]  n_estimators=164, min_samples_split=2, max_depth=24, max_features=auto -  57.0s[CV]  n_estimators=61, min_samples_split=2, max_depth=19, max_features=sqrt -  17.5s[CV]  n_estimators=190, min_samples_split=5, max_depth=24, max_features=sqrt -  50.8s[CV]  n_estimators=396, min_samples_split=2, max_depth=36, max_features=auto - 2.4min\n",
      "\n",
      "\n",
      "\n",
      "[CV] n_estimators=216, min_samples_split=15, max_depth=70, max_features=sqrt [CV] n_estimators=61, min_samples_split=2, max_depth=19, max_features=sqrt \n",
      "[CV] n_estimators=190, min_samples_split=5, max_depth=24, max_features=sqrt [CV] n_estimators=164, min_samples_split=10, max_depth=64, max_features=auto \n",
      "[CV]  n_estimators=61, min_samples_split=2, max_depth=19, max_features=sqrt -  16.8s\n",
      "\n",
      "[CV]  n_estimators=216, min_samples_split=15, max_depth=70, max_features=sqrt -  57.6s\n",
      "[CV]  n_estimators=190, min_samples_split=5, max_depth=24, max_features=sqrt -  52.6s[CV]  n_estimators=164, min_samples_split=10, max_depth=64, max_features=auto -  58.6s\n",
      "[CV] n_estimators=500, min_samples_split=10, max_depth=64, max_features=sqrt \n",
      "\n",
      "[CV] n_estimators=216, min_samples_split=2, max_depth=104, max_features=auto \n",
      "[CV] n_estimators=113, min_samples_split=5, max_depth=104, max_features=auto [CV] n_estimators=138, min_samples_split=10, max_depth=104, max_features=sqrt \n",
      "[CV]  n_estimators=500, min_samples_split=10, max_depth=64, max_features=sqrt - 2.2min\n",
      "\n",
      "[CV]  n_estimators=216, min_samples_split=2, max_depth=104, max_features=auto - 1.3min\n",
      "[CV]  n_estimators=113, min_samples_split=5, max_depth=104, max_features=auto -  36.8s[CV]  n_estimators=138, min_samples_split=10, max_depth=104, max_features=sqrt -  35.5s\n",
      "[CV] n_estimators=190, min_samples_split=15, max_depth=41, max_features=sqrt \n",
      "\n",
      "\n",
      "[CV] n_estimators=448, min_samples_split=2, max_depth=47, max_features=auto \n",
      "[CV]  n_estimators=190, min_samples_split=15, max_depth=41, max_features=sqrt -  48.1s[CV] n_estimators=371, min_samples_split=15, max_depth=13, max_features=sqrt [CV] n_estimators=371, min_samples_split=2, max_depth=98, max_features=auto [CV]  n_estimators=448, min_samples_split=2, max_depth=47, max_features=auto - 2.7min\n",
      "\n",
      "\n",
      "\n",
      "[CV] n_estimators=500, min_samples_split=15, max_depth=98, max_features=sqrt [CV]  n_estimators=371, min_samples_split=15, max_depth=13, max_features=sqrt - 1.6min[CV]  n_estimators=371, min_samples_split=2, max_depth=98, max_features=auto - 2.2min[CV] n_estimators=396, min_samples_split=5, max_depth=87, max_features=auto \n",
      "\n",
      "\n",
      "\n",
      "[CV]  n_estimators=500, min_samples_split=15, max_depth=98, max_features=sqrt - 2.2min[CV] n_estimators=474, min_samples_split=15, max_depth=87, max_features=sqrt [CV] n_estimators=500, min_samples_split=10, max_depth=64, max_features=sqrt \n",
      "[CV]  n_estimators=396, min_samples_split=5, max_depth=87, max_features=auto - 2.4min\n",
      "\n",
      "[CV]  n_estimators=500, min_samples_split=10, max_depth=64, max_features=sqrt - 2.2min\n",
      "[CV] n_estimators=61, min_samples_split=2, max_depth=None, max_features=auto \n",
      "[CV]  n_estimators=474, min_samples_split=15, max_depth=87, max_features=sqrt - 2.2min\n",
      "[CV] n_estimators=113, min_samples_split=5, max_depth=98, max_features=sqrt [CV]  n_estimators=61, min_samples_split=2, max_depth=None, max_features=auto -  21.0s\n",
      "[CV] n_estimators=500, min_samples_split=15, max_depth=98, max_features=sqrt \n",
      "\n",
      "[CV] n_estimators=190, min_samples_split=5, max_depth=98, max_features=auto \n",
      "[CV]  n_estimators=113, min_samples_split=5, max_depth=98, max_features=sqrt -  30.3s[CV] n_estimators=164, min_samples_split=2, max_depth=24, max_features=auto \n",
      "\n",
      "[CV]  n_estimators=500, min_samples_split=15, max_depth=98, max_features=sqrt - 2.2min\n",
      "[CV]  n_estimators=164, min_samples_split=2, max_depth=24, max_features=auto -  57.9s[CV]  n_estimators=190, min_samples_split=5, max_depth=98, max_features=auto - 1.1min\n",
      "[CV] n_estimators=319, min_samples_split=10, max_depth=92, max_features=auto \n",
      "\n",
      "[CV] n_estimators=61, min_samples_split=2, max_depth=None, max_features=auto \n",
      "[CV] n_estimators=216, min_samples_split=15, max_depth=70, max_features=sqrt [CV] n_estimators=164, min_samples_split=10, max_depth=64, max_features=auto \n",
      "\n",
      "[CV]  n_estimators=319, min_samples_split=10, max_depth=92, max_features=auto - 1.9min\n",
      "[CV]  n_estimators=164, min_samples_split=10, max_depth=64, max_features=auto -  53.6s[CV]  n_estimators=61, min_samples_split=2, max_depth=None, max_features=auto -  21.5s\n",
      "[CV]  n_estimators=216, min_samples_split=15, max_depth=70, max_features=sqrt -  57.9s\n",
      "\n",
      "[CV] n_estimators=87, min_samples_split=2, max_depth=47, max_features=sqrt \n",
      "[CV] n_estimators=164, min_samples_split=10, max_depth=64, max_features=auto [CV] n_estimators=164, min_samples_split=2, max_depth=24, max_features=auto \n",
      "[CV] n_estimators=371, min_samples_split=10, max_depth=75, max_features=sqrt \n",
      "\n",
      "\n",
      "[CV]  n_estimators=87, min_samples_split=2, max_depth=47, max_features=sqrt -  24.1s[CV]  n_estimators=371, min_samples_split=10, max_depth=75, max_features=sqrt - 1.7min[CV]  n_estimators=164, min_samples_split=10, max_depth=64, max_features=auto -  56.0s[CV]  n_estimators=164, min_samples_split=2, max_depth=24, max_features=auto -  58.2s\n",
      "\n",
      "\n",
      "\n",
      "[CV] n_estimators=500, min_samples_split=10, max_depth=75, max_features=auto [CV] n_estimators=448, min_samples_split=2, max_depth=47, max_features=auto [CV] n_estimators=242, min_samples_split=5, max_depth=7, max_features=auto [CV] n_estimators=216, min_samples_split=2, max_depth=104, max_features=auto \n",
      "\n",
      "\n",
      "\n",
      "[CV]  n_estimators=216, min_samples_split=2, max_depth=104, max_features=auto - 1.2min[CV]  n_estimators=500, min_samples_split=10, max_depth=75, max_features=auto - 3.1min[CV]  n_estimators=448, min_samples_split=2, max_depth=47, max_features=auto - 2.8min[CV]  n_estimators=242, min_samples_split=5, max_depth=7, max_features=auto -  59.8s\n",
      "\n",
      "\n",
      "\n",
      "[CV] n_estimators=371, min_samples_split=10, max_depth=75, max_features=sqrt [CV] n_estimators=87, min_samples_split=10, max_depth=104, max_features=sqrt [CV] n_estimators=396, min_samples_split=5, max_depth=87, max_features=auto [CV] n_estimators=138, min_samples_split=10, max_depth=104, max_features=sqrt \n",
      "\n",
      "\n",
      "\n",
      "[CV]  n_estimators=371, min_samples_split=10, max_depth=75, max_features=sqrt - 1.7min[CV]  n_estimators=87, min_samples_split=10, max_depth=104, max_features=sqrt -  23.0s[CV]  n_estimators=396, min_samples_split=5, max_depth=87, max_features=auto - 2.3min[CV]  n_estimators=138, min_samples_split=10, max_depth=104, max_features=sqrt -  35.2s\n",
      "\n",
      "\n",
      "\n",
      "[CV] n_estimators=448, min_samples_split=2, max_depth=47, max_features=auto [CV] n_estimators=474, min_samples_split=5, max_depth=53, max_features=auto \n",
      "[CV] n_estimators=138, min_samples_split=15, max_depth=104, max_features=auto [CV] n_estimators=371, min_samples_split=2, max_depth=98, max_features=auto \n",
      "[CV]  n_estimators=474, min_samples_split=5, max_depth=53, max_features=auto - 2.9min\n",
      "\n",
      "[CV]  n_estimators=448, min_samples_split=2, max_depth=47, max_features=auto - 2.8min\n",
      "[CV]  n_estimators=138, min_samples_split=15, max_depth=104, max_features=auto -  44.8s[CV]  n_estimators=371, min_samples_split=2, max_depth=98, max_features=auto - 2.2min\n",
      "[CV] n_estimators=396, min_samples_split=10, max_depth=24, max_features=sqrt \n",
      "\n",
      "[CV] n_estimators=10, min_samples_split=10, max_depth=19, max_features=sqrt \n",
      "\n",
      "[CV] n_estimators=138, min_samples_split=15, max_depth=104, max_features=auto [CV] n_estimators=190, min_samples_split=15, max_depth=41, max_features=sqrt [CV]  n_estimators=10, min_samples_split=10, max_depth=19, max_features=sqrt -   2.9s[CV]  n_estimators=396, min_samples_split=10, max_depth=24, max_features=sqrt - 1.7min\n",
      "\n",
      "\n",
      "\n",
      "[CV]  n_estimators=138, min_samples_split=15, max_depth=104, max_features=auto -  48.5s[CV]  n_estimators=190, min_samples_split=15, max_depth=41, max_features=sqrt -  50.3s[CV] n_estimators=87, min_samples_split=10, max_depth=81, max_features=sqrt \n",
      "[CV] n_estimators=371, min_samples_split=5, max_depth=2, max_features=auto \n",
      "\n",
      "[CV]  n_estimators=87, min_samples_split=10, max_depth=81, max_features=sqrt -  22.9s\n",
      "[CV] n_estimators=138, min_samples_split=15, max_depth=104, max_features=auto \n",
      "[CV] n_estimators=190, min_samples_split=15, max_depth=41, max_features=sqrt \n",
      "[CV]  n_estimators=371, min_samples_split=5, max_depth=2, max_features=auto -  23.7s[CV]  n_estimators=138, min_samples_split=15, max_depth=104, max_features=auto -  45.2s\n",
      "[CV] n_estimators=87, min_samples_split=10, max_depth=81, max_features=sqrt \n",
      "\n",
      "[CV]  n_estimators=190, min_samples_split=15, max_depth=41, max_features=sqrt -  49.9s\n",
      "[CV] n_estimators=345, min_samples_split=2, max_depth=81, max_features=auto \n",
      "[CV] n_estimators=267, min_samples_split=5, max_depth=47, max_features=sqrt \n",
      "\n",
      "[CV]  n_estimators=87, min_samples_split=10, max_depth=81, max_features=sqrt -  22.4s[CV]  n_estimators=345, min_samples_split=2, max_depth=81, max_features=auto - 2.0min[CV]  n_estimators=267, min_samples_split=5, max_depth=47, max_features=sqrt - 1.3min[CV] n_estimators=500, min_samples_split=15, max_depth=98, max_features=sqrt \n",
      "\n",
      "\n",
      "\n",
      "[CV]  n_estimators=500, min_samples_split=15, max_depth=98, max_features=sqrt - 2.2min[CV] n_estimators=35, min_samples_split=2, max_depth=7, max_features=sqrt [CV] n_estimators=396, min_samples_split=5, max_depth=70, max_features=auto [CV] n_estimators=267, min_samples_split=5, max_depth=47, max_features=sqrt \n",
      "\n",
      "\n",
      "\n",
      "[CV] n_estimators=216, min_samples_split=2, max_depth=53, max_features=sqrt [CV]  n_estimators=35, min_samples_split=2, max_depth=7, max_features=sqrt -   6.0s[CV]  n_estimators=396, min_samples_split=5, max_depth=70, max_features=auto - 2.4min[CV]  n_estimators=267, min_samples_split=5, max_depth=47, max_features=sqrt - 1.1min\n",
      "\n",
      "\n",
      "\n",
      "[CV]  n_estimators=216, min_samples_split=2, max_depth=53, max_features=sqrt -  58.9s[CV] n_estimators=35, min_samples_split=2, max_depth=7, max_features=sqrt \n",
      "[CV] n_estimators=138, min_samples_split=15, max_depth=53, max_features=sqrt [CV] n_estimators=267, min_samples_split=5, max_depth=47, max_features=sqrt \n",
      "[CV]  n_estimators=35, min_samples_split=2, max_depth=7, max_features=sqrt -   6.0s\n",
      "\n",
      "[CV] n_estimators=216, min_samples_split=15, max_depth=70, max_features=sqrt \n",
      "[CV]  n_estimators=138, min_samples_split=15, max_depth=53, max_features=sqrt -  37.0s[CV]  n_estimators=267, min_samples_split=5, max_depth=47, max_features=sqrt - 1.1min\n",
      "[CV] n_estimators=35, min_samples_split=10, max_depth=70, max_features=sqrt \n",
      "\n",
      "[CV]  n_estimators=216, min_samples_split=15, max_depth=70, max_features=sqrt -  59.0s\n",
      "[CV] n_estimators=345, min_samples_split=5, max_depth=110, max_features=auto \n",
      "[CV] n_estimators=422, min_samples_split=15, max_depth=87, max_features=sqrt \n",
      "\n",
      "[CV]  n_estimators=35, min_samples_split=10, max_depth=70, max_features=sqrt -   9.4s[CV]  n_estimators=345, min_samples_split=5, max_depth=110, max_features=auto - 2.0min[CV]  n_estimators=422, min_samples_split=15, max_depth=87, max_features=sqrt - 2.0min[CV] n_estimators=216, min_samples_split=2, max_depth=104, max_features=auto \n",
      "\n",
      "\n",
      "\n",
      "[CV] n_estimators=35, min_samples_split=10, max_depth=70, max_features=sqrt \n",
      "[CV] n_estimators=242, min_samples_split=2, max_depth=41, max_features=auto [CV] n_estimators=422, min_samples_split=15, max_depth=87, max_features=sqrt [CV]  n_estimators=216, min_samples_split=2, max_depth=104, max_features=auto - 1.3min[CV]  n_estimators=35, min_samples_split=10, max_depth=70, max_features=sqrt -   9.2s\n",
      "\n",
      "\n",
      "\n",
      "[CV]  n_estimators=242, min_samples_split=2, max_depth=41, max_features=auto - 1.4min[CV]  n_estimators=422, min_samples_split=15, max_depth=87, max_features=sqrt - 1.8min[CV] n_estimators=371, min_samples_split=10, max_depth=75, max_features=sqrt [CV] n_estimators=113, min_samples_split=5, max_depth=98, max_features=sqrt \n",
      "\n",
      "\n",
      "\n",
      "[CV]  n_estimators=113, min_samples_split=5, max_depth=98, max_features=sqrt -  30.2s[CV] n_estimators=242, min_samples_split=2, max_depth=41, max_features=auto \n",
      "[CV] n_estimators=396, min_samples_split=10, max_depth=24, max_features=sqrt [CV]  n_estimators=371, min_samples_split=10, max_depth=75, max_features=sqrt - 1.7min\n",
      "[CV]  n_estimators=242, min_samples_split=2, max_depth=41, max_features=auto - 1.4min\n",
      "\n",
      "[CV] n_estimators=319, min_samples_split=10, max_depth=92, max_features=auto \n",
      "\n",
      "[CV]  n_estimators=396, min_samples_split=10, max_depth=24, max_features=sqrt - 1.7min[CV] n_estimators=396, min_samples_split=5, max_depth=87, max_features=auto \n",
      "[CV]  n_estimators=319, min_samples_split=10, max_depth=92, max_features=auto - 1.9min[CV] n_estimators=448, min_samples_split=10, max_depth=98, max_features=auto \n",
      "[CV]  n_estimators=396, min_samples_split=5, max_depth=87, max_features=auto - 2.4min\n",
      "\n",
      "[CV] n_estimators=319, min_samples_split=5, max_depth=110, max_features=sqrt \n",
      "[CV] n_estimators=87, min_samples_split=2, max_depth=47, max_features=sqrt \n",
      "[CV]  n_estimators=448, min_samples_split=10, max_depth=98, max_features=auto - 2.8min\n",
      "[CV] n_estimators=10, min_samples_split=10, max_depth=19, max_features=sqrt [CV]  n_estimators=87, min_samples_split=2, max_depth=47, max_features=sqrt -  23.5s\n",
      "[CV]  n_estimators=319, min_samples_split=5, max_depth=110, max_features=sqrt - 1.4min\n",
      "\n",
      "[CV] n_estimators=500, min_samples_split=10, max_depth=53, max_features=sqrt \n",
      "\n",
      "[CV]  n_estimators=10, min_samples_split=10, max_depth=19, max_features=sqrt -   2.8s[CV] n_estimators=500, min_samples_split=10, max_depth=75, max_features=auto [CV]  n_estimators=500, min_samples_split=10, max_depth=53, max_features=sqrt - 2.2min[CV] n_estimators=396, min_samples_split=5, max_depth=70, max_features=auto \n",
      "\n",
      "\n",
      "\n",
      "[CV] n_estimators=10, min_samples_split=10, max_depth=19, max_features=sqrt [CV]  n_estimators=500, min_samples_split=10, max_depth=75, max_features=auto - 3.0min[CV] n_estimators=396, min_samples_split=5, max_depth=36, max_features=auto [CV]  n_estimators=396, min_samples_split=5, max_depth=70, max_features=auto - 2.4min\n",
      "\n",
      "\n",
      "\n",
      "[CV]  n_estimators=10, min_samples_split=10, max_depth=19, max_features=sqrt -   2.8s[CV] n_estimators=87, min_samples_split=10, max_depth=104, max_features=sqrt [CV]  n_estimators=396, min_samples_split=5, max_depth=36, max_features=auto - 2.6min[CV] n_estimators=345, min_samples_split=5, max_depth=110, max_features=auto \n",
      "\n",
      "\n",
      "\n",
      "[CV] n_estimators=87, min_samples_split=10, max_depth=81, max_features=sqrt [CV]  n_estimators=87, min_samples_split=10, max_depth=104, max_features=sqrt -  21.7s[CV] n_estimators=396, min_samples_split=2, max_depth=30, max_features=auto \n",
      "[CV]  n_estimators=345, min_samples_split=5, max_depth=110, max_features=auto - 2.1min\n",
      "\n",
      "[CV]  n_estimators=396, min_samples_split=2, max_depth=30, max_features=auto - 2.4min\n",
      "[CV]  n_estimators=87, min_samples_split=10, max_depth=81, max_features=sqrt -  22.9s[CV] n_estimators=474, min_samples_split=5, max_depth=53, max_features=auto \n",
      "[CV] n_estimators=345, min_samples_split=10, max_depth=92, max_features=auto \n",
      "\n",
      "\n",
      "[CV] n_estimators=61, min_samples_split=15, max_depth=None, max_features=sqrt \n",
      "[CV]  n_estimators=345, min_samples_split=10, max_depth=92, max_features=auto - 2.1min[CV] n_estimators=35, min_samples_split=15, max_depth=70, max_features=sqrt [CV]  n_estimators=474, min_samples_split=5, max_depth=53, max_features=auto - 2.8min[CV]  n_estimators=61, min_samples_split=15, max_depth=None, max_features=sqrt -  16.4s\n",
      "\n",
      "\n",
      "\n",
      "[CV] n_estimators=10, min_samples_split=15, max_depth=53, max_features=auto [CV]  n_estimators=35, min_samples_split=15, max_depth=70, max_features=sqrt -   9.4s[CV] n_estimators=396, min_samples_split=10, max_depth=24, max_features=sqrt \n",
      "[CV] n_estimators=396, min_samples_split=10, max_depth=13, max_features=sqrt \n",
      "\n",
      "[CV]  n_estimators=396, min_samples_split=10, max_depth=24, max_features=sqrt - 1.7min\n",
      "[CV]  n_estimators=10, min_samples_split=15, max_depth=53, max_features=auto -   4.0s[CV] n_estimators=35, min_samples_split=15, max_depth=70, max_features=sqrt \n",
      "\n",
      "[CV]  n_estimators=396, min_samples_split=10, max_depth=13, max_features=sqrt - 1.7min\n",
      "[CV]  n_estimators=35, min_samples_split=15, max_depth=70, max_features=sqrt -   9.3s[CV] n_estimators=371, min_samples_split=5, max_depth=2, max_features=auto "
     ]
    }
   ],
   "source": [
    "# Random search of parameters, using 3 fold cross validation, \n",
    "# search across 10 different combinations, and use all available cores\n",
    "# default metric to optimize over grid parameters: accuracy; BUT here we use roc_auc\n",
    "\n",
    "reg_GBM = GradientBoostingClassifier()\n",
    "\n",
    "grid_random_reg_GBM = RandomizedSearchCV(estimator = reg_GBM, param_distributions = random_grid, \\\n",
    "                               n_iter = 200, cv = 3, verbose=2, random_state=42, \\\n",
    "                                        n_jobs = -1, scoring='roc_auc')\n",
    "\n",
    "\n",
    "grid_random_reg_GBM.fit(X_train, y_train)"
   ]
  },
  {
   "cell_type": "code",
   "execution_count": null,
   "metadata": {
    "collapsed": true,
    "deletable": true,
    "editable": true
   },
   "outputs": [],
   "source": []
  },
  {
   "cell_type": "code",
   "execution_count": 117,
   "metadata": {
    "collapsed": false,
    "deletable": true,
    "editable": true
   },
   "outputs": [
    {
     "name": "stdout",
     "output_type": "stream",
     "text": [
      "('Grid best parameter (max. accuracy): ', {'n_estimators': 267, 'min_samples_split': 10, 'max_depth': 2, 'max_features': 'sqrt'})\n",
      "('Grid best score (roc_auc): ', 0.7943394335560708)\n",
      "\n",
      "[CV] n_estimators=61, min_samples_split=15, max_depth=24, max_features=auto \n",
      "\n",
      "[CV] n_estimators=396, min_samples_split=15, max_depth=41, max_features=sqrt \n",
      "[CV] n_estimators=35, min_samples_split=15, max_depth=70, max_features=sqrt [CV]  n_estimators=371, min_samples_split=5, max_depth=2, max_features=auto -  23.9s\n",
      "[CV]  n_estimators=61, min_samples_split=15, max_depth=24, max_features=auto -  20.6s\n",
      "\n",
      "[CV]  n_estimators=396, min_samples_split=15, max_depth=41, max_features=sqrt - 1.8min\n",
      "[CV]  n_estimators=35, min_samples_split=15, max_depth=70, max_features=sqrt -   9.0s[CV] n_estimators=345, min_samples_split=2, max_depth=81, max_features=auto \n",
      "[CV] n_estimators=242, min_samples_split=10, max_depth=87, max_features=auto \n",
      "\n",
      "[CV] n_estimators=422, min_samples_split=10, max_depth=36, max_features=auto \n",
      "[CV] n_estimators=35, min_samples_split=2, max_depth=7, max_features=sqrt [CV]  n_estimators=345, min_samples_split=2, max_depth=81, max_features=auto - 2.0min\n",
      "[CV]  n_estimators=242, min_samples_split=10, max_depth=87, max_features=auto - 1.4min\n",
      "\n",
      "[CV]  n_estimators=422, min_samples_split=10, max_depth=36, max_features=auto - 2.5min\n",
      "[CV]  n_estimators=35, min_samples_split=2, max_depth=7, max_features=sqrt -   6.1s[CV] n_estimators=319, min_samples_split=5, max_depth=110, max_features=sqrt \n",
      "[CV] n_estimators=448, min_samples_split=10, max_depth=98, max_features=auto \n",
      "\n",
      "[CV] n_estimators=448, min_samples_split=2, max_depth=13, max_features=auto \n",
      "\n",
      "[CV] n_estimators=35, min_samples_split=10, max_depth=70, max_features=sqrt \n",
      "[CV]  n_estimators=319, min_samples_split=5, max_depth=110, max_features=sqrt - 1.4min[CV]  n_estimators=448, min_samples_split=2, max_depth=13, max_features=auto - 2.8min[CV]  n_estimators=448, min_samples_split=10, max_depth=98, max_features=auto - 2.8min[CV]  n_estimators=35, min_samples_split=10, max_depth=70, max_features=sqrt -   9.3s\n",
      "\n",
      "\n",
      "\n",
      "[CV] n_estimators=138, min_samples_split=15, max_depth=53, max_features=sqrt [CV] n_estimators=474, min_samples_split=15, max_depth=30, max_features=auto \n",
      "[CV] n_estimators=500, min_samples_split=10, max_depth=53, max_features=sqrt [CV] n_estimators=113, min_samples_split=5, max_depth=98, max_features=sqrt \n",
      "[CV]  n_estimators=474, min_samples_split=15, max_depth=30, max_features=auto - 3.0min\n",
      "\n",
      "[CV]  n_estimators=138, min_samples_split=15, max_depth=53, max_features=sqrt -  37.3s\n",
      "[CV]  n_estimators=500, min_samples_split=10, max_depth=53, max_features=sqrt - 2.2min[CV]  n_estimators=113, min_samples_split=5, max_depth=98, max_features=sqrt -  29.6s\n",
      "[CV] n_estimators=293, min_samples_split=15, max_depth=24, max_features=sqrt \n",
      "\n",
      "\n",
      "[CV] n_estimators=138, min_samples_split=15, max_depth=53, max_features=sqrt [CV]  n_estimators=293, min_samples_split=15, max_depth=24, max_features=sqrt - 1.3min[CV] n_estimators=448, min_samples_split=15, max_depth=81, max_features=auto \n",
      "[CV] n_estimators=319, min_samples_split=10, max_depth=92, max_features=auto \n",
      "\n",
      "[CV]  n_estimators=448, min_samples_split=15, max_depth=81, max_features=auto - 2.8min\n",
      "[CV]  n_estimators=138, min_samples_split=15, max_depth=53, max_features=sqrt -  36.6s[CV] n_estimators=87, min_samples_split=10, max_depth=24, max_features=sqrt \n",
      "[CV]  n_estimators=319, min_samples_split=10, max_depth=92, max_features=auto - 1.9min\n",
      "\n",
      "[CV] n_estimators=396, min_samples_split=2, max_depth=30, max_features=auto \n",
      "[CV] n_estimators=345, min_samples_split=5, max_depth=110, max_features=auto [CV]  n_estimators=87, min_samples_split=10, max_depth=24, max_features=sqrt -  22.9s\n",
      "[CV] n_estimators=87, min_samples_split=2, max_depth=47, max_features=sqrt \n",
      "\n",
      "[CV]  n_estimators=396, min_samples_split=2, max_depth=30, max_features=auto - 2.4min\n",
      "[CV]  n_estimators=345, min_samples_split=5, max_depth=110, max_features=auto - 2.1min\n",
      "[CV]  n_estimators=87, min_samples_split=2, max_depth=47, max_features=sqrt -  23.1s\n",
      "[CV] n_estimators=345, min_samples_split=10, max_depth=92, max_features=auto \n",
      "[CV] n_estimators=396, min_samples_split=10, max_depth=13, max_features=sqrt \n",
      "[CV]  n_estimators=345, min_samples_split=10, max_depth=92, max_features=auto - 2.0min\n",
      "[CV] n_estimators=500, min_samples_split=10, max_depth=75, max_features=auto \n",
      "\n",
      "[CV]  n_estimators=396, min_samples_split=10, max_depth=13, max_features=sqrt - 1.7min[CV]  n_estimators=500, min_samples_split=10, max_depth=75, max_features=auto - 3.0min[CV] n_estimators=10, min_samples_split=15, max_depth=53, max_features=auto \n",
      "\n",
      "\n",
      "[CV] n_estimators=422, min_samples_split=10, max_depth=36, max_features=auto [CV] n_estimators=87, min_samples_split=10, max_depth=104, max_features=sqrt [CV]  n_estimators=10, min_samples_split=15, max_depth=53, max_features=auto -   3.5s\n",
      "\n",
      "\n",
      "[CV]  n_estimators=422, min_samples_split=10, max_depth=36, max_features=auto - 2.6min[CV]  n_estimators=87, min_samples_split=10, max_depth=104, max_features=sqrt -  22.4s[CV] n_estimators=10, min_samples_split=15, max_depth=53, max_features=auto \n",
      "\n",
      "\n",
      "[CV] n_estimators=190, min_samples_split=10, max_depth=98, max_features=auto [CV] n_estimators=474, min_samples_split=5, max_depth=53, max_features=auto \n",
      "[CV]  n_estimators=10, min_samples_split=15, max_depth=53, max_features=auto -   3.6s\n",
      "[CV]  n_estimators=474, min_samples_split=5, max_depth=53, max_features=auto - 2.9min\n",
      "[CV]  n_estimators=190, min_samples_split=10, max_depth=98, max_features=auto - 1.1min\n",
      "[CV] n_estimators=61, min_samples_split=15, max_depth=24, max_features=auto \n",
      "[CV] n_estimators=422, min_samples_split=15, max_depth=87, max_features=sqrt \n",
      "\n",
      "[CV] n_estimators=448, min_samples_split=2, max_depth=13, max_features=auto [CV]  n_estimators=422, min_samples_split=15, max_depth=87, max_features=sqrt - 1.8min[CV]  n_estimators=61, min_samples_split=15, max_depth=24, max_features=auto -  20.3s\n",
      "\n",
      "\n",
      "[CV]  n_estimators=448, min_samples_split=2, max_depth=13, max_features=auto - 2.7min[CV] n_estimators=371, min_samples_split=5, max_depth=2, max_features=auto \n",
      "[CV] n_estimators=61, min_samples_split=15, max_depth=24, max_features=auto \n",
      "[CV]  n_estimators=371, min_samples_split=5, max_depth=2, max_features=auto -  23.5s\n",
      "[CV] n_estimators=474, min_samples_split=15, max_depth=30, max_features=auto \n",
      "\n",
      "[CV]  n_estimators=61, min_samples_split=15, max_depth=24, max_features=auto -  21.0s[CV]  n_estimators=474, min_samples_split=15, max_depth=30, max_features=auto - 2.9min[CV] n_estimators=345, min_samples_split=2, max_depth=81, max_features=auto \n",
      "\n",
      "\n",
      "[CV] n_estimators=242, min_samples_split=10, max_depth=87, max_features=auto [CV] n_estimators=293, min_samples_split=15, max_depth=24, max_features=sqrt \n",
      "[CV]  n_estimators=345, min_samples_split=2, max_depth=81, max_features=auto - 2.0min\n",
      "[CV]  n_estimators=293, min_samples_split=15, max_depth=24, max_features=sqrt - 1.3min\n",
      "[CV]  n_estimators=242, min_samples_split=10, max_depth=87, max_features=auto - 1.4min\n",
      "[CV] n_estimators=319, min_samples_split=5, max_depth=110, max_features=sqrt \n",
      "[CV] n_estimators=113, min_samples_split=5, max_depth=81, max_features=auto \n",
      "\n",
      "[CV] n_estimators=448, min_samples_split=10, max_depth=98, max_features=auto [CV]  n_estimators=113, min_samples_split=5, max_depth=81, max_features=auto -  37.0s[CV]  n_estimators=319, min_samples_split=5, max_depth=110, max_features=sqrt - 1.4min\n",
      "\n",
      "\n",
      "[CV]  n_estimators=448, min_samples_split=10, max_depth=98, max_features=auto - 2.9min[CV] n_estimators=87, min_samples_split=10, max_depth=24, max_features=sqrt \n",
      "[CV] n_estimators=396, min_samples_split=5, max_depth=70, max_features=auto \n",
      "[CV]  n_estimators=87, min_samples_split=10, max_depth=24, max_features=sqrt -  12.5s\n",
      "[CV] n_estimators=35, min_samples_split=2, max_depth=7, max_features=auto \n",
      "[CV]  n_estimators=396, min_samples_split=5, max_depth=70, max_features=auto - 2.4min\n",
      "\n",
      "[CV]  n_estimators=35, min_samples_split=2, max_depth=7, max_features=auto -   8.9s[CV] n_estimators=35, min_samples_split=15, max_depth=36, max_features=auto \n",
      "\n",
      "[CV] n_estimators=35, min_samples_split=10, max_depth=7, max_features=auto [CV]  n_estimators=35, min_samples_split=15, max_depth=36, max_features=auto -  12.2s\n",
      "\n",
      "[CV]  n_estimators=35, min_samples_split=10, max_depth=7, max_features=auto -   8.5s[CV] n_estimators=35, min_samples_split=15, max_depth=36, max_features=auto \n",
      "\n",
      "[CV] n_estimators=35, min_samples_split=10, max_depth=7, max_features=auto \n",
      "[CV]  n_estimators=35, min_samples_split=15, max_depth=36, max_features=auto -  12.3s[CV]  n_estimators=35, min_samples_split=10, max_depth=7, max_features=auto -   9.1s\n",
      "\n",
      "[CV] n_estimators=35, min_samples_split=15, max_depth=36, max_features=auto \n",
      "[CV] n_estimators=35, min_samples_split=15, max_depth=70, max_features=auto [CV]  n_estimators=35, min_samples_split=15, max_depth=36, max_features=auto -  12.4s\n",
      "\n",
      "[CV]  n_estimators=35, min_samples_split=15, max_depth=70, max_features=auto -  11.6s[CV] n_estimators=345, min_samples_split=10, max_depth=92, max_features=auto \n",
      "\n",
      "[CV] n_estimators=396, min_samples_split=5, max_depth=36, max_features=auto \n",
      "[CV]  n_estimators=345, min_samples_split=10, max_depth=92, max_features=auto - 2.0min[CV]  n_estimators=396, min_samples_split=5, max_depth=36, max_features=auto - 2.4min\n",
      "\n",
      "[CV] n_estimators=242, min_samples_split=2, max_depth=41, max_features=auto [CV] n_estimators=448, min_samples_split=15, max_depth=81, max_features=auto \n",
      "\n",
      "[CV]  n_estimators=242, min_samples_split=2, max_depth=41, max_features=auto - 1.4min[CV]  n_estimators=448, min_samples_split=15, max_depth=81, max_features=auto - 2.8min\n",
      "\n",
      "[CV] n_estimators=242, min_samples_split=10, max_depth=87, max_features=auto \n",
      "[CV] n_estimators=396, min_samples_split=2, max_depth=30, max_features=auto [CV]  n_estimators=242, min_samples_split=10, max_depth=87, max_features=auto - 1.4min\n",
      "\n",
      "[CV]  n_estimators=396, min_samples_split=2, max_depth=30, max_features=auto - 2.4min[CV] n_estimators=500, min_samples_split=10, max_depth=53, max_features=sqrt \n",
      "\n",
      "[CV]  n_estimators=500, min_samples_split=10, max_depth=53, max_features=sqrt - 2.4min[CV] n_estimators=396, min_samples_split=15, max_depth=41, max_features=sqrt \n",
      "\n",
      "[CV] n_estimators=35, min_samples_split=2, max_depth=7, max_features=auto \n",
      "[CV]  n_estimators=396, min_samples_split=15, max_depth=41, max_features=sqrt - 1.9min[CV]  n_estimators=35, min_samples_split=2, max_depth=7, max_features=auto -   8.9s\n",
      "\n",
      "[CV] n_estimators=422, min_samples_split=10, max_depth=36, max_features=auto [CV] n_estimators=35, min_samples_split=2, max_depth=7, max_features=auto \n",
      "\n",
      "[CV]  n_estimators=422, min_samples_split=10, max_depth=36, max_features=auto - 2.6min[CV]  n_estimators=35, min_samples_split=2, max_depth=7, max_features=auto -   9.1s\n",
      "\n",
      "[CV] n_estimators=448, min_samples_split=2, max_depth=13, max_features=auto [CV] n_estimators=35, min_samples_split=10, max_depth=7, max_features=auto \n",
      "\n",
      "[CV]  n_estimators=448, min_samples_split=2, max_depth=13, max_features=auto - 2.8min[CV]  n_estimators=35, min_samples_split=10, max_depth=7, max_features=auto -   8.8s\n",
      "\n",
      "[CV] n_estimators=422, min_samples_split=5, max_depth=36, max_features=sqrt \n",
      "[CV] n_estimators=35, min_samples_split=15, max_depth=70, max_features=auto \n",
      "[CV]  n_estimators=422, min_samples_split=5, max_depth=36, max_features=sqrt - 1.9min[CV]  n_estimators=35, min_samples_split=15, max_depth=70, max_features=auto -  11.8s\n",
      "\n",
      "[CV] n_estimators=422, min_samples_split=5, max_depth=36, max_features=sqrt [CV] n_estimators=35, min_samples_split=15, max_depth=70, max_features=auto \n",
      "\n",
      "[CV]  n_estimators=422, min_samples_split=5, max_depth=36, max_features=sqrt - 1.9min[CV]  n_estimators=35, min_samples_split=15, max_depth=70, max_features=auto -  11.7s\n",
      "\n",
      "[CV] n_estimators=113, min_samples_split=5, max_depth=81, max_features=auto [CV] n_estimators=396, min_samples_split=5, max_depth=36, max_features=auto \n",
      "\n",
      "[CV]  n_estimators=113, min_samples_split=5, max_depth=81, max_features=auto -  36.3s[CV]  n_estimators=396, min_samples_split=5, max_depth=36, max_features=auto - 2.5min\n",
      "\n",
      "[CV] n_estimators=87, min_samples_split=10, max_depth=24, max_features=sqrt \n",
      "[CV] n_estimators=448, min_samples_split=15, max_depth=81, max_features=auto [CV]  n_estimators=87, min_samples_split=10, max_depth=24, max_features=sqrt -  18.8s\n",
      "\n",
      "[CV]  n_estimators=448, min_samples_split=15, max_depth=81, max_features=auto - 2.9min\n",
      "[CV] n_estimators=61, min_samples_split=15, max_depth=None, max_features=sqrt \n",
      "[CV]  n_estimators=61, min_samples_split=15, max_depth=None, max_features=sqrt -  16.0s\n",
      "[CV] n_estimators=61, min_samples_split=15, max_depth=None, max_features=sqrt \n",
      "[CV]  n_estimators=61, min_samples_split=15, max_depth=None, max_features=sqrt -  16.2s\n",
      "[CV] n_estimators=396, min_samples_split=10, max_depth=13, max_features=sqrt \n",
      "[CV]  n_estimators=396, min_samples_split=10, max_depth=13, max_features=sqrt - 1.7min\n",
      "[CV] n_estimators=396, min_samples_split=15, max_depth=41, max_features=sqrt \n",
      "[CV]  n_estimators=396, min_samples_split=15, max_depth=41, max_features=sqrt - 1.8min\n",
      "[CV] n_estimators=87, min_samples_split=5, max_depth=81, max_features=sqrt \n",
      "[CV]  n_estimators=87, min_samples_split=5, max_depth=81, max_features=sqrt -  24.6s\n",
      "[CV] n_estimators=87, min_samples_split=5, max_depth=81, max_features=sqrt \n",
      "[CV]  n_estimators=87, min_samples_split=5, max_depth=81, max_features=sqrt -  23.4s\n",
      "[CV] n_estimators=87, min_samples_split=5, max_depth=81, max_features=sqrt \n",
      "[CV]  n_estimators=87, min_samples_split=5, max_depth=81, max_features=sqrt -  23.6s\n",
      "[CV] n_estimators=190, min_samples_split=10, max_depth=98, max_features=auto \n",
      "[CV]  n_estimators=190, min_samples_split=10, max_depth=98, max_features=auto - 1.0min\n",
      "[CV] n_estimators=190, min_samples_split=10, max_depth=98, max_features=auto \n",
      "[CV]  n_estimators=190, min_samples_split=10, max_depth=98, max_features=auto - 1.1min\n",
      "[CV] n_estimators=474, min_samples_split=15, max_depth=30, max_features=auto \n",
      "[CV]  n_estimators=474, min_samples_split=15, max_depth=30, max_features=auto - 2.9min\n",
      "[CV] n_estimators=422, min_samples_split=5, max_depth=36, max_features=sqrt \n",
      "[CV]  n_estimators=422, min_samples_split=5, max_depth=36, max_features=sqrt - 1.9min\n",
      "[CV] n_estimators=293, min_samples_split=15, max_depth=24, max_features=sqrt \n",
      "[CV]  n_estimators=293, min_samples_split=15, max_depth=24, max_features=sqrt - 1.3min\n",
      "[CV] n_estimators=113, min_samples_split=5, max_depth=81, max_features=auto \n",
      "[CV]  n_estimators=113, min_samples_split=5, max_depth=81, max_features=auto -  34.4s\n"
     ]
    }
   ],
   "source": [
    "print('Grid best parameter (max. accuracy): ', grid_random_reg_GBM.best_params_)\n",
    "print('Grid best score (roc_auc): ', grid_random_reg_GBM.best_score_)\n",
    "\n",
    "#('Grid best parameter (max. accuracy): ', {'n_estimators': 115, 'min_samples_split': 5, 'max_depth': 87, 'max_features': 'auto'})\n",
    "#('Grid best score (roc_auc): ', 0.7920464324802742)"
   ]
  },
  {
   "cell_type": "markdown",
   "metadata": {
    "deletable": true,
    "editable": true
   },
   "source": [
    "### The Grid best parameters from random search:\n",
    "('Grid best parameter (max. accuracy): ', {'n_estimators': 267, 'min_samples_split': 10, 'max_depth': 2, 'max_features': 'sqrt'})\n",
    "('Grid best score (roc_auc): ', 0.7943394335560708)"
   ]
  },
  {
   "cell_type": "code",
   "execution_count": 119,
   "metadata": {
    "collapsed": false,
    "deletable": true,
    "editable": true
   },
   "outputs": [
    {
     "data": {
      "text/plain": [
       "GridSearchCV(cv=None, error_score='raise',\n",
       "       estimator=GradientBoostingClassifier(init=None, learning_rate=0.1, loss='deviance',\n",
       "              max_depth=3, max_features=None, max_leaf_nodes=None,\n",
       "              min_samples_leaf=1, min_samples_split=2,\n",
       "              min_weight_fraction_leaf=0.0, n_estimators=100,\n",
       "              presort='auto', random_state=None, subsample=1.0, verbose=0,\n",
       "              warm_start=False),\n",
       "       fit_params={}, iid=True, n_jobs=1,\n",
       "       param_grid={'n_estimators': [267, 270, 280, 290, 250, 240, 230, 220, 300], 'max_features': ['auto'], 'min_samples_split': [8, 9, 10], 'max_depth': [2, 3, 4]},\n",
       "       pre_dispatch='2*n_jobs', refit=True, scoring='roc_auc', verbose=0)"
      ]
     },
     "execution_count": 119,
     "metadata": {},
     "output_type": "execute_result"
    }
   ],
   "source": [
    "\n",
    "# Create the parameter grid based on the results of random search \n",
    "\n",
    "param_grid = { 'n_estimators': [267, 270, 280, 290, 250, 240, 230, 220, 300],\n",
    "               'max_features': ['auto'],\n",
    "               'max_depth': [2, 3, 4],\n",
    "               'min_samples_split': [8, 9, 10]}\n",
    "\n",
    "reg_GBM = GradientBoostingClassifier()\n",
    "\n",
    "grid_reg_GBM = GridSearchCV(reg_GBM, param_grid = param_grid, scoring='roc_auc')\n",
    "grid_reg_GBM.fit(X_train, y_train)"
   ]
  },
  {
   "cell_type": "code",
   "execution_count": 120,
   "metadata": {
    "collapsed": false,
    "deletable": true,
    "editable": true
   },
   "outputs": [
    {
     "name": "stdout",
     "output_type": "stream",
     "text": [
      "('Grid best parameter (max. accuracy): ', {'max_features': 'auto', 'min_samples_split': 10, 'n_estimators': 280, 'max_depth': 3})\n",
      "('Grid best score (roc_auc): ', 0.7944637915654558)\n"
     ]
    }
   ],
   "source": [
    "print('Grid best parameter (max. accuracy): ', grid_reg_GBM.best_params_)\n",
    "print('Grid best score (roc_auc): ', grid_reg_GBM.best_score_)\n",
    "\n",
    "#('Grid best parameter (max. accuracy): ', {'n_estimators': 35, 'min_samples_split': 10, \n",
    "# 'max_depth': 7, 'max_features': 'auto'})\n"
   ]
  },
  {
   "cell_type": "code",
   "execution_count": null,
   "metadata": {
    "collapsed": true
   },
   "outputs": [],
   "source": [
    "\n"
   ]
  },
  {
   "cell_type": "code",
   "execution_count": null,
   "metadata": {
    "collapsed": true
   },
   "outputs": [],
   "source": []
  },
  {
   "cell_type": "code",
   "execution_count": null,
   "metadata": {
    "collapsed": true
   },
   "outputs": [],
   "source": []
  },
  {
   "cell_type": "code",
   "execution_count": 62,
   "metadata": {
    "collapsed": true,
    "deletable": true,
    "editable": true
   },
   "outputs": [],
   "source": [
    "import matplotlib.pyplot as plt\n",
    "import seaborn as sns\n",
    "import numpy as np\n",
    "import pandas as pd"
   ]
  },
  {
   "cell_type": "markdown",
   "metadata": {
    "deletable": true,
    "editable": true
   },
   "source": [
    "### 1. Load the trainset and testset as above"
   ]
  },
  {
   "cell_type": "code",
   "execution_count": 63,
   "metadata": {
    "collapsed": false,
    "deletable": true,
    "editable": true
   },
   "outputs": [],
   "source": [
    "# Reload the trainset and testset\n",
    "\n",
    "traindata = pd.read_csv('train.csv',encoding = \"ISO-8859-1\")\n",
    "testdata = pd.read_csv('test.csv',encoding = \"ISO-8859-1\")\n",
    "\n",
    "\n",
    "# add one more feature\n",
    "columns_to_keep = ['disposition','fine_amount','late_fee', 'discount_amount', \n",
    "                   'judgment_amount','hearing_date', 'ticket_issued_date', 'compliance']\n",
    "columns_to_keep_test = ['disposition','fine_amount','late_fee', 'discount_amount', \n",
    "                        'judgment_amount','hearing_date', 'ticket_issued_date']\n",
    "\n",
    "traindata = traindata[columns_to_keep]\n",
    "testdata = testdata[columns_to_keep_test]\n",
    "\n",
    "\n",
    "# reduce memory usage by casting\n",
    "for i in range(len(traindata.columns)):\n",
    "    if len(traindata[traindata.columns[i]].unique()) < 250:\n",
    "        traindata[traindata.columns[i]] = traindata[traindata.columns[i]].astype('category')\n",
    "        \n",
    "# Double check and drop any of the columns and rows that contains NAN\n",
    "traindata = traindata.dropna(axis=1,how='all') # drop columns that contain only Nans\n",
    "traindata = traindata.dropna(axis=0,how='any') # drop rows that contain at least one Nan\n",
    "traindata = traindata[traindata['compliance'].notnull()]\n",
    "\n",
    "\n",
    "# to make sure the disposition variable is same in both training and testing sets \n",
    "traindata['disposition'] = traindata.disposition.astype(str)\n",
    "testdata['disposition'] = testdata.disposition.astype(str)\n",
    "\n",
    "testdata = testdata[testdata['disposition'] != 'Responsible (Fine Waived) by Admis'] \n",
    "testdata = testdata[testdata['disposition'] != 'Responsible - Compl/Adj by Default'] \n",
    "testdata = testdata[testdata['disposition'] != 'Responsible - Compl/Adj by Determi'] \n",
    "testdata = testdata[testdata['disposition'] != 'Responsible by Dismissal'] \n",
    "\n",
    "# process the date time variables\n",
    "\n",
    "traindata['hearing_date'] = pd.to_datetime(traindata['hearing_date'])\n",
    "traindata['ticket_issued_date'] = pd.to_datetime(traindata['ticket_issued_date'])\n",
    "testdata['hearing_date'] = pd.to_datetime(testdata['hearing_date'])\n",
    "testdata['ticket_issued_date'] = pd.to_datetime(testdata['ticket_issued_date'])\n",
    "\n",
    "# compute a new variable date time gap\n",
    "\n",
    "traindata['time_gap'] = traindata['hearing_date'].subtract(traindata['ticket_issued_date'])\n",
    "traindata['time_gap'] = traindata['time_gap'].dt.days\n",
    "traindata.drop(['hearing_date','ticket_issued_date'],axis = 1,inplace = True)\n",
    "    \n",
    "testdata['time_gap'] = testdata['hearing_date'].subtract(testdata['ticket_issued_date'])\n",
    "testdata['time_gap'] = testdata['time_gap'].dt.days\n",
    "testdata.drop(['hearing_date','ticket_issued_date'],axis = 1,inplace = True)\n",
    "    \n",
    "    \n",
    "# process and transform string_features to two-digit variables\n",
    "\n",
    "string_features = ['disposition']\n",
    "traindata =  pd.get_dummies(traindata,columns = string_features,drop_first = False)\n",
    "testdata =  pd.get_dummies(testdata,columns = string_features,drop_first = False)"
   ]
  },
  {
   "cell_type": "code",
   "execution_count": null,
   "metadata": {
    "collapsed": true,
    "deletable": true,
    "editable": true
   },
   "outputs": [],
   "source": []
  },
  {
   "cell_type": "code",
   "execution_count": 64,
   "metadata": {
    "collapsed": false,
    "deletable": true,
    "editable": true
   },
   "outputs": [
    {
     "data": {
      "text/html": [
       "<div>\n",
       "<style scoped>\n",
       "    .dataframe tbody tr th:only-of-type {\n",
       "        vertical-align: middle;\n",
       "    }\n",
       "\n",
       "    .dataframe tbody tr th {\n",
       "        vertical-align: top;\n",
       "    }\n",
       "\n",
       "    .dataframe thead th {\n",
       "        text-align: right;\n",
       "    }\n",
       "</style>\n",
       "<table border=\"1\" class=\"dataframe\">\n",
       "  <thead>\n",
       "    <tr style=\"text-align: right;\">\n",
       "      <th></th>\n",
       "      <th>fine_amount</th>\n",
       "      <th>late_fee</th>\n",
       "      <th>discount_amount</th>\n",
       "      <th>judgment_amount</th>\n",
       "      <th>compliance</th>\n",
       "      <th>time_gap</th>\n",
       "      <th>disposition_Responsible (Fine Waived) by Deter</th>\n",
       "      <th>disposition_Responsible by Admission</th>\n",
       "      <th>disposition_Responsible by Default</th>\n",
       "      <th>disposition_Responsible by Determination</th>\n",
       "    </tr>\n",
       "  </thead>\n",
       "  <tbody>\n",
       "    <tr>\n",
       "      <th>0</th>\n",
       "      <td>250.0</td>\n",
       "      <td>25.0</td>\n",
       "      <td>0.0</td>\n",
       "      <td>305.0</td>\n",
       "      <td>0.0</td>\n",
       "      <td>369</td>\n",
       "      <td>0</td>\n",
       "      <td>0</td>\n",
       "      <td>1</td>\n",
       "      <td>0</td>\n",
       "    </tr>\n",
       "    <tr>\n",
       "      <th>1</th>\n",
       "      <td>750.0</td>\n",
       "      <td>75.0</td>\n",
       "      <td>0.0</td>\n",
       "      <td>855.0</td>\n",
       "      <td>1.0</td>\n",
       "      <td>378</td>\n",
       "      <td>0</td>\n",
       "      <td>0</td>\n",
       "      <td>0</td>\n",
       "      <td>1</td>\n",
       "    </tr>\n",
       "    <tr>\n",
       "      <th>5</th>\n",
       "      <td>250.0</td>\n",
       "      <td>25.0</td>\n",
       "      <td>0.0</td>\n",
       "      <td>305.0</td>\n",
       "      <td>0.0</td>\n",
       "      <td>323</td>\n",
       "      <td>0</td>\n",
       "      <td>0</td>\n",
       "      <td>1</td>\n",
       "      <td>0</td>\n",
       "    </tr>\n",
       "    <tr>\n",
       "      <th>6</th>\n",
       "      <td>750.0</td>\n",
       "      <td>75.0</td>\n",
       "      <td>0.0</td>\n",
       "      <td>855.0</td>\n",
       "      <td>0.0</td>\n",
       "      <td>253</td>\n",
       "      <td>0</td>\n",
       "      <td>0</td>\n",
       "      <td>1</td>\n",
       "      <td>0</td>\n",
       "    </tr>\n",
       "    <tr>\n",
       "      <th>7</th>\n",
       "      <td>100.0</td>\n",
       "      <td>10.0</td>\n",
       "      <td>0.0</td>\n",
       "      <td>140.0</td>\n",
       "      <td>0.0</td>\n",
       "      <td>251</td>\n",
       "      <td>0</td>\n",
       "      <td>0</td>\n",
       "      <td>1</td>\n",
       "      <td>0</td>\n",
       "    </tr>\n",
       "  </tbody>\n",
       "</table>\n",
       "</div>"
      ],
      "text/plain": [
       "  fine_amount late_fee discount_amount judgment_amount compliance  time_gap  \\\n",
       "0       250.0     25.0             0.0           305.0        0.0       369   \n",
       "1       750.0     75.0             0.0           855.0        1.0       378   \n",
       "5       250.0     25.0             0.0           305.0        0.0       323   \n",
       "6       750.0     75.0             0.0           855.0        0.0       253   \n",
       "7       100.0     10.0             0.0           140.0        0.0       251   \n",
       "\n",
       "   disposition_Responsible (Fine Waived) by Deter  \\\n",
       "0                                               0   \n",
       "1                                               0   \n",
       "5                                               0   \n",
       "6                                               0   \n",
       "7                                               0   \n",
       "\n",
       "   disposition_Responsible by Admission  disposition_Responsible by Default  \\\n",
       "0                                     0                                   1   \n",
       "1                                     0                                   0   \n",
       "5                                     0                                   1   \n",
       "6                                     0                                   1   \n",
       "7                                     0                                   1   \n",
       "\n",
       "   disposition_Responsible by Determination  \n",
       "0                                         0  \n",
       "1                                         1  \n",
       "5                                         0  \n",
       "6                                         0  \n",
       "7                                         0  "
      ]
     },
     "execution_count": 64,
     "metadata": {},
     "output_type": "execute_result"
    }
   ],
   "source": [
    "traindata.head()"
   ]
  },
  {
   "cell_type": "markdown",
   "metadata": {
    "deletable": true,
    "editable": true
   },
   "source": [
    "### Why hearing_date can be  known prior to the ticket_issue_date? "
   ]
  },
  {
   "cell_type": "code",
   "execution_count": 65,
   "metadata": {
    "collapsed": false,
    "deletable": true,
    "editable": true
   },
   "outputs": [
    {
     "data": {
      "text/html": [
       "<div>\n",
       "<style scoped>\n",
       "    .dataframe tbody tr th:only-of-type {\n",
       "        vertical-align: middle;\n",
       "    }\n",
       "\n",
       "    .dataframe tbody tr th {\n",
       "        vertical-align: top;\n",
       "    }\n",
       "\n",
       "    .dataframe thead th {\n",
       "        text-align: right;\n",
       "    }\n",
       "</style>\n",
       "<table border=\"1\" class=\"dataframe\">\n",
       "  <thead>\n",
       "    <tr style=\"text-align: right;\">\n",
       "      <th></th>\n",
       "      <th>fine_amount</th>\n",
       "      <th>late_fee</th>\n",
       "      <th>discount_amount</th>\n",
       "      <th>judgment_amount</th>\n",
       "      <th>compliance</th>\n",
       "      <th>time_gap</th>\n",
       "      <th>disposition_Responsible (Fine Waived) by Deter</th>\n",
       "      <th>disposition_Responsible by Admission</th>\n",
       "      <th>disposition_Responsible by Default</th>\n",
       "      <th>disposition_Responsible by Determination</th>\n",
       "    </tr>\n",
       "  </thead>\n",
       "  <tbody>\n",
       "    <tr>\n",
       "      <th>81036</th>\n",
       "      <td>200.0</td>\n",
       "      <td>20.0</td>\n",
       "      <td>0.0</td>\n",
       "      <td>250.0</td>\n",
       "      <td>0.0</td>\n",
       "      <td>-9</td>\n",
       "      <td>0</td>\n",
       "      <td>0</td>\n",
       "      <td>1</td>\n",
       "      <td>0</td>\n",
       "    </tr>\n",
       "    <tr>\n",
       "      <th>117989</th>\n",
       "      <td>250.0</td>\n",
       "      <td>25.0</td>\n",
       "      <td>0.0</td>\n",
       "      <td>305.0</td>\n",
       "      <td>0.0</td>\n",
       "      <td>-1</td>\n",
       "      <td>0</td>\n",
       "      <td>0</td>\n",
       "      <td>1</td>\n",
       "      <td>0</td>\n",
       "    </tr>\n",
       "  </tbody>\n",
       "</table>\n",
       "</div>"
      ],
      "text/plain": [
       "       fine_amount late_fee discount_amount judgment_amount compliance  \\\n",
       "81036        200.0     20.0             0.0           250.0        0.0   \n",
       "117989       250.0     25.0             0.0           305.0        0.0   \n",
       "\n",
       "        time_gap  disposition_Responsible (Fine Waived) by Deter  \\\n",
       "81036         -9                                               0   \n",
       "117989        -1                                               0   \n",
       "\n",
       "        disposition_Responsible by Admission  \\\n",
       "81036                                      0   \n",
       "117989                                     0   \n",
       "\n",
       "        disposition_Responsible by Default  \\\n",
       "81036                                    1   \n",
       "117989                                   1   \n",
       "\n",
       "        disposition_Responsible by Determination  \n",
       "81036                                          0  \n",
       "117989                                         0  "
      ]
     },
     "execution_count": 65,
     "metadata": {},
     "output_type": "execute_result"
    }
   ],
   "source": [
    "# why hearing_date is known prior to the ticket_issue_date? \n",
    "traindata[traindata['time_gap'] < 0].head(2)\n",
    "#traindata[traindata['time_gap'] < 0].shape"
   ]
  },
  {
   "cell_type": "markdown",
   "metadata": {
    "deletable": true,
    "editable": true
   },
   "source": [
    "# Construct Random Forest Model again"
   ]
  },
  {
   "cell_type": "code",
   "execution_count": 66,
   "metadata": {
    "collapsed": false,
    "deletable": true,
    "editable": true
   },
   "outputs": [
    {
     "name": "stdout",
     "output_type": "stream",
     "text": [
      "0.17.1\n"
     ]
    }
   ],
   "source": [
    "from sklearn.cross_validation import train_test_split\n",
    "from sklearn.grid_search import GridSearchCV\n",
    "from sklearn.ensemble import RandomForestRegressor\n",
    "from sklearn.grid_search import RandomizedSearchCV\n",
    "import sklearn\n",
    "print(sklearn.__version__)"
   ]
  },
  {
   "cell_type": "code",
   "execution_count": 67,
   "metadata": {
    "collapsed": true,
    "deletable": true,
    "editable": true
   },
   "outputs": [],
   "source": [
    "y = traindata['compliance']\n",
    "X = traindata.drop('compliance',axis = 1)\n",
    "\n",
    "X_train, X_test, y_train, y_test = train_test_split(X, y)"
   ]
  },
  {
   "cell_type": "code",
   "execution_count": 68,
   "metadata": {
    "collapsed": false,
    "deletable": true,
    "editable": true
   },
   "outputs": [
    {
     "data": {
      "text/plain": [
       "False"
      ]
     },
     "execution_count": 68,
     "metadata": {},
     "output_type": "execute_result"
    }
   ],
   "source": [
    "# double check if any nan presents\n",
    "traindata.isnull().values.any()"
   ]
  },
  {
   "cell_type": "code",
   "execution_count": 69,
   "metadata": {
    "collapsed": true,
    "deletable": true,
    "editable": true
   },
   "outputs": [],
   "source": [
    "# Number of trees in random forest\n",
    "n_estimators = [int(x) for x in np.linspace(start = 10, stop = 500, num = 20)]\n",
    "\n",
    "# Minimum number of samples required to split a node\n",
    "min_samples_split = [2, 5, 10, 15]\n",
    "\n",
    "# Number of features to consider at every split\n",
    "max_features = ['auto', 'sqrt']\n",
    "\n",
    "# Maximum number of levels in tree\n",
    "max_depth = [int(x) for x in np.linspace(2, 110, num = 20)]\n",
    "max_depth.append(None)\n",
    "\n",
    "\n",
    "# Create the random grid\n",
    "random_grid = {'n_estimators': n_estimators,\n",
    "               'max_features': max_features,\n",
    "               'max_depth': max_depth,\n",
    "               'min_samples_split': min_samples_split}"
   ]
  },
  {
   "cell_type": "code",
   "execution_count": 70,
   "metadata": {
    "collapsed": false,
    "deletable": true,
    "editable": true
   },
   "outputs": [
    {
     "name": "stdout",
     "output_type": "stream",
     "text": [
      "{'n_estimators': [10, 35, 61, 87, 113, 138, 164, 190, 216, 242, 267, 293, 319, 345, 371, 396, 422, 448, 474, 500], 'max_features': ['auto', 'sqrt'], 'min_samples_split': [2, 5, 10, 15], 'max_depth': [2, 7, 13, 19, 24, 30, 36, 41, 47, 53, 58, 64, 70, 75, 81, 87, 92, 98, 104, 110, None]}\n"
     ]
    }
   ],
   "source": [
    "print random_grid"
   ]
  },
  {
   "cell_type": "code",
   "execution_count": 207,
   "metadata": {
    "collapsed": false,
    "deletable": true,
    "editable": true
   },
   "outputs": [
    {
     "data": {
      "text/plain": [
       "\"\\nreg_RF = RandomForestRegressor()\\n\\ngrid_random_reg_RF = RandomizedSearchCV(estimator = reg_RF, param_distributions = random_grid,                                n_iter = 400, cv = 3, verbose=2, random_state=42,                                         n_jobs = -1, scoring='roc_auc')\\n\\n\\ngrid_random_reg_RF.fit(X_train, y_train)\\n\\n\""
      ]
     },
     "execution_count": 207,
     "metadata": {},
     "output_type": "execute_result"
    }
   ],
   "source": [
    "'''\n",
    "reg_RF = RandomForestRegressor()\n",
    "\n",
    "grid_random_reg_RF = RandomizedSearchCV(estimator = reg_RF, param_distributions = random_grid, \\\n",
    "                               n_iter = 400, cv = 3, verbose=2, random_state=42, \\\n",
    "                                        n_jobs = -1, scoring='roc_auc')\n",
    "\n",
    "\n",
    "grid_random_reg_RF.fit(X_train, y_train)\n",
    "\n",
    "'''"
   ]
  },
  {
   "cell_type": "code",
   "execution_count": 212,
   "metadata": {
    "collapsed": false,
    "deletable": true,
    "editable": true
   },
   "outputs": [
    {
     "name": "stdout",
     "output_type": "stream",
     "text": [
      "[10, 20, 30, 40, 50, 60, 70, 80, 90, 100, 110, 120, 130, 140, 150, 160, 170, 180, 190, 200, 210, 220, 230, 240, 250, 260, 270, 280, 290, 300, 310, 320, 330, 340, 350, 360, 370, 380, 390, 400, 410, 420, 430, 440, 450, 460, 470, 480, 490, 500]\n"
     ]
    }
   ],
   "source": [
    "n_estimators = [int(x) for x in np.linspace(start = 10, stop = 500, num = 50)]\n",
    "print n_estimators"
   ]
  },
  {
   "cell_type": "code",
   "execution_count": 216,
   "metadata": {
    "collapsed": false,
    "deletable": true,
    "editable": true
   },
   "outputs": [
    {
     "name": "stdout",
     "output_type": "stream",
     "text": [
      "<scipy.stats._distn_infrastructure.rv_frozen object at 0x11e612550>\n"
     ]
    }
   ],
   "source": [
    "import scipy\n",
    "\n",
    "print scipy.stats.expon(scale=100)"
   ]
  },
  {
   "cell_type": "code",
   "execution_count": null,
   "metadata": {
    "collapsed": true,
    "deletable": true,
    "editable": true
   },
   "outputs": [],
   "source": []
  },
  {
   "cell_type": "code",
   "execution_count": 52,
   "metadata": {
    "collapsed": false,
    "deletable": true,
    "editable": true
   },
   "outputs": [
    {
     "data": {
      "text/plain": [
       "str"
      ]
     },
     "execution_count": 52,
     "metadata": {},
     "output_type": "execute_result"
    }
   ],
   "source": [
    "#type(traindata['violation_code'].unique()[0])"
   ]
  },
  {
   "cell_type": "code",
   "execution_count": 60,
   "metadata": {
    "collapsed": false,
    "deletable": true,
    "editable": true
   },
   "outputs": [
    {
     "name": "stdout",
     "output_type": "stream",
     "text": [
      "19910901 # 22-2-42(b) # 61-5-14 (9) # 9-1-353(1) # 9-1-218 # 9-1-308 # 22-2-84(b)(1) # 61-103.0100/32.0066 # 22-2-92 # 61-112.0100/32.0066 # 61-83.0100/45.0807 # 61-85.0100/32.0066 # 22-2-41(b) # 19410901 # 9-1-444 # 61-5-20 # 9-1-111(a) # 61-104.0100/32.0066 # 61-102.0100/32.0066 # 9-1-111(b) # 61-81.0100/32.0076B # 61-103.0100/32.0031 # 22-2-83(a)(c) # 22-2-48(b) # 22-2-48(a) # 9-1-471 # 22-2-97 # 22-2-88(c) # 22-2-83(e) # 61-119.0100/32.0066 # 61-14-175 # 22-2-83(d)(e) # 61-100.0100 # 61-13-102 #\n"
     ]
    }
   ],
   "source": [
    "for num in testdata['violation_code'].unique():\n",
    "    if num not in traindata['violation_code'].unique():\n",
    "        print num, '#',"
   ]
  },
  {
   "cell_type": "code",
   "execution_count": 62,
   "metadata": {
    "collapsed": false,
    "deletable": true,
    "editable": true
   },
   "outputs": [
    {
     "name": "stdout",
     "output_type": "stream",
     "text": [
      "61-63.0600 # 61-63.0500 # 61-63.0100 # 61-47.0000/47.0108 # 61-90.0100 # 61-130.0000/130.0400 # 9-1-210 # 9-1-220 # 9-1-214 # 9-1-477 # 9-1-211 # 9-1-476 # 22-2-20 # 61-80.0100 # 9-1-106 # 61-81.0100/45.0807 # 22-2-87(a) # 22-2-84 (DO NOT USE  # 9-1-207 # 9-1-354 # 9-1-306 # 61-83.0100/32.0066 # 61-111.0100/32.0066 # 61-121.0100/32.0066 # 61-120.0100/32.0066 # 9-1-464 # 9-1-441 # 9-1-441(a) # 9-1-462(a) # 9-1-474 # 9-1-440 # 22-2-53 # 9-1-81(b) # 9-1-331 # 9-1-442 # 9-1-351 # 9-1-406 # 22-2-97(b) # 9-1-478 # 9-1-439 # 9-1-375 # 9-1-465 # 9-1-443(a) # 9-1-305 # 9-1-443(b) # 9-1-45(c) # 9-1-46(a) # 9-1-405 # 9-1-219 # 61-114.0100 # 22-2-42 # 9-1-307 # 19840901 # 9-1-377 # 19850901 # 9-1-353(2) # 9-1-333 # 22-3-2 # 61-8-47 # 9-1-352 # 9-1-203 # 22-2-21(a) # 61-86.0100/32.0076B # 61-82.0100/32.0031 # 61-104.0100 # 9-1-503 # 61-86.0100/45.0807 # 61-45.0000/45.0800 # 9-1-502 # 61-84.0100/45.0807 # 9-1-434 # 20160901 #\n"
     ]
    }
   ],
   "source": [
    "for num in traindata['violation_code'].unique():\n",
    "    if num not in testdata['violation_code'].unique():\n",
    "        print num, '#',"
   ]
  },
  {
   "cell_type": "code",
   "execution_count": 23,
   "metadata": {
    "collapsed": false,
    "deletable": true,
    "editable": true
   },
   "outputs": [
    {
     "data": {
      "text/plain": [
       "(3, 244)"
      ]
     },
     "execution_count": 23,
     "metadata": {},
     "output_type": "execute_result"
    }
   ],
   "source": [
    "\n",
    "traindata['hearing_date'] = pd.to_datetime(traindata['hearing_date'])\n",
    "traindata['ticket_issued_date'] = pd.to_datetime(traindata['ticket_issued_date'])\n",
    "testdata['hearing_date'] = pd.to_datetime(testdata['hearing_date'])\n",
    "testdata['ticket_issued_date'] = pd.to_datetime(testdata['ticket_issued_date'])"
   ]
  },
  {
   "cell_type": "code",
   "execution_count": 24,
   "metadata": {
    "collapsed": false,
    "deletable": true,
    "editable": true
   },
   "outputs": [
    {
     "data": {
      "text/plain": [
       "(3, 159)"
      ]
     },
     "execution_count": 24,
     "metadata": {},
     "output_type": "execute_result"
    }
   ],
   "source": [
    "testdata.head(3).shape"
   ]
  },
  {
   "cell_type": "code",
   "execution_count": null,
   "metadata": {
    "collapsed": true,
    "deletable": true,
    "editable": true
   },
   "outputs": [],
   "source": []
  },
  {
   "cell_type": "code",
   "execution_count": null,
   "metadata": {
    "collapsed": true,
    "deletable": true,
    "editable": true
   },
   "outputs": [],
   "source": []
  },
  {
   "cell_type": "markdown",
   "metadata": {
    "deletable": true,
    "editable": true
   },
   "source": [
    "### These features may be used:\n",
    "( note: both date and string variables will be tested)\n",
    "* inspector_name\n",
    "* violation_street_name\n",
    "* mailing_address_str_name\n",
    "* *ticket_issued_date* (how can we use this to predict future observations? different months may have different propensities for blight?)\n",
    "* *hearing_date* (how can we use this to predict future observations? This seems very relevant !!!)\n",
    "* violation_code\n",
    "* violation_description\n",
    "* disposition\n",
    "* fine_amount (0.0 or othersize)\n",
    "* late_fee\n",
    "* discount_amount\n",
    "* judgment_amount"
   ]
  },
  {
   "cell_type": "code",
   "execution_count": 13,
   "metadata": {
    "collapsed": true,
    "deletable": true,
    "editable": true
   },
   "outputs": [],
   "source": [
    "df = pd.read_csv('train.csv',encoding = \"ISO-8859-1\")\n"
   ]
  },
  {
   "cell_type": "code",
   "execution_count": 14,
   "metadata": {
    "collapsed": false,
    "deletable": true,
    "editable": true
   },
   "outputs": [
    {
     "name": "stdout",
     "output_type": "stream",
     "text": [
      "(173,)\n",
      "(1791,)\n",
      "(37897,)\n",
      "(235,)\n",
      "(258,)\n",
      "(9,)\n"
     ]
    }
   ],
   "source": [
    "print(df['inspector_name'].unique().shape)\n",
    "print(df['violation_street_name'].unique().shape)\n",
    "print(df['mailing_address_str_name'].unique().shape)\n",
    "print(df['violation_code'].unique().shape)\n",
    "print(df['violation_description'].unique().shape)\n",
    "print(df['disposition'].unique().shape)\n",
    "\n"
   ]
  },
  {
   "cell_type": "code",
   "execution_count": 16,
   "metadata": {
    "collapsed": false,
    "deletable": true,
    "editable": true
   },
   "outputs": [],
   "source": [
    "#df['violation_description'].unique()\n"
   ]
  },
  {
   "cell_type": "code",
   "execution_count": 17,
   "metadata": {
    "collapsed": false,
    "deletable": true,
    "editable": true
   },
   "outputs": [
    {
     "data": {
      "text/plain": [
       "(250306, 34)"
      ]
     },
     "execution_count": 17,
     "metadata": {},
     "output_type": "execute_result"
    }
   ],
   "source": [
    "df.shape\n"
   ]
  },
  {
   "cell_type": "code",
   "execution_count": 32,
   "metadata": {
    "collapsed": true,
    "deletable": true,
    "editable": true
   },
   "outputs": [],
   "source": [
    "# Reload the trainset and testset\n",
    "\n",
    "traindata = pd.read_csv('train.csv',encoding = \"ISO-8859-1\")\n",
    "testdata = pd.read_csv('test.csv',encoding = \"ISO-8859-1\")\n",
    "\n",
    "\n",
    "# add one more feature\n",
    "columns_to_keep = ['disposition','fine_amount','late_fee', 'discount_amount', \n",
    "                   'judgment_amount','violation_description', 'compliance']\n",
    "columns_to_keep_test = ['disposition','fine_amount','late_fee', 'discount_amount', \n",
    "                        'judgment_amount','violation_description']\n",
    "\n",
    "traindata = traindata[columns_to_keep]\n",
    "testdata = testdata[columns_to_keep_test]\n",
    "\n",
    "\n",
    "# reduce memory usage by casting\n",
    "for i in range(len(traindata.columns)):\n",
    "    if len(traindata[traindata.columns[i]].unique()) < 250:\n",
    "        traindata[traindata.columns[i]] = traindata[traindata.columns[i]].astype('category')\n",
    "        \n",
    "# Double check and drop any of the columns and rows that contains NAN\n",
    "traindata = traindata.dropna(axis=1,how='all')\n",
    "traindata = traindata.dropna(axis=0,how='all')\n",
    "traindata = traindata[traindata['compliance'].notnull()]\n"
   ]
  },
  {
   "cell_type": "code",
   "execution_count": 39,
   "metadata": {
    "collapsed": false,
    "deletable": true,
    "editable": true
   },
   "outputs": [
    {
     "ename": "KeyError",
     "evalue": "'violation_description'",
     "output_type": "error",
     "traceback": [
      "\u001b[0;31m---------------------------------------------------------------------------\u001b[0m",
      "\u001b[0;31mKeyError\u001b[0m                                  Traceback (most recent call last)",
      "\u001b[0;32m<ipython-input-39-18c5426f34f1>\u001b[0m in \u001b[0;36m<module>\u001b[0;34m()\u001b[0m\n\u001b[0;32m----> 1\u001b[0;31m \u001b[0mtraindata\u001b[0m\u001b[0;34m[\u001b[0m\u001b[0;34m'violation_description'\u001b[0m\u001b[0;34m]\u001b[0m\u001b[0;34m.\u001b[0m\u001b[0munique\u001b[0m\u001b[0;34m(\u001b[0m\u001b[0;34m)\u001b[0m\u001b[0;34m.\u001b[0m\u001b[0mshape\u001b[0m\u001b[0;34m\u001b[0m\u001b[0m\n\u001b[0m",
      "\u001b[0;32m/Users/jingjinghuang/anaconda/lib/python2.7/site-packages/pandas/core/frame.pyc\u001b[0m in \u001b[0;36m__getitem__\u001b[0;34m(self, key)\u001b[0m\n\u001b[1;32m   2925\u001b[0m             \u001b[0;32mif\u001b[0m \u001b[0mself\u001b[0m\u001b[0;34m.\u001b[0m\u001b[0mcolumns\u001b[0m\u001b[0;34m.\u001b[0m\u001b[0mnlevels\u001b[0m \u001b[0;34m>\u001b[0m \u001b[0;36m1\u001b[0m\u001b[0;34m:\u001b[0m\u001b[0;34m\u001b[0m\u001b[0m\n\u001b[1;32m   2926\u001b[0m                 \u001b[0;32mreturn\u001b[0m \u001b[0mself\u001b[0m\u001b[0;34m.\u001b[0m\u001b[0m_getitem_multilevel\u001b[0m\u001b[0;34m(\u001b[0m\u001b[0mkey\u001b[0m\u001b[0;34m)\u001b[0m\u001b[0;34m\u001b[0m\u001b[0m\n\u001b[0;32m-> 2927\u001b[0;31m             \u001b[0mindexer\u001b[0m \u001b[0;34m=\u001b[0m \u001b[0mself\u001b[0m\u001b[0;34m.\u001b[0m\u001b[0mcolumns\u001b[0m\u001b[0;34m.\u001b[0m\u001b[0mget_loc\u001b[0m\u001b[0;34m(\u001b[0m\u001b[0mkey\u001b[0m\u001b[0;34m)\u001b[0m\u001b[0;34m\u001b[0m\u001b[0m\n\u001b[0m\u001b[1;32m   2928\u001b[0m             \u001b[0;32mif\u001b[0m \u001b[0mis_integer\u001b[0m\u001b[0;34m(\u001b[0m\u001b[0mindexer\u001b[0m\u001b[0;34m)\u001b[0m\u001b[0;34m:\u001b[0m\u001b[0;34m\u001b[0m\u001b[0m\n\u001b[1;32m   2929\u001b[0m                 \u001b[0mindexer\u001b[0m \u001b[0;34m=\u001b[0m \u001b[0;34m[\u001b[0m\u001b[0mindexer\u001b[0m\u001b[0;34m]\u001b[0m\u001b[0;34m\u001b[0m\u001b[0m\n",
      "\u001b[0;32m/Users/jingjinghuang/anaconda/lib/python2.7/site-packages/pandas/core/indexes/base.pyc\u001b[0m in \u001b[0;36mget_loc\u001b[0;34m(self, key, method, tolerance)\u001b[0m\n\u001b[1;32m   2657\u001b[0m                 \u001b[0;32mreturn\u001b[0m \u001b[0mself\u001b[0m\u001b[0;34m.\u001b[0m\u001b[0m_engine\u001b[0m\u001b[0;34m.\u001b[0m\u001b[0mget_loc\u001b[0m\u001b[0;34m(\u001b[0m\u001b[0mkey\u001b[0m\u001b[0;34m)\u001b[0m\u001b[0;34m\u001b[0m\u001b[0m\n\u001b[1;32m   2658\u001b[0m             \u001b[0;32mexcept\u001b[0m \u001b[0mKeyError\u001b[0m\u001b[0;34m:\u001b[0m\u001b[0;34m\u001b[0m\u001b[0m\n\u001b[0;32m-> 2659\u001b[0;31m                 \u001b[0;32mreturn\u001b[0m \u001b[0mself\u001b[0m\u001b[0;34m.\u001b[0m\u001b[0m_engine\u001b[0m\u001b[0;34m.\u001b[0m\u001b[0mget_loc\u001b[0m\u001b[0;34m(\u001b[0m\u001b[0mself\u001b[0m\u001b[0;34m.\u001b[0m\u001b[0m_maybe_cast_indexer\u001b[0m\u001b[0;34m(\u001b[0m\u001b[0mkey\u001b[0m\u001b[0;34m)\u001b[0m\u001b[0;34m)\u001b[0m\u001b[0;34m\u001b[0m\u001b[0m\n\u001b[0m\u001b[1;32m   2660\u001b[0m         \u001b[0mindexer\u001b[0m \u001b[0;34m=\u001b[0m \u001b[0mself\u001b[0m\u001b[0;34m.\u001b[0m\u001b[0mget_indexer\u001b[0m\u001b[0;34m(\u001b[0m\u001b[0;34m[\u001b[0m\u001b[0mkey\u001b[0m\u001b[0;34m]\u001b[0m\u001b[0;34m,\u001b[0m \u001b[0mmethod\u001b[0m\u001b[0;34m=\u001b[0m\u001b[0mmethod\u001b[0m\u001b[0;34m,\u001b[0m \u001b[0mtolerance\u001b[0m\u001b[0;34m=\u001b[0m\u001b[0mtolerance\u001b[0m\u001b[0;34m)\u001b[0m\u001b[0;34m\u001b[0m\u001b[0m\n\u001b[1;32m   2661\u001b[0m         \u001b[0;32mif\u001b[0m \u001b[0mindexer\u001b[0m\u001b[0;34m.\u001b[0m\u001b[0mndim\u001b[0m \u001b[0;34m>\u001b[0m \u001b[0;36m1\u001b[0m \u001b[0;32mor\u001b[0m \u001b[0mindexer\u001b[0m\u001b[0;34m.\u001b[0m\u001b[0msize\u001b[0m \u001b[0;34m>\u001b[0m \u001b[0;36m1\u001b[0m\u001b[0;34m:\u001b[0m\u001b[0;34m\u001b[0m\u001b[0m\n",
      "\u001b[0;32mpandas/_libs/index.pyx\u001b[0m in \u001b[0;36mpandas._libs.index.IndexEngine.get_loc\u001b[0;34m()\u001b[0m\n",
      "\u001b[0;32mpandas/_libs/index.pyx\u001b[0m in \u001b[0;36mpandas._libs.index.IndexEngine.get_loc\u001b[0;34m()\u001b[0m\n",
      "\u001b[0;32mpandas/_libs/hashtable_class_helper.pxi\u001b[0m in \u001b[0;36mpandas._libs.hashtable.PyObjectHashTable.get_item\u001b[0;34m()\u001b[0m\n",
      "\u001b[0;32mpandas/_libs/hashtable_class_helper.pxi\u001b[0m in \u001b[0;36mpandas._libs.hashtable.PyObjectHashTable.get_item\u001b[0;34m()\u001b[0m\n",
      "\u001b[0;31mKeyError\u001b[0m: 'violation_description'"
     ]
    }
   ],
   "source": [
    "traindata['violation_description'].unique().shape\n"
   ]
  },
  {
   "cell_type": "code",
   "execution_count": 38,
   "metadata": {
    "collapsed": false,
    "deletable": true,
    "editable": true
   },
   "outputs": [
    {
     "ename": "KeyError",
     "evalue": "'violation_description'",
     "output_type": "error",
     "traceback": [
      "\u001b[0;31m---------------------------------------------------------------------------\u001b[0m",
      "\u001b[0;31mKeyError\u001b[0m                                  Traceback (most recent call last)",
      "\u001b[0;32m<ipython-input-38-63157a1f9daa>\u001b[0m in \u001b[0;36m<module>\u001b[0;34m()\u001b[0m\n\u001b[0;32m----> 1\u001b[0;31m \u001b[0mtestdata\u001b[0m\u001b[0;34m[\u001b[0m\u001b[0;34m'violation_description'\u001b[0m\u001b[0;34m]\u001b[0m\u001b[0;34m.\u001b[0m\u001b[0munique\u001b[0m\u001b[0;34m(\u001b[0m\u001b[0;34m)\u001b[0m\u001b[0;34m.\u001b[0m\u001b[0mshape\u001b[0m\u001b[0;34m\u001b[0m\u001b[0m\n\u001b[0m",
      "\u001b[0;32m/Users/jingjinghuang/anaconda/lib/python2.7/site-packages/pandas/core/frame.pyc\u001b[0m in \u001b[0;36m__getitem__\u001b[0;34m(self, key)\u001b[0m\n\u001b[1;32m   2925\u001b[0m             \u001b[0;32mif\u001b[0m \u001b[0mself\u001b[0m\u001b[0;34m.\u001b[0m\u001b[0mcolumns\u001b[0m\u001b[0;34m.\u001b[0m\u001b[0mnlevels\u001b[0m \u001b[0;34m>\u001b[0m \u001b[0;36m1\u001b[0m\u001b[0;34m:\u001b[0m\u001b[0;34m\u001b[0m\u001b[0m\n\u001b[1;32m   2926\u001b[0m                 \u001b[0;32mreturn\u001b[0m \u001b[0mself\u001b[0m\u001b[0;34m.\u001b[0m\u001b[0m_getitem_multilevel\u001b[0m\u001b[0;34m(\u001b[0m\u001b[0mkey\u001b[0m\u001b[0;34m)\u001b[0m\u001b[0;34m\u001b[0m\u001b[0m\n\u001b[0;32m-> 2927\u001b[0;31m             \u001b[0mindexer\u001b[0m \u001b[0;34m=\u001b[0m \u001b[0mself\u001b[0m\u001b[0;34m.\u001b[0m\u001b[0mcolumns\u001b[0m\u001b[0;34m.\u001b[0m\u001b[0mget_loc\u001b[0m\u001b[0;34m(\u001b[0m\u001b[0mkey\u001b[0m\u001b[0;34m)\u001b[0m\u001b[0;34m\u001b[0m\u001b[0m\n\u001b[0m\u001b[1;32m   2928\u001b[0m             \u001b[0;32mif\u001b[0m \u001b[0mis_integer\u001b[0m\u001b[0;34m(\u001b[0m\u001b[0mindexer\u001b[0m\u001b[0;34m)\u001b[0m\u001b[0;34m:\u001b[0m\u001b[0;34m\u001b[0m\u001b[0m\n\u001b[1;32m   2929\u001b[0m                 \u001b[0mindexer\u001b[0m \u001b[0;34m=\u001b[0m \u001b[0;34m[\u001b[0m\u001b[0mindexer\u001b[0m\u001b[0;34m]\u001b[0m\u001b[0;34m\u001b[0m\u001b[0m\n",
      "\u001b[0;32m/Users/jingjinghuang/anaconda/lib/python2.7/site-packages/pandas/core/indexes/base.pyc\u001b[0m in \u001b[0;36mget_loc\u001b[0;34m(self, key, method, tolerance)\u001b[0m\n\u001b[1;32m   2657\u001b[0m                 \u001b[0;32mreturn\u001b[0m \u001b[0mself\u001b[0m\u001b[0;34m.\u001b[0m\u001b[0m_engine\u001b[0m\u001b[0;34m.\u001b[0m\u001b[0mget_loc\u001b[0m\u001b[0;34m(\u001b[0m\u001b[0mkey\u001b[0m\u001b[0;34m)\u001b[0m\u001b[0;34m\u001b[0m\u001b[0m\n\u001b[1;32m   2658\u001b[0m             \u001b[0;32mexcept\u001b[0m \u001b[0mKeyError\u001b[0m\u001b[0;34m:\u001b[0m\u001b[0;34m\u001b[0m\u001b[0m\n\u001b[0;32m-> 2659\u001b[0;31m                 \u001b[0;32mreturn\u001b[0m \u001b[0mself\u001b[0m\u001b[0;34m.\u001b[0m\u001b[0m_engine\u001b[0m\u001b[0;34m.\u001b[0m\u001b[0mget_loc\u001b[0m\u001b[0;34m(\u001b[0m\u001b[0mself\u001b[0m\u001b[0;34m.\u001b[0m\u001b[0m_maybe_cast_indexer\u001b[0m\u001b[0;34m(\u001b[0m\u001b[0mkey\u001b[0m\u001b[0;34m)\u001b[0m\u001b[0;34m)\u001b[0m\u001b[0;34m\u001b[0m\u001b[0m\n\u001b[0m\u001b[1;32m   2660\u001b[0m         \u001b[0mindexer\u001b[0m \u001b[0;34m=\u001b[0m \u001b[0mself\u001b[0m\u001b[0;34m.\u001b[0m\u001b[0mget_indexer\u001b[0m\u001b[0;34m(\u001b[0m\u001b[0;34m[\u001b[0m\u001b[0mkey\u001b[0m\u001b[0;34m]\u001b[0m\u001b[0;34m,\u001b[0m \u001b[0mmethod\u001b[0m\u001b[0;34m=\u001b[0m\u001b[0mmethod\u001b[0m\u001b[0;34m,\u001b[0m \u001b[0mtolerance\u001b[0m\u001b[0;34m=\u001b[0m\u001b[0mtolerance\u001b[0m\u001b[0;34m)\u001b[0m\u001b[0;34m\u001b[0m\u001b[0m\n\u001b[1;32m   2661\u001b[0m         \u001b[0;32mif\u001b[0m \u001b[0mindexer\u001b[0m\u001b[0;34m.\u001b[0m\u001b[0mndim\u001b[0m \u001b[0;34m>\u001b[0m \u001b[0;36m1\u001b[0m \u001b[0;32mor\u001b[0m \u001b[0mindexer\u001b[0m\u001b[0;34m.\u001b[0m\u001b[0msize\u001b[0m \u001b[0;34m>\u001b[0m \u001b[0;36m1\u001b[0m\u001b[0;34m:\u001b[0m\u001b[0;34m\u001b[0m\u001b[0m\n",
      "\u001b[0;32mpandas/_libs/index.pyx\u001b[0m in \u001b[0;36mpandas._libs.index.IndexEngine.get_loc\u001b[0;34m()\u001b[0m\n",
      "\u001b[0;32mpandas/_libs/index.pyx\u001b[0m in \u001b[0;36mpandas._libs.index.IndexEngine.get_loc\u001b[0;34m()\u001b[0m\n",
      "\u001b[0;32mpandas/_libs/hashtable_class_helper.pxi\u001b[0m in \u001b[0;36mpandas._libs.hashtable.PyObjectHashTable.get_item\u001b[0;34m()\u001b[0m\n",
      "\u001b[0;32mpandas/_libs/hashtable_class_helper.pxi\u001b[0m in \u001b[0;36mpandas._libs.hashtable.PyObjectHashTable.get_item\u001b[0;34m()\u001b[0m\n",
      "\u001b[0;31mKeyError\u001b[0m: 'violation_description'"
     ]
    }
   ],
   "source": [
    "testdata['violation_description'].unique().shape\n"
   ]
  },
  {
   "cell_type": "code",
   "execution_count": null,
   "metadata": {
    "collapsed": true,
    "deletable": true,
    "editable": true
   },
   "outputs": [],
   "source": []
  },
  {
   "cell_type": "markdown",
   "metadata": {
    "deletable": true,
    "editable": true
   },
   "source": [
    " <br>\n",
    " <br>\n",
    "# The best RandomForest model so far...\n",
    " <br>\n",
    " <br>\n",
    " <br>\n",
    " <br>\n",
    " <br>\n",
    " <br>\n",
    " ### 1. Loading and processing datasets"
   ]
  },
  {
   "cell_type": "code",
   "execution_count": 212,
   "metadata": {
    "collapsed": false,
    "deletable": true,
    "editable": true
   },
   "outputs": [
    {
     "name": "stdout",
     "output_type": "stream",
     "text": [
      "0.17.1\n",
      "('testdata-shape', (61001, 7))\n",
      "('testdata-shape', (61001, 7))\n"
     ]
    }
   ],
   "source": [
    "import numpy as np\n",
    "import pandas as pd\n",
    "#from sklearn.model_selection import train_test_split, GridSearchCV, RandomizedSearchCV\n",
    "from sklearn.ensemble import RandomForestRegressor\n",
    "from sklearn.cross_validation import train_test_split\n",
    "from sklearn.grid_search import GridSearchCV\n",
    "from sklearn.grid_search import RandomizedSearchCV\n",
    "import sklearn\n",
    "\n",
    "print(sklearn.__version__)\n",
    "\n",
    "# read the two datasets\n",
    "traindata = pd.read_csv('train.csv',encoding = \"ISO-8859-1\")\n",
    "testdata = pd.read_csv('test.csv',encoding = \"ISO-8859-1\")\n",
    "\n",
    "# add one more feature\n",
    "columns_to_keep = ['disposition','fine_amount','late_fee', 'discount_amount',\n",
    "                   'judgment_amount','hearing_date', 'ticket_issued_date', 'compliance']\n",
    "columns_to_keep_test = ['disposition','fine_amount','late_fee', 'discount_amount',\n",
    "                        'judgment_amount','hearing_date', 'ticket_issued_date']\n",
    "\n",
    "traindata = traindata[columns_to_keep]\n",
    "testdata = testdata[columns_to_keep_test]\n",
    "\n",
    "# reduce memory usage by casting\n",
    "for i in range(len(traindata.columns)):\n",
    "    if len(traindata[traindata.columns[i]].unique()) < 250:\n",
    "        traindata[traindata.columns[i]] = traindata[traindata.columns[i]].astype('category')\n",
    "\n",
    "# Double check and drop any of the columns and rows that contains NAN\n",
    "traindata = traindata.dropna(axis=1,how='all') # drop columns that contain only Nans\n",
    "traindata = traindata.dropna(axis=0,how='any') # drop rows that contain at least one Nan\n",
    "traindata = traindata[traindata['compliance'].notnull()]\n",
    "\n",
    "\n",
    "# to make sure the disposition variable is same in both training and testing sets \n",
    "traindata['disposition'] = traindata.disposition.astype(str)\n",
    "testdata['disposition'] = testdata.disposition.astype(str)\n",
    "\n",
    "print('testdata-shape', testdata.shape)\n",
    "\n",
    "#testdata = testdata[testdata['disposition'] != 'Responsible (Fine Waived) by Admis']\n",
    "#testdata = testdata[testdata['disposition'] != 'Responsible - Compl/Adj by Default']\n",
    "#testdata = testdata[testdata['disposition'] != 'Responsible - Compl/Adj by Determi']\n",
    "#testdata = testdata[testdata['disposition'] != 'Responsible by Dismissal']\n",
    "testdata['disposition'].replace(['Responsible (Fine Waived) by Admis'], 'Responsible by Admission',inplace=True)\n",
    "testdata['disposition'].replace(['Responsible - Compl/Adj by Default'], 'Responsible by Default',inplace=True)\n",
    "testdata['disposition'].replace(['Responsible - Compl/Adj by Determi'], 'Responsible by Determination',inplace=True)\n",
    "testdata['disposition'].replace(['Responsible by Dismissal'], 'Responsible (Fine Waived) by Deter',inplace=True)\n",
    "\n",
    "\n",
    "print('testdata-shape', testdata.shape)\n",
    "\n",
    "# process the date time variables\n",
    "traindata['hearing_date'] = pd.to_datetime(traindata['hearing_date'])\n",
    "traindata['ticket_issued_date'] = pd.to_datetime(traindata['ticket_issued_date'])\n",
    "testdata['hearing_date'] = pd.to_datetime(testdata['hearing_date'])\n",
    "testdata['ticket_issued_date'] = pd.to_datetime(testdata['ticket_issued_date'])\n",
    "\n",
    "\n",
    "# compute a new variable date time gap\n",
    "traindata['time_gap'] = traindata['hearing_date'].subtract(traindata['ticket_issued_date'])\n",
    "traindata['time_gap'] = traindata['time_gap'].dt.days\n",
    "traindata.drop(['hearing_date','ticket_issued_date'],axis = 1,inplace = True)\n",
    "testdata['time_gap'] = testdata['hearing_date'].subtract(testdata['ticket_issued_date'])\n",
    "testdata['time_gap'] = testdata['time_gap'].dt.days\n",
    "testdata.drop(['hearing_date','ticket_issued_date'],axis = 1,inplace = True)\n",
    "\n",
    "# process and transform string_features to two-digit variables\n",
    "string_features = ['disposition']\n",
    "traindata =  pd.get_dummies(traindata,columns = string_features,drop_first = False)\n",
    "testdata =  pd.get_dummies(testdata,columns = string_features,drop_first = False)\n",
    "\n",
    "\n",
    "y = traindata['compliance']\n",
    "X = traindata.drop('compliance',axis = 1)\n",
    "\n",
    "X_train, X_test, y_train, y_test = train_test_split(X, y)\n",
    "\n"
   ]
  },
  {
   "cell_type": "code",
   "execution_count": 213,
   "metadata": {
    "collapsed": false,
    "deletable": true,
    "editable": true
   },
   "outputs": [
    {
     "name": "stdout",
     "output_type": "stream",
     "text": [
      "(119739, 9) (39914, 9) (61001, 9)\n"
     ]
    }
   ],
   "source": [
    "print X_train.shape, X_test.shape,testdata.shape"
   ]
  },
  {
   "cell_type": "markdown",
   "metadata": {
    "deletable": true,
    "editable": true
   },
   "source": [
    "### 2. Other simple models as baseline"
   ]
  },
  {
   "cell_type": "code",
   "execution_count": 214,
   "metadata": {
    "collapsed": false,
    "deletable": true,
    "editable": true
   },
   "outputs": [
    {
     "name": "stdout",
     "output_type": "stream",
     "text": [
      "0.928847021095355 0.9282522820467851 0.5\n",
      "0.7260715626227561 0.876785087939069 0.8750448893008961\n"
     ]
    }
   ],
   "source": [
    "# some other models as baselines\n",
    "\n",
    "from sklearn.dummy import DummyClassifier\n",
    "from sklearn.metrics import roc_auc_score\n",
    "\n",
    "dummy_clf = DummyClassifier(strategy = 'most_frequent').fit(X_train,y_train)\n",
    "ypred = dummy_clf.predict(X_test)\n",
    "\n",
    "print dummy_clf.score(X_test,y_test),dummy_clf.score(X_train,y_train),roc_auc_score(y_test,ypred)\n",
    "\n",
    "from sklearn.naive_bayes import GaussianNB\n",
    "\n",
    "nbclf = GaussianNB().fit(X_train, y_train)\n",
    "y_pred = nbclf.predict(X_test)\n",
    "\n",
    "print roc_auc_score(y_test,y_pred),nbclf.score(X_test, y_test),(nbclf.score(X_train, y_train))"
   ]
  },
  {
   "cell_type": "code",
   "execution_count": 174,
   "metadata": {
    "collapsed": false,
    "deletable": true,
    "editable": true
   },
   "outputs": [
    {
     "data": {
      "text/plain": [
       "5339.0"
      ]
     },
     "execution_count": 174,
     "metadata": {},
     "output_type": "execute_result"
    }
   ],
   "source": [
    "np.sum(y_pred)"
   ]
  },
  {
   "cell_type": "markdown",
   "metadata": {
    "deletable": true,
    "editable": true
   },
   "source": [
    "### 3. Run GridSearchCV to attain paramters - (double check)"
   ]
  },
  {
   "cell_type": "code",
   "execution_count": 175,
   "metadata": {
    "collapsed": false,
    "deletable": true,
    "editable": true
   },
   "outputs": [
    {
     "data": {
      "text/plain": [
       "GridSearchCV(cv=None, error_score='raise',\n",
       "       estimator=RandomForestRegressor(bootstrap=True, criterion='mse', max_depth=None,\n",
       "           max_features='auto', max_leaf_nodes=None, min_samples_leaf=1,\n",
       "           min_samples_split=2, min_weight_fraction_leaf=0.0,\n",
       "           n_estimators=10, n_jobs=1, oob_score=False, random_state=None,\n",
       "           verbose=0, warm_start=False),\n",
       "       fit_params={}, iid=True, n_jobs=-1,\n",
       "       param_grid={'n_estimators': [80], 'max_features': ['sqrt'], 'min_samples_split': [6], 'max_depth': [8]},\n",
       "       pre_dispatch='2*n_jobs', refit=True, scoring='roc_auc', verbose=0)"
      ]
     },
     "execution_count": 175,
     "metadata": {},
     "output_type": "execute_result"
    }
   ],
   "source": [
    "# Create the random grid\n",
    "param_grid =  {'n_estimators': [80],\n",
    "               'max_features': ['sqrt'],\n",
    "               'max_depth': [8],\n",
    "               'min_samples_split': [6]}\n",
    "\n",
    "\n",
    "reg_RF = RandomForestRegressor()\n",
    "\n",
    "grid_reg_RF = GridSearchCV(reg_RF, param_grid = param_grid, n_jobs=-1, scoring='roc_auc')\n",
    "\n",
    "grid_reg_RF.fit(X_train, y_train)"
   ]
  },
  {
   "cell_type": "code",
   "execution_count": 176,
   "metadata": {
    "collapsed": false,
    "deletable": true,
    "editable": true
   },
   "outputs": [
    {
     "name": "stdout",
     "output_type": "stream",
     "text": [
      "('Grid best parameter (max. roc_auc): ', {'max_features': 'sqrt', 'min_samples_split': 6, 'n_estimators': 80, 'max_depth': 8})\n",
      "('Grid best score (roc_auc): ', 0.8024721670244276)\n"
     ]
    }
   ],
   "source": [
    "print('Grid best parameter (max. roc_auc): ', grid_reg_RF.best_params_)\n",
    "print('Grid best score (roc_auc): ', grid_reg_RF.best_score_)"
   ]
  },
  {
   "cell_type": "markdown",
   "metadata": {
    "collapsed": true,
    "deletable": true,
    "editable": true
   },
   "source": [
    "### 4. Build Random Forest using the parameters"
   ]
  },
  {
   "cell_type": "code",
   "execution_count": 177,
   "metadata": {
    "collapsed": false,
    "deletable": true,
    "editable": true
   },
   "outputs": [
    {
     "data": {
      "text/plain": [
       "RandomForestRegressor(bootstrap=True, criterion='mse', max_depth=8,\n",
       "           max_features='sqrt', max_leaf_nodes=None, min_samples_leaf=1,\n",
       "           min_samples_split=4, min_weight_fraction_leaf=0.0,\n",
       "           n_estimators=160, n_jobs=1, oob_score=False, random_state=None,\n",
       "           verbose=0, warm_start=False)"
      ]
     },
     "execution_count": 177,
     "metadata": {},
     "output_type": "execute_result"
    }
   ],
   "source": [
    "# 0.8000819277656926\n",
    "#reg_RF = RandomForestRegressor(n_estimators=80,min_samples_split=6, max_features='sqrt',max_depth=8)\n",
    "\n",
    "# 0.8041931516203397\n",
    "reg_RF = RandomForestRegressor(n_estimators=160,min_samples_split=4, max_features='sqrt',max_depth=8)\n",
    "\n",
    "\n",
    "reg_RF.fit(X_train, y_train)\n"
   ]
  },
  {
   "cell_type": "code",
   "execution_count": 178,
   "metadata": {
    "collapsed": false,
    "deletable": true,
    "editable": true
   },
   "outputs": [
    {
     "name": "stdout",
     "output_type": "stream",
     "text": [
      "0.8106690949361832 0.7999924138519074\n"
     ]
    }
   ],
   "source": [
    "ypred_train = reg_RF.predict(X_train)\n",
    "ypred_test = reg_RF.predict(X_test)\n",
    "\n",
    "print roc_auc_score(y_train,ypred_train), roc_auc_score(y_test,ypred_test)"
   ]
  },
  {
   "cell_type": "code",
   "execution_count": 179,
   "metadata": {
    "collapsed": false,
    "deletable": true,
    "editable": true
   },
   "outputs": [],
   "source": [
    "#ypred_train = np.array([1 if n >= 0.5 else 0 for n in ypred_train])\n",
    "#ypred_test = np.array([1 if n >= 0.5 else 0 for n in ypred_test])"
   ]
  },
  {
   "cell_type": "code",
   "execution_count": 180,
   "metadata": {
    "collapsed": false,
    "deletable": true,
    "editable": true
   },
   "outputs": [
    {
     "name": "stdout",
     "output_type": "stream",
     "text": [
      "0.8106690949361832 0.7999924138519074\n"
     ]
    }
   ],
   "source": [
    "print roc_auc_score(y_train,ypred_train), roc_auc_score(y_test,ypred_test)\n",
    "#print reg_RF.score(X_test,y_test),reg_RF.score(X_train,y_train)"
   ]
  },
  {
   "cell_type": "code",
   "execution_count": 181,
   "metadata": {
    "collapsed": false,
    "deletable": true,
    "editable": true
   },
   "outputs": [
    {
     "name": "stdout",
     "output_type": "stream",
     "text": [
      "0.8106690949361832 0.7999924138519074\n",
      "0.26404165400561797 0.2738704534534059\n"
     ]
    }
   ],
   "source": [
    "print roc_auc_score(y_train,ypred_train), roc_auc_score(y_test,ypred_test)\n",
    "print reg_RF.score(X_test,y_test),reg_RF.score(X_train,y_train)"
   ]
  },
  {
   "cell_type": "markdown",
   "metadata": {
    "collapsed": false,
    "deletable": true,
    "editable": true
   },
   "source": [
    "### 5. Make predictions for the test.set"
   ]
  },
  {
   "cell_type": "code",
   "execution_count": 220,
   "metadata": {
    "collapsed": true
   },
   "outputs": [],
   "source": [
    "testdata_full = pd.read_csv('test.csv',encoding = \"ISO-8859-1\")"
   ]
  },
  {
   "cell_type": "code",
   "execution_count": 215,
   "metadata": {
    "collapsed": false
   },
   "outputs": [],
   "source": [
    "testdata = testdata.fillna(value=0)\n",
    "test_pred = reg_RF.predict(testdata)"
   ]
  },
  {
   "cell_type": "code",
   "execution_count": 221,
   "metadata": {
    "collapsed": false
   },
   "outputs": [],
   "source": [
    "#df_output\n",
    "df_output = pd.DataFrame(test_pred, index=testdata_full['ticket_id'])"
   ]
  },
  {
   "cell_type": "code",
   "execution_count": 222,
   "metadata": {
    "collapsed": false
   },
   "outputs": [
    {
     "data": {
      "text/html": [
       "<div>\n",
       "<style scoped>\n",
       "    .dataframe tbody tr th:only-of-type {\n",
       "        vertical-align: middle;\n",
       "    }\n",
       "\n",
       "    .dataframe tbody tr th {\n",
       "        vertical-align: top;\n",
       "    }\n",
       "\n",
       "    .dataframe thead th {\n",
       "        text-align: right;\n",
       "    }\n",
       "</style>\n",
       "<table border=\"1\" class=\"dataframe\">\n",
       "  <thead>\n",
       "    <tr style=\"text-align: right;\">\n",
       "      <th></th>\n",
       "      <th>0</th>\n",
       "    </tr>\n",
       "    <tr>\n",
       "      <th>ticket_id</th>\n",
       "      <th></th>\n",
       "    </tr>\n",
       "  </thead>\n",
       "  <tbody>\n",
       "    <tr>\n",
       "      <th>284932</th>\n",
       "      <td>0.062335</td>\n",
       "    </tr>\n",
       "    <tr>\n",
       "      <th>285362</th>\n",
       "      <td>0.012723</td>\n",
       "    </tr>\n",
       "    <tr>\n",
       "      <th>285361</th>\n",
       "      <td>0.072390</td>\n",
       "    </tr>\n",
       "    <tr>\n",
       "      <th>285338</th>\n",
       "      <td>0.059121</td>\n",
       "    </tr>\n",
       "    <tr>\n",
       "      <th>285346</th>\n",
       "      <td>0.069831</td>\n",
       "    </tr>\n",
       "  </tbody>\n",
       "</table>\n",
       "</div>"
      ],
      "text/plain": [
       "                  0\n",
       "ticket_id          \n",
       "284932     0.062335\n",
       "285362     0.012723\n",
       "285361     0.072390\n",
       "285338     0.059121\n",
       "285346     0.069831"
      ]
     },
     "execution_count": 222,
     "metadata": {},
     "output_type": "execute_result"
    }
   ],
   "source": [
    "df_output.head()"
   ]
  },
  {
   "cell_type": "markdown",
   "metadata": {
    "deletable": true,
    "editable": true
   },
   "source": [
    " <br>\n",
    " <br>\n",
    " <br>\n",
    "\n",
    "# Model Diagnostics - How to improve the performance\n",
    "\n",
    "\n",
    "\n",
    " <br>\n",
    " <br>\n",
    " <br>\n",
    " <br> \n",
    " <br>\n",
    " <br>\n"
   ]
  },
  {
   "cell_type": "code",
   "execution_count": 166,
   "metadata": {
    "collapsed": false,
    "deletable": true,
    "editable": true
   },
   "outputs": [
    {
     "name": "stdout",
     "output_type": "stream",
     "text": [
      "('testdata-shape', (61001, 7))\n"
     ]
    }
   ],
   "source": [
    "# read the two datasets\n",
    "traindata = pd.read_csv('train.csv',encoding = \"ISO-8859-1\")\n",
    "testdata = pd.read_csv('test.csv',encoding = \"ISO-8859-1\")\n",
    "\n",
    "# add one more feature\n",
    "columns_to_keep = ['disposition','fine_amount','late_fee', 'discount_amount',\n",
    "                   'judgment_amount','hearing_date', 'ticket_issued_date', 'compliance']\n",
    "columns_to_keep_test = ['disposition','fine_amount','late_fee', 'discount_amount',\n",
    "                        'judgment_amount','hearing_date', 'ticket_issued_date']\n",
    "\n",
    "traindata = traindata[columns_to_keep]\n",
    "testdata = testdata[columns_to_keep_test]\n",
    "\n",
    "\n",
    "# reduce memory usage by casting\n",
    "for i in range(len(traindata.columns)):\n",
    "    if len(traindata[traindata.columns[i]].unique()) < 250:\n",
    "        traindata[traindata.columns[i]] = traindata[traindata.columns[i]].astype('category')\n",
    "\n",
    "# Double check and drop any of the columns and rows that contains NAN\n",
    "traindata = traindata.dropna(axis=1,how='all') # drop columns that contain only Nans\n",
    "traindata = traindata.dropna(axis=0,how='any') # drop rows that contain at least one Nan\n",
    "traindata = traindata[traindata['compliance'].notnull()]\n",
    "\n",
    "\n",
    "# to make sure the disposition variable is same in both training and testing sets \n",
    "traindata['disposition'] = traindata.disposition.astype(str)\n",
    "testdata['disposition'] = testdata.disposition.astype(str)\n",
    "\n",
    "print('testdata-shape', testdata.shape)\n",
    "\n",
    "#testdata = testdata[testdata['disposition'] != 'Responsible (Fine Waived) by Admis']\n",
    "#testdata = testdata[testdata['disposition'] != 'Responsible - Compl/Adj by Default']\n",
    "#testdata = testdata[testdata['disposition'] != 'Responsible - Compl/Adj by Determi']\n",
    "#testdata = testdata[testdata['disposition'] != 'Responsible by Dismissal']\n",
    "testdata['disposition'].replace(['Responsible (Fine Waived) by Admis'], 'Responsible by Admission',inplace=True)\n",
    "testdata['disposition'].replace(['Responsible - Compl/Adj by Default'], 'Responsible by Default',inplace=True)\n",
    "testdata['disposition'].replace(['Responsible - Compl/Adj by Determi'], 'Responsible by Determination',inplace=True)\n",
    "testdata['disposition'].replace(['Responsible by Dismissal'], 'Responsible (Fine Waived) by Deter',inplace=True)\n",
    "\n",
    "\n",
    "\n"
   ]
  },
  {
   "cell_type": "code",
   "execution_count": 170,
   "metadata": {
    "collapsed": false
   },
   "outputs": [],
   "source": []
  },
  {
   "cell_type": "code",
   "execution_count": 164,
   "metadata": {
    "collapsed": false
   },
   "outputs": [],
   "source": [
    "#testdata"
   ]
  },
  {
   "cell_type": "code",
   "execution_count": 169,
   "metadata": {
    "collapsed": false,
    "deletable": true,
    "editable": true
   },
   "outputs": [
    {
     "data": {
      "text/html": [
       "<div>\n",
       "<style scoped>\n",
       "    .dataframe tbody tr th:only-of-type {\n",
       "        vertical-align: middle;\n",
       "    }\n",
       "\n",
       "    .dataframe tbody tr th {\n",
       "        vertical-align: top;\n",
       "    }\n",
       "\n",
       "    .dataframe thead th {\n",
       "        text-align: right;\n",
       "    }\n",
       "</style>\n",
       "<table border=\"1\" class=\"dataframe\">\n",
       "  <thead>\n",
       "    <tr style=\"text-align: right;\">\n",
       "      <th></th>\n",
       "      <th>disposition</th>\n",
       "      <th>fine_amount</th>\n",
       "      <th>late_fee</th>\n",
       "      <th>discount_amount</th>\n",
       "      <th>judgment_amount</th>\n",
       "      <th>hearing_date</th>\n",
       "      <th>ticket_issued_date</th>\n",
       "    </tr>\n",
       "  </thead>\n",
       "  <tbody>\n",
       "  </tbody>\n",
       "</table>\n",
       "</div>"
      ],
      "text/plain": [
       "Empty DataFrame\n",
       "Columns: [disposition, fine_amount, late_fee, discount_amount, judgment_amount, hearing_date, ticket_issued_date]\n",
       "Index: []"
      ]
     },
     "execution_count": 169,
     "metadata": {},
     "output_type": "execute_result"
    }
   ],
   "source": [
    "testdata[testdata['disposition'] == 'Responsible (Fine Waived) by Admis']"
   ]
  },
  {
   "cell_type": "code",
   "execution_count": 148,
   "metadata": {
    "collapsed": false
   },
   "outputs": [
    {
     "data": {
      "text/plain": [
       "17038    Responsible (Fine Waived) by Admis\n",
       "Name: disposition, dtype: object"
      ]
     },
     "execution_count": 148,
     "metadata": {},
     "output_type": "execute_result"
    }
   ],
   "source": [
    "#testdata[testdata['disposition'] == 'Responsible (Fine Waived) by Admis']['disposition']"
   ]
  },
  {
   "cell_type": "code",
   "execution_count": 146,
   "metadata": {
    "collapsed": false
   },
   "outputs": [
    {
     "data": {
      "text/plain": [
       "array(['Responsible by Default', 'Responsible by Determination',\n",
       "       'Responsible by Admission', 'Responsible (Fine Waived) by Deter'],\n",
       "      dtype=object)"
      ]
     },
     "execution_count": 146,
     "metadata": {},
     "output_type": "execute_result"
    }
   ],
   "source": [
    "traindata['disposition'].unique()"
   ]
  },
  {
   "cell_type": "code",
   "execution_count": null,
   "metadata": {
    "collapsed": true
   },
   "outputs": [],
   "source": []
  }
 ],
 "metadata": {
  "kernelspec": {
   "display_name": "Python 2",
   "language": "python",
   "name": "python2"
  },
  "language_info": {
   "codemirror_mode": {
    "name": "ipython",
    "version": 2
   },
   "file_extension": ".py",
   "mimetype": "text/x-python",
   "name": "python",
   "nbconvert_exporter": "python",
   "pygments_lexer": "ipython2",
   "version": "2.7.13"
  }
 },
 "nbformat": 4,
 "nbformat_minor": 0
}
