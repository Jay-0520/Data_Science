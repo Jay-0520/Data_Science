{
 "cells": [
  {
   "cell_type": "code",
   "execution_count": 1,
   "metadata": {
    "collapsed": true
   },
   "outputs": [],
   "source": [
    "import numpy as np \n",
    "import pandas as pd"
   ]
  },
  {
   "cell_type": "code",
   "execution_count": null,
   "metadata": {
    "collapsed": true
   },
   "outputs": [],
   "source": []
  },
  {
   "cell_type": "code",
   "execution_count": 2,
   "metadata": {
    "collapsed": true
   },
   "outputs": [],
   "source": [
    "import re"
   ]
  },
  {
   "cell_type": "code",
   "execution_count": 3,
   "metadata": {
    "collapsed": false
   },
   "outputs": [
    {
     "data": {
      "text/plain": [
       "True"
      ]
     },
     "execution_count": 3,
     "metadata": {},
     "output_type": "execute_result"
    }
   ],
   "source": [
    "s='foo123bar'\n",
    "'123' in s"
   ]
  },
  {
   "cell_type": "code",
   "execution_count": 6,
   "metadata": {
    "collapsed": false
   },
   "outputs": [
    {
     "name": "stdout",
     "output_type": "stream",
     "text": [
      "3\n",
      "3\n"
     ]
    }
   ],
   "source": [
    "s = 'foo123bar'\n",
    "\n",
    "print(s.find('123'))\n",
    "print(s.index('123'))"
   ]
  },
  {
   "cell_type": "code",
   "execution_count": 25,
   "metadata": {
    "collapsed": false
   },
   "outputs": [
    {
     "data": {
      "text/plain": [
       "['foo',\n",
       " '123',\n",
       " 'ba3',\n",
       " '4xa',\n",
       " 'wut',\n",
       " '#666',\n",
       " 'or134ge',\n",
       " 'ap&ple',\n",
       " '@colby',\n",
       " '#123',\n",
       " 'Michael',\n",
       " 'Jx1']"
      ]
     },
     "execution_count": 25,
     "metadata": {},
     "output_type": "execute_result"
    }
   ],
   "source": [
    "s = 'foo 123 ba3 4xa wut #666 or134ge ap&ple @colby \\\n",
    "#123 Michael Jx1'\n",
    "s = s.split()\n",
    "s"
   ]
  },
  {
   "cell_type": "code",
   "execution_count": 26,
   "metadata": {
    "collapsed": false
   },
   "outputs": [
    {
     "name": "stdout",
     "output_type": "stream",
     "text": [
      "123\n",
      "#123\n"
     ]
    }
   ],
   "source": [
    "s = 'foo 123 ba3 4xa wut #666 or134ge ap&ple @colby \\\n",
    "#123 Michael Jx1'\n",
    "s = s.split()\n",
    "\n",
    "for w in s:\n",
    "    if re.search('123', w):\n",
    "        print w"
   ]
  },
  {
   "cell_type": "code",
   "execution_count": 27,
   "metadata": {
    "collapsed": false
   },
   "outputs": [
    {
     "name": "stdout",
     "output_type": "stream",
     "text": [
      "123\n",
      "#666\n",
      "or134ge\n",
      "#123\n"
     ]
    }
   ],
   "source": [
    "s = 'foo 123 ba3 4xa wut #666 or134ge ap&ple @colby \\\n",
    "#123 Michael Jx1'\n",
    "s = s.split()\n",
    "for w in s:\n",
    "    if re.search('[0-9][0-9][0-9]', w):\n",
    "        print w"
   ]
  },
  {
   "cell_type": "code",
   "execution_count": 28,
   "metadata": {
    "collapsed": false
   },
   "outputs": [
    {
     "name": "stdout",
     "output_type": "stream",
     "text": [
      "4xa\n",
      "or134ge\n"
     ]
    }
   ],
   "source": [
    "s = 'foo 123 ba3 4xa wut #666 or134ge ap&ple @colby \\\n",
    "#123 Michael Jx1'\n",
    "s = s.split()\n",
    "\n",
    "for w in s:\n",
    "    if re.search('[0-9][a-z][a-z]', w):\n",
    "        print w"
   ]
  },
  {
   "cell_type": "code",
   "execution_count": 30,
   "metadata": {
    "collapsed": false
   },
   "outputs": [
    {
     "name": "stdout",
     "output_type": "stream",
     "text": [
      "Jx1\n"
     ]
    }
   ],
   "source": [
    "s = 'foo 123 ba3 4xa wut #666 or134ge ap&ple @colby \\\n",
    "#123 Michael Jx1'\n",
    "s = s.split()\n",
    "\n",
    "for w in s:\n",
    "    if re.search('[A-Z][a-z][0-9]', w):\n",
    "        print w"
   ]
  },
  {
   "cell_type": "code",
   "execution_count": 34,
   "metadata": {
    "collapsed": false
   },
   "outputs": [
    {
     "name": "stdout",
     "output_type": "stream",
     "text": [
      "wut\n"
     ]
    }
   ],
   "source": [
    "# the dot (.) metacharacter matches any character \n",
    "# except a newline, so it functions like a wildcard\n",
    "\n",
    "s = 'foo 123 ba3 4xa wut #666 or134ge ap&ple @colby \\\n",
    "#123 Michael Jx1'\n",
    "s = s.split()\n",
    "\n",
    "for w in s:\n",
    "    if re.search('..t', w):\n",
    "        print w"
   ]
  },
  {
   "cell_type": "code",
   "execution_count": 36,
   "metadata": {
    "collapsed": false
   },
   "outputs": [
    {
     "name": "stdout",
     "output_type": "stream",
     "text": [
      "ba3\n",
      "Michael\n"
     ]
    }
   ],
   "source": [
    "s = 'foo 123 ba3 4xa wut #666 or134ge ap&ple @colby \\\n",
    "#123 Michael Jx1'\n",
    "s = s.split()\n",
    "\n",
    "for w in s:\n",
    "    if re.search('.a.', w):\n",
    "        print w"
   ]
  },
  {
   "cell_type": "code",
   "execution_count": 38,
   "metadata": {
    "collapsed": false
   },
   "outputs": [
    {
     "name": "stdout",
     "output_type": "stream",
     "text": [
      "ba3\n"
     ]
    }
   ],
   "source": [
    "# the character (^) \n",
    "# ∙ Anchors a match at the start of a string\n",
    "# ∙ Complements a character class\n",
    "s = 'foo 123 ba3 4xa wut #666 or134ge ap&ple @colby \\\n",
    "#123 Michael Jx1'\n",
    "s = s.split()\n",
    "\n",
    "for w in s:\n",
    "    if re.search('^.a.', w):\n",
    "        print w"
   ]
  },
  {
   "cell_type": "code",
   "execution_count": 44,
   "metadata": {
    "collapsed": false
   },
   "outputs": [
    {
     "name": "stdout",
     "output_type": "stream",
     "text": [
      "ae4\n",
      "Michael\n"
     ]
    }
   ],
   "source": [
    "# the character ($) \n",
    "# ∙ Anchors a match at the end of a string\n",
    "s = 'foo 123 ba3 4xa ae4 wut #666 or134ge ap&ple @colby \\\n",
    "#123 Michael Jx1'\n",
    "s = s.split()\n",
    "\n",
    "for w in s:\n",
    "    if re.search('.e.$', w):\n",
    "        print w"
   ]
  },
  {
   "cell_type": "code",
   "execution_count": 54,
   "metadata": {
    "collapsed": false
   },
   "outputs": [
    {
     "name": "stdout",
     "output_type": "stream",
     "text": [
      "@colby\n"
     ]
    }
   ],
   "source": [
    "# the character (*) \n",
    "# Matches zero or more repetitions\n",
    "s = 'foo 123 ba3 4xa ae4 wut #666 or134ge ap&ple @colby \\\n",
    "#123 Michael Jx1'\n",
    "s = s.split()\n",
    "\n",
    "for w in s:\n",
    "    if re.search('col*', w):\n",
    "        print w"
   ]
  },
  {
   "cell_type": "code",
   "execution_count": 56,
   "metadata": {
    "collapsed": false
   },
   "outputs": [
    {
     "name": "stdout",
     "output_type": "stream",
     "text": [
      "foo\n"
     ]
    }
   ],
   "source": [
    "# the character (+) \n",
    "# Matches zero or more repetitions\n",
    "s = 'foo 123 ba3 4xa ae4 wut #666 or134ge ap&ple @colby \\\n",
    "#123 Michael Jx1'\n",
    "s = s.split()\n",
    "\n",
    "for w in s:\n",
    "    if re.search('f+', w):\n",
    "        print w"
   ]
  },
  {
   "cell_type": "code",
   "execution_count": 68,
   "metadata": {
    "collapsed": false
   },
   "outputs": [
    {
     "name": "stdout",
     "output_type": "stream",
     "text": [
      "foo\n",
      "feo\n",
      "fxo\n",
      "###\n",
      "foo\n",
      "feo\n",
      "fxo\n"
     ]
    }
   ],
   "source": [
    "# [] Specifies a character class\n",
    "s = 'foo feo fxo 123 ba3 4xa ae4 wut #666 or134ge ap&ple @colby \\\n",
    "#123 Michael Jx1'\n",
    "s = s.split()\n",
    "\n",
    "for w in s:\n",
    "    if re.search('f[oaex]', w):\n",
    "        print w\n",
    "    \n",
    "print ('###')\n",
    "\n",
    "for w in s:\n",
    "    if re.search('f[a-z]', w):\n",
    "        print w"
   ]
  },
  {
   "cell_type": "code",
   "execution_count": 76,
   "metadata": {
    "collapsed": false
   },
   "outputs": [
    {
     "name": "stdout",
     "output_type": "stream",
     "text": [
      "123\n",
      "ba3\n",
      "4xa\n",
      "ae4\n",
      "#666\n",
      "or134ge\n",
      "#123\n",
      "Jx1\n"
     ]
    }
   ],
   "source": [
    "s = 'foo feo fxo 123 ba3 4xa ae4 wut #666 or134ge ap&ple @colby \\\n",
    "#123 Michael Jx1'\n",
    "s = s.split()\n",
    "\n",
    "for w in s:\n",
    "    if re.search('[0-90-9]', w): # this is similar to '[0-9]'\n",
    "        print w"
   ]
  },
  {
   "cell_type": "code",
   "execution_count": 79,
   "metadata": {
    "collapsed": false
   },
   "outputs": [
    {
     "name": "stdout",
     "output_type": "stream",
     "text": [
      "w-t\n"
     ]
    }
   ],
   "source": [
    "s = 'foo feo fxo 123 ba3 4xa ae4 w-t #666 or134ge ap&ple @colby \\\n",
    "#123 Michael Jx1'\n",
    "s = s.split()\n",
    "\n",
    "for w in s:\n",
    "    if re.search('[w\\-t]', w): # \n",
    "        print w"
   ]
  },
  {
   "cell_type": "code",
   "execution_count": 85,
   "metadata": {
    "collapsed": false
   },
   "outputs": [
    {
     "name": "stdout",
     "output_type": "stream",
     "text": [
      "foo\n",
      "feo\n",
      "fxo\n",
      "123\n",
      "ba3\n",
      "4xa\n",
      "ae4\n",
      "w-t\n",
      "#666\n",
      "or134ge\n",
      "ap&ple\n",
      "@colby\n",
      "#123\n",
      "Michael\n",
      "Jx1\n"
     ]
    }
   ],
   "source": [
    "for w in s:\n",
    "    if re.search('[\\w]', w): # this is similar to [a-zA-Z0-9_]\n",
    "        print w"
   ]
  },
  {
   "cell_type": "code",
   "execution_count": 87,
   "metadata": {
    "collapsed": false
   },
   "outputs": [
    {
     "name": "stdout",
     "output_type": "stream",
     "text": [
      "w-t\n",
      "#666\n",
      "ap&ple\n",
      "@colby\n",
      "#123\n"
     ]
    }
   ],
   "source": [
    "for w in s:\n",
    "    if re.search('[\\W]', w): # this is similar to [^a-zA-Z0-9_]\n",
    "        print w"
   ]
  },
  {
   "cell_type": "code",
   "execution_count": 91,
   "metadata": {
    "collapsed": false
   },
   "outputs": [
    {
     "name": "stdout",
     "output_type": "stream",
     "text": [
      "123\n",
      "ba3\n",
      "4xa\n",
      "ae4\n",
      "#666\n",
      "or134ge\n",
      "#123\n",
      "Jx1\n"
     ]
    }
   ],
   "source": [
    "s = 'foo feo fxo 123 ba3 4xa ae4 w-t #666 or134ge ap&ple @colby \\\n",
    "#123 Michael Jx1'\n",
    "s = s.split()\n",
    "\n",
    "# \\d matches any decimal digit character. \n",
    "# \\D is the opposite. It matches any character \n",
    "# that isn’t a decimal digit:\n",
    "    \n",
    "for w in s:\n",
    "    if re.search('[\\d]', w): # \n",
    "        print w"
   ]
  },
  {
   "cell_type": "code",
   "execution_count": 92,
   "metadata": {
    "collapsed": false
   },
   "outputs": [
    {
     "name": "stdout",
     "output_type": "stream",
     "text": [
      "foo\n",
      "feo\n",
      "fxo\n",
      "ba3\n",
      "4xa\n",
      "ae4\n",
      "w-t\n",
      "#666\n",
      "or134ge\n",
      "ap&ple\n",
      "@colby\n",
      "#123\n",
      "Michael\n",
      "Jx1\n"
     ]
    }
   ],
   "source": [
    "for w in s:\n",
    "    if re.search('[\\D]', w): # \n",
    "        print w"
   ]
  },
  {
   "cell_type": "code",
   "execution_count": 95,
   "metadata": {
    "collapsed": false
   },
   "outputs": [],
   "source": [
    "s = 'foo feo fxo 123 ba3 4xa ae4 w-t #666 or134ge ap&ple @colby \\\n",
    "#123 Michael Jx1'\n",
    "s = s.split()\n",
    "\n",
    "# \\s matches any whitespace character:\n",
    "# \\S is the opposite of \\s\n",
    "    \n",
    "for w in s:\n",
    "    if re.search('\\s', w): # \n",
    "        print w"
   ]
  },
  {
   "cell_type": "code",
   "execution_count": 103,
   "metadata": {
    "collapsed": false
   },
   "outputs": [
    {
     "name": "stdout",
     "output_type": "stream",
     "text": [
      "123\n",
      "#666\n",
      "or134ge\n",
      "#123\n"
     ]
    }
   ],
   "source": [
    "for w in s:\n",
    "    if re.search('[\\w][\\d][\\d]', w): # \n",
    "        print w"
   ]
  },
  {
   "cell_type": "code",
   "execution_count": 104,
   "metadata": {
    "collapsed": false
   },
   "outputs": [
    {
     "name": "stdout",
     "output_type": "stream",
     "text": [
      "123\n",
      "#666\n",
      "or134ge\n",
      "#123\n"
     ]
    }
   ],
   "source": [
    "for w in s:\n",
    "    if re.search('[\\w][0-9][0-9]', w): # \n",
    "        print w"
   ]
  },
  {
   "cell_type": "code",
   "execution_count": 111,
   "metadata": {
    "collapsed": false
   },
   "outputs": [
    {
     "name": "stdout",
     "output_type": "stream",
     "text": [
      "foo\n",
      "feo\n",
      "fxo\n",
      "123\n",
      "ba3\n",
      "4xa\n",
      "ae4\n",
      "w-t\n",
      "#666\n"
     ]
    }
   ],
   "source": [
    "s = 'foo feo fxo 123 ba3 4xa ae4 w-t #666'\n",
    "s = s.split()\n",
    "# [\\d\\w\\s] matches any digit, word, or whitespace character\n",
    "for w in s:\n",
    "    if re.search('[\\d\\w\\s]', w): # \n",
    "        print w"
   ]
  },
  {
   "cell_type": "code",
   "execution_count": null,
   "metadata": {
    "collapsed": true
   },
   "outputs": [],
   "source": []
  }
 ],
 "metadata": {
  "kernelspec": {
   "display_name": "Python 2",
   "language": "python",
   "name": "python2"
  },
  "language_info": {
   "codemirror_mode": {
    "name": "ipython",
    "version": 2
   },
   "file_extension": ".py",
   "mimetype": "text/x-python",
   "name": "python",
   "nbconvert_exporter": "python",
   "pygments_lexer": "ipython2",
   "version": "2.7.13"
  }
 },
 "nbformat": 4,
 "nbformat_minor": 0
}
